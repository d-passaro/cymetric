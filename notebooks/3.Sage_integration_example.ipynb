{
 "cells": [
  {
   "cell_type": "markdown",
   "metadata": {},
   "source": [
    "# Example: Random KS model (we just take any with Picard Rank 2)"
   ]
  },
  {
   "cell_type": "code",
   "execution_count": 1,
   "metadata": {},
   "outputs": [],
   "source": [
    "# some general packages\n",
    "import numpy as np\n",
    "import os\n",
    "import pickle\n",
    "\n",
    "# ML packages\n",
    "import tensorflow as tf\n",
    "\n",
    "# data generation\n",
    "from cymetric.pointgen.pointgen_mathematica import ToricPointGeneratorMathematica\n",
    "from cymetric.pointgen.nphelper import prepare_dataset, prepare_basis_pickle\n",
    "from cymetric.models.tfhelper import prepare_tf_basis\n",
    "\n",
    "# training\n",
    "from cymetric.models.tfmodels import PhiFSModelToric\n",
    "from cymetric.models.callbacks import SigmaCallback, TransitionCallback, RicciCallback, VolkCallback\n",
    "from cymetric.models.metrics import SigmaLoss, TransitionLoss, RicciLoss, VolkLoss\n",
    "from cymetric.models.measures import sigma_measure, transition_measure_loss, ricci_measure"
   ]
  },
  {
   "cell_type": "markdown",
   "metadata": {},
   "source": [
    "## Compute toric information"
   ]
  },
  {
   "cell_type": "code",
   "execution_count": 2,
   "metadata": {
    "scrolled": false
   },
   "outputs": [
    {
     "data": {
      "text/plain": [
       "['dim_cy',\n",
       " 'vol_j_norm',\n",
       " 'coeff_aK',\n",
       " 'exp_aK',\n",
       " 'exps_sections',\n",
       " 'patch_masks',\n",
       " 'glsm_charges',\n",
       " 'non_ci_coeffs',\n",
       " 'non_ci_exps',\n",
       " 'int_nums']"
      ]
     },
     "execution_count": 2,
     "metadata": {},
     "output_type": "execute_result"
    }
   ],
   "source": [
    "# sage integration .restrict_to_regular_triangulations()\n",
    "from cymetric.sage.sagelib import prepare_toric_cy_data\n",
    "\n",
    "work_dir = \"./ToricModel\"\n",
    "vertices = [[1, 0, 0, 0], [0, 1, 0, 0], [0, 0, 1, 0], [0, 0, 0, 1], [-1, -1, -1, 0], [2, 0, 0, -1]]  # P2 fibered over P2\n",
    "polytope = LatticePolytope(vertices)\n",
    "pConfig = PointConfiguration(polytope.points(), star=[0 for _ in range(len(vertices[0]))])\n",
    "triangs = pConfig.restrict_to_connected_triangulations().restrict_to_fine_triangulations().restrict_to_star_triangulations([0 for _ in range(len(vertices[0]))]).triangulations_list()\n",
    "triang = triangs[0]\n",
    "tv_fan = triang.fan()\n",
    "tv = ToricVariety(tv_fan)\n",
    "\n",
    "toric_data = prepare_toric_cy_data(tv, os.path.join(work_dir, \"toric_data.pickle\"))\n",
    "list(toric_data.keys())"
   ]
  },
  {
   "cell_type": "markdown",
   "metadata": {},
   "source": [
    "## Generate points"
   ]
  },
  {
   "cell_type": "code",
   "execution_count": 3,
   "metadata": {},
   "outputs": [],
   "source": [
    "work_dir = \"./ToricModel\"\n",
    "with open(os.path.join(work_dir, 'toric_data.pickle'), 'rb') as f:\n",
    "    toric_data = pickle.load(f)\n",
    "num_pts       = int(100000)\n",
    "precision     = int(10)\n",
    "verbose       = int(1)\n",
    "kmoduli       = np.ones(len(toric_data['exps_sections']))"
   ]
  },
  {
   "cell_type": "code",
   "execution_count": 4,
   "metadata": {},
   "outputs": [],
   "source": [
    "mathematica_pointgen = ToricPointGeneratorMathematica(toric_data, \n",
    "                                                      kmoduli, \n",
    "                                                      precision=precision, \n",
    "                                                      verbose=verbose)"
   ]
  },
  {
   "cell_type": "code",
   "execution_count": 5,
   "metadata": {},
   "outputs": [
    {
     "name": "stderr",
     "output_type": "stream",
     "text": [
      "WolframKernel-<tcp://127.0.0.1:57298>:INFO:Connected to logging socket: tcp://127.0.0.1:57298\n",
      "WolframKernel-<tcp://127.0.0.1:57298>:DEBUG:Evaluating a new expression.\n",
      "pointgenMathematica:DEBUG:Running with 10 Mathematica kernels.\n",
      "pointgenMathematica:DEBUG:Initializing generation of 100000 points...\n",
      "WolframKernel-<tcp://127.0.0.1:57298>:INFO:Number of points on CY from one ambient space intersection: 4\n",
      "WolframKernel-<tcp://127.0.0.1:57298>:INFO:Now generating 100000 points...\n",
      "WolframKernel-<tcp://127.0.0.1:57298>:INFO:Generated 0% of points\n",
      "WolframKernel-<tcp://127.0.0.1:57298>:INFO:Generated 5% of points\n",
      "WolframKernel-<tcp://127.0.0.1:57298>:INFO:Generated 10% of points\n",
      "WolframKernel-<tcp://127.0.0.1:57298>:INFO:Generated 15% of points\n",
      "WolframKernel-<tcp://127.0.0.1:57298>:INFO:Generated 20% of points\n",
      "WolframKernel-<tcp://127.0.0.1:57298>:INFO:Generated 25% of points\n",
      "WolframKernel-<tcp://127.0.0.1:57298>:INFO:Generated 30% of points\n",
      "WolframKernel-<tcp://127.0.0.1:57298>:INFO:Generated 35% of points\n",
      "WolframKernel-<tcp://127.0.0.1:57298>:INFO:Generated 40% of points\n",
      "WolframKernel-<tcp://127.0.0.1:57298>:INFO:Generated 45% of points\n",
      "WolframKernel-<tcp://127.0.0.1:57298>:INFO:Generated 50% of points\n",
      "WolframKernel-<tcp://127.0.0.1:57298>:INFO:Generated 55% of points\n",
      "WolframKernel-<tcp://127.0.0.1:57298>:INFO:Generated 60% of points\n",
      "WolframKernel-<tcp://127.0.0.1:57298>:INFO:Generated 65% of points\n",
      "WolframKernel-<tcp://127.0.0.1:57298>:INFO:Generated 70% of points\n",
      "WolframKernel-<tcp://127.0.0.1:57298>:INFO:Generated 75% of points\n",
      "WolframKernel-<tcp://127.0.0.1:57298>:INFO:Generated 80% of points\n",
      "WolframKernel-<tcp://127.0.0.1:57298>:INFO:Generated 85% of points\n",
      "WolframKernel-<tcp://127.0.0.1:57298>:INFO:Generated 90% of points\n",
      "WolframKernel-<tcp://127.0.0.1:57298>:INFO:Generated 95% of points\n",
      "WolframKernel-<tcp://127.0.0.1:57298>:INFO:done.\n",
      "/Users/ruehle/venv-ml/lib/python3.8/site-packages/numpy/linalg/linalg.py:2146: RuntimeWarning: divide by zero encountered in det\n",
      "  r = _umath_linalg.det(a, signature=signature)\n",
      "/Users/ruehle/venv-ml/lib/python3.8/site-packages/numpy/linalg/linalg.py:2146: RuntimeWarning: invalid value encountered in det\n",
      "  r = _umath_linalg.det(a, signature=signature)\n"
     ]
    },
    {
     "data": {
      "text/plain": [
       "0"
      ]
     },
     "execution_count": 5,
     "metadata": {},
     "output_type": "execute_result"
    }
   ],
   "source": [
    "kappa = mathematica_pointgen.prepare_dataset(num_pts, work_dir)\n",
    "prepare_basis_pickle(mathematica_pointgen, work_dir, kappa)"
   ]
  },
  {
   "cell_type": "markdown",
   "metadata": {},
   "source": [
    "## set up NN"
   ]
  },
  {
   "cell_type": "markdown",
   "metadata": {},
   "source": [
    "load in data"
   ]
  },
  {
   "cell_type": "code",
   "execution_count": 6,
   "metadata": {},
   "outputs": [],
   "source": [
    "tf.get_logger().setLevel('ERROR')\n",
    "data = np.load(os.path.join(work_dir, 'dataset.npz'))\n",
    "toric_data = np.load(os.path.join(work_dir, 'toric_data.pickle'), allow_pickle=True)\n",
    "BASIS = prepare_tf_basis(np.load(os.path.join(work_dir, 'basis.pickle'), allow_pickle=True))"
   ]
  },
  {
   "cell_type": "markdown",
   "metadata": {},
   "source": [
    "set up NN callbacks (info on training process)"
   ]
  },
  {
   "cell_type": "code",
   "execution_count": 7,
   "metadata": {},
   "outputs": [],
   "source": [
    "scb = SigmaCallback((data['X_val'], data['y_val']))\n",
    "tcb = TransitionCallback((data['X_val'], data['y_val']))\n",
    "rcb = RicciCallback((data['X_val'], data['y_val']), data['val_pullbacks'])\n",
    "volkck = VolkCallback((data['X_val'], data['y_val']))\n",
    "cb_list = [scb, tcb, rcb, volkck]\n",
    "\n",
    "cmetrics = [SigmaLoss(), TransitionLoss(), VolkLoss(), RicciLoss()]"
   ]
  },
  {
   "cell_type": "markdown",
   "metadata": {},
   "source": [
    "define the NN hyperparameters (wrapping everything in int() and float() is necessary in sage)"
   ]
  },
  {
   "cell_type": "code",
   "execution_count": 8,
   "metadata": {},
   "outputs": [],
   "source": [
    "nfold      = int(BASIS['NFOLD'].numpy().real)\n",
    "amb        = [int(6)]\n",
    "n_in       = int(12)\n",
    "n_out      = int(1)\n",
    "n_hiddens  = [int(64), int(64), int(64)]\n",
    "acts       = ['gelu', 'gelu', 'gelu']\n",
    "n_epochs   = int(30)\n",
    "batch_size = int(64)\n",
    "alpha      = [float(1.), float(1.), float(1.), float(1.), float(1.)]"
   ]
  },
  {
   "cell_type": "markdown",
   "metadata": {},
   "source": [
    "initialize the NN and the Toric Phi Model"
   ]
  },
  {
   "cell_type": "code",
   "execution_count": 9,
   "metadata": {},
   "outputs": [],
   "source": [
    "model = tf.keras.Sequential()\n",
    "model.add(tf.keras.Input(shape=(int(n_in))))\n",
    "for n_hidden, act in zip(n_hiddens, acts):\n",
    "    model.add(tf.keras.layers.Dense(n_hidden, activation=act))\n",
    "model.add(tf.keras.layers.Dense(n_out, use_bias=False))\n",
    "\n",
    "fs_model = PhiFSModelToric(model, BASIS, alpha=alpha, toric_data=toric_data)\n",
    "fs_model.compile(custom_metrics=cmetrics, optimizer=tf.keras.optimizers.Adam(), loss=None)  # uses custom loss function in training step, so the argument we pass here is ignored"
   ]
  },
  {
   "cell_type": "markdown",
   "metadata": {},
   "source": [
    "Check the volume normailzation of our data"
   ]
  },
  {
   "cell_type": "code",
   "execution_count": 10,
   "metadata": {},
   "outputs": [
    {
     "name": "stderr",
     "output_type": "stream",
     "text": [
      "2022-02-15 12:08:40.903917: W tensorflow/core/platform/profile_utils/cpu_utils.cc:128] Failed to get CPU frequency: 0 Hz\n"
     ]
    },
    {
     "name": "stdout",
     "output_type": "stream",
     "text": [
      "Vol_K from triple intersection numbers at t1=t2=1:                 20\n",
      "Vol_K from MC integration over FS metric in Kahler class t1=t2=1:  20.01\n"
     ]
    }
   ],
   "source": [
    "dets = np.real(tf.linalg.det(fs_model.fubini_study_pb(tf.cast(data['X_train'], tf.float32))).numpy())\n",
    "weights, omegas = data['y_train'][:,-2], data['y_train'][:,-1]\n",
    "vol_k = np.mean(weights * dets / omegas)\n",
    "print(\"Vol_K from triple intersection numbers at t1=t2=1:                \", toric_data['vol_j_norm'])\n",
    "print(\"Vol_K from MC integration over FS metric in Kahler class t1=t2=1: \", np.round(vol_k, 2))"
   ]
  },
  {
   "cell_type": "code",
   "execution_count": 11,
   "metadata": {},
   "outputs": [
    {
     "data": {
      "text/plain": [
       "<tf.Tensor: shape=(10,), dtype=float32, numpy=\n",
       "array([0.31791428, 0.36093456, 0.3915063 , 0.25614372, 0.37344217,\n",
       "       0.31150854, 0.30871662, 0.45086208, 0.41309604, 0.5562054 ],\n",
       "      dtype=float32)>"
      ]
     },
     "execution_count": 11,
     "metadata": {},
     "output_type": "execute_result"
    }
   ],
   "source": [
    "fs_model.get_kahler_potential(data['X_train'][:10])"
   ]
  },
  {
   "cell_type": "markdown",
   "metadata": {},
   "source": [
    "## train NN"
   ]
  },
  {
   "cell_type": "code",
   "execution_count": 12,
   "metadata": {
    "scrolled": true
   },
   "outputs": [
    {
     "name": "stdout",
     "output_type": "stream",
     "text": [
      " - Sigma measure val:      0.4515\n",
      " - Transition measure val: 561.4224\n",
      " - Ricci measure val:      6.6736\n",
      " - Volk val:               22.9315\n",
      "Epoch 1/30\n"
     ]
    },
    {
     "name": "stderr",
     "output_type": "stream",
     "text": [
      "/Users/ruehle/venv-ml/lib/python3.8/site-packages/tensorflow/python/framework/indexed_slices.py:448: UserWarning: Converting sparse IndexedSlices(IndexedSlices(indices=Tensor(\"gradients/PartitionedCall_4_grad/PartitionedCall:1\", shape=(None,), dtype=int64), values=Tensor(\"gradients/PartitionedCall_4_grad/PartitionedCall:0\", shape=(None, 6), dtype=complex64), dense_shape=Tensor(\"gradients/PartitionedCall_4_grad/PartitionedCall:2\", shape=(2,), dtype=int32))) to a dense Tensor of unknown shape. This may consume a large amount of memory.\n",
      "  warnings.warn(\n"
     ]
    },
    {
     "name": "stdout",
     "output_type": "stream",
     "text": [
      "1407/1407 [==============================] - ETA: 0s - sigma_loss: 0.3651 - transition_loss: 1.8404 - volk_loss: 0.0063 - ricci_loss: 0.0000e+00 - Sigma measure val:      0.3534\n",
      " - Transition measure val: 412.7090\n",
      " - Ricci measure val:      5.2482\n",
      " - Volk val:               15.7818\n",
      "1407/1407 [==============================] - 90s 56ms/step - sigma_loss: 0.3651 - transition_loss: 1.8404 - volk_loss: 0.0063 - ricci_loss: 0.0000e+00 - sigma_val: 0.3534 - transition_val: 412.7090 - ricci_val: 5.2482 - volk_val: 15.7818\n",
      "Epoch 2/30\n",
      "1406/1407 [============================>.] - ETA: 0s - sigma_loss: 0.3151 - transition_loss: 1.8387 - volk_loss: 0.0051 - ricci_loss: 0.0000e+00 - Sigma measure val:      0.3430\n",
      " - Transition measure val: 679.0187\n",
      " - Ricci measure val:      5.4692\n",
      " - Volk val:               15.1683\n",
      "1407/1407 [==============================] - 80s 57ms/step - sigma_loss: 0.3150 - transition_loss: 1.8374 - volk_loss: 0.0051 - ricci_loss: 0.0000e+00 - sigma_val: 0.3430 - transition_val: 679.0187 - ricci_val: 5.4692 - volk_val: 15.1683\n",
      "Epoch 3/30\n",
      "1407/1407 [==============================] - ETA: 0s - sigma_loss: 0.3007 - transition_loss: 1.7339 - volk_loss: 0.0046 - ricci_loss: 0.0000e+00 - Sigma measure val:      0.3375\n",
      " - Transition measure val: 516.4914\n",
      " - Ricci measure val:      4.8937\n",
      " - Volk val:               16.0835\n",
      "1407/1407 [==============================] - 79s 56ms/step - sigma_loss: 0.3007 - transition_loss: 1.7339 - volk_loss: 0.0046 - ricci_loss: 0.0000e+00 - sigma_val: 0.3375 - transition_val: 516.4914 - ricci_val: 4.8937 - volk_val: 16.0835\n",
      "Epoch 4/30\n",
      "1406/1407 [============================>.] - ETA: 0s - sigma_loss: 0.2902 - transition_loss: 1.7632 - volk_loss: 0.0045 - ricci_loss: 0.0000e+00 - Sigma measure val:      0.3226\n",
      " - Transition measure val: 678.5211\n",
      " - Ricci measure val:      4.6820\n",
      " - Volk val:               15.2286\n",
      "1407/1407 [==============================] - 83s 59ms/step - sigma_loss: 0.2902 - transition_loss: 1.7620 - volk_loss: 0.0045 - ricci_loss: 0.0000e+00 - sigma_val: 0.3226 - transition_val: 678.5211 - ricci_val: 4.6820 - volk_val: 15.2286\n",
      "Epoch 5/30\n",
      "1407/1407 [==============================] - ETA: 0s - sigma_loss: 0.2816 - transition_loss: 1.5812 - volk_loss: 0.0039 - ricci_loss: 0.0000e+00 - Sigma measure val:      0.3164\n",
      " - Transition measure val: 615.8767\n",
      " - Ricci measure val:      5.2140\n",
      " - Volk val:               15.4817\n",
      "1407/1407 [==============================] - 83s 59ms/step - sigma_loss: 0.2816 - transition_loss: 1.5812 - volk_loss: 0.0039 - ricci_loss: 0.0000e+00 - sigma_val: 0.3164 - transition_val: 615.8767 - ricci_val: 5.2140 - volk_val: 15.4817\n",
      "Epoch 6/30\n",
      "1406/1407 [============================>.] - ETA: 0s - sigma_loss: 0.2737 - transition_loss: 1.6695 - volk_loss: 0.0046 - ricci_loss: 0.0000e+00 - Sigma measure val:      0.3108\n",
      " - Transition measure val: 740.2291\n",
      " - Ricci measure val:      4.7971\n",
      " - Volk val:               15.2473\n",
      "1407/1407 [==============================] - 82s 58ms/step - sigma_loss: 0.2737 - transition_loss: 1.6685 - volk_loss: 0.0046 - ricci_loss: 0.0000e+00 - sigma_val: 0.3108 - transition_val: 740.2291 - ricci_val: 4.7971 - volk_val: 15.2473\n",
      "Epoch 7/30\n",
      "1406/1407 [============================>.] - ETA: 0s - sigma_loss: 0.2649 - transition_loss: 1.7077 - volk_loss: 0.0037 - ricci_loss: 0.0000e+00 - Sigma measure val:      0.3041\n",
      " - Transition measure val: 726.2256\n",
      " - Ricci measure val:      5.1140\n",
      " - Volk val:               15.8995\n",
      "1407/1407 [==============================] - 83s 59ms/step - sigma_loss: 0.2648 - transition_loss: 1.7066 - volk_loss: 0.0037 - ricci_loss: 0.0000e+00 - sigma_val: 0.3041 - transition_val: 726.2256 - ricci_val: 5.1140 - volk_val: 15.8995\n",
      "Epoch 8/30\n",
      "1406/1407 [============================>.] - ETA: 0s - sigma_loss: 0.2589 - transition_loss: 1.8768 - volk_loss: 0.0039 - ricci_loss: 0.0000e+00 - Sigma measure val:      0.2980\n",
      " - Transition measure val: 555.4924\n",
      " - Ricci measure val:      5.1870\n",
      " - Volk val:               16.0483\n",
      "1407/1407 [==============================] - 80s 57ms/step - sigma_loss: 0.2589 - transition_loss: 1.8761 - volk_loss: 0.0039 - ricci_loss: 0.0000e+00 - sigma_val: 0.2980 - transition_val: 555.4924 - ricci_val: 5.1870 - volk_val: 16.0483\n",
      "Epoch 9/30\n",
      "1406/1407 [============================>.] - ETA: 0s - sigma_loss: 0.2521 - transition_loss: 2.1122 - volk_loss: 0.0038 - ricci_loss: 0.0000e+00 - Sigma measure val:      0.2985\n",
      " - Transition measure val: 1032.5902\n",
      " - Ricci measure val:      5.2004\n",
      " - Volk val:               16.2366\n",
      "1407/1407 [==============================] - 80s 57ms/step - sigma_loss: 0.2521 - transition_loss: 2.1107 - volk_loss: 0.0038 - ricci_loss: 0.0000e+00 - sigma_val: 0.2985 - transition_val: 1032.5902 - ricci_val: 5.2004 - volk_val: 16.2366\n",
      "Epoch 10/30\n",
      "1406/1407 [============================>.] - ETA: 0s - sigma_loss: 0.2466 - transition_loss: 2.5788 - volk_loss: 0.0035 - ricci_loss: 0.0000e+00 - Sigma measure val:      0.2919\n",
      " - Transition measure val: 533.0565\n",
      " - Ricci measure val:      6.0905\n",
      " - Volk val:               16.1873\n",
      "1407/1407 [==============================] - 80s 57ms/step - sigma_loss: 0.2467 - transition_loss: 2.5769 - volk_loss: 0.0035 - ricci_loss: 0.0000e+00 - sigma_val: 0.2919 - transition_val: 533.0565 - ricci_val: 6.0905 - volk_val: 16.1873\n",
      "Epoch 11/30\n",
      "1407/1407 [==============================] - ETA: 0s - sigma_loss: 0.2422 - transition_loss: 2.2917 - volk_loss: 0.0034 - ricci_loss: 0.0000e+00 - Sigma measure val:      0.2865\n",
      " - Transition measure val: 912.6057\n",
      " - Ricci measure val:      5.1164\n",
      " - Volk val:               16.0621\n",
      "1407/1407 [==============================] - 83s 59ms/step - sigma_loss: 0.2422 - transition_loss: 2.2917 - volk_loss: 0.0034 - ricci_loss: 0.0000e+00 - sigma_val: 0.2865 - transition_val: 912.6057 - ricci_val: 5.1164 - volk_val: 16.0621\n",
      "Epoch 12/30\n",
      "1406/1407 [============================>.] - ETA: 0s - sigma_loss: 0.2398 - transition_loss: 2.3159 - volk_loss: 0.0034 - ricci_loss: 0.0000e+00 - Sigma measure val:      0.2845\n",
      " - Transition measure val: 780.3099\n",
      " - Ricci measure val:      5.1381\n",
      " - Volk val:               15.7309\n",
      "1407/1407 [==============================] - 82s 58ms/step - sigma_loss: 0.2398 - transition_loss: 2.3142 - volk_loss: 0.0034 - ricci_loss: 0.0000e+00 - sigma_val: 0.2845 - transition_val: 780.3099 - ricci_val: 5.1381 - volk_val: 15.7309\n",
      "Epoch 13/30\n",
      "1406/1407 [============================>.] - ETA: 0s - sigma_loss: 0.2351 - transition_loss: 1.6355 - volk_loss: 0.0036 - ricci_loss: 0.0000e+00 - Sigma measure val:      0.2807\n",
      " - Transition measure val: 645.0729\n",
      " - Ricci measure val:      5.5523\n",
      " - Volk val:               16.6964\n",
      "1407/1407 [==============================] - 81s 58ms/step - sigma_loss: 0.2350 - transition_loss: 1.6343 - volk_loss: 0.0036 - ricci_loss: 0.0000e+00 - sigma_val: 0.2807 - transition_val: 645.0729 - ricci_val: 5.5523 - volk_val: 16.6964\n",
      "Epoch 14/30\n",
      "1407/1407 [==============================] - ETA: 0s - sigma_loss: 0.2319 - transition_loss: 2.3104 - volk_loss: 0.0034 - ricci_loss: 0.0000e+00 - Sigma measure val:      0.2799\n",
      " - Transition measure val: 607.9294\n",
      " - Ricci measure val:      5.3781\n",
      " - Volk val:               16.8159\n",
      "1407/1407 [==============================] - 81s 58ms/step - sigma_loss: 0.2319 - transition_loss: 2.3104 - volk_loss: 0.0034 - ricci_loss: 0.0000e+00 - sigma_val: 0.2799 - transition_val: 607.9294 - ricci_val: 5.3781 - volk_val: 16.8159\n",
      "Epoch 15/30\n",
      "1407/1407 [==============================] - ETA: 0s - sigma_loss: 0.2281 - transition_loss: 2.3392 - volk_loss: 0.0034 - ricci_loss: 0.0000e+00 - Sigma measure val:      0.2745\n",
      " - Transition measure val: 418.0234\n",
      " - Ricci measure val:      3.6752\n",
      " - Volk val:               17.0826\n",
      "1407/1407 [==============================] - 78s 55ms/step - sigma_loss: 0.2281 - transition_loss: 2.3392 - volk_loss: 0.0034 - ricci_loss: 0.0000e+00 - sigma_val: 0.2745 - transition_val: 418.0234 - ricci_val: 3.6752 - volk_val: 17.0826\n",
      "Epoch 16/30\n",
      "1406/1407 [============================>.] - ETA: 0s - sigma_loss: 0.2259 - transition_loss: 2.8753 - volk_loss: 0.0034 - ricci_loss: 0.0000e+00 - Sigma measure val:      0.2750\n",
      " - Transition measure val: 840.6137\n"
     ]
    },
    {
     "name": "stdout",
     "output_type": "stream",
     "text": [
      " - Ricci measure val:      5.6629\n",
      " - Volk val:               16.3181\n",
      "1407/1407 [==============================] - 81s 57ms/step - sigma_loss: 0.2259 - transition_loss: 2.8765 - volk_loss: 0.0034 - ricci_loss: 0.0000e+00 - sigma_val: 0.2750 - transition_val: 840.6137 - ricci_val: 5.6629 - volk_val: 16.3181\n",
      "Epoch 17/30\n",
      "1407/1407 [==============================] - ETA: 0s - sigma_loss: 0.2228 - transition_loss: 3.1058 - volk_loss: 0.0034 - ricci_loss: 0.0000e+00 - Sigma measure val:      0.2772\n",
      " - Transition measure val: 619.3763\n",
      " - Ricci measure val:      18.4173\n",
      " - Volk val:               16.9234\n",
      "1407/1407 [==============================] - 82s 58ms/step - sigma_loss: 0.2228 - transition_loss: 3.1058 - volk_loss: 0.0034 - ricci_loss: 0.0000e+00 - sigma_val: 0.2772 - transition_val: 619.3763 - ricci_val: 18.4173 - volk_val: 16.9234\n",
      "Epoch 18/30\n",
      "1407/1407 [==============================] - ETA: 0s - sigma_loss: 0.2203 - transition_loss: 2.8202 - volk_loss: 0.0034 - ricci_loss: 0.0000e+00 - Sigma measure val:      0.2708\n",
      " - Transition measure val: 314.7916\n",
      " - Ricci measure val:      5.5409\n",
      " - Volk val:               17.3316\n",
      "1407/1407 [==============================] - 80s 57ms/step - sigma_loss: 0.2203 - transition_loss: 2.8202 - volk_loss: 0.0034 - ricci_loss: 0.0000e+00 - sigma_val: 0.2708 - transition_val: 314.7916 - ricci_val: 5.5409 - volk_val: 17.3316\n",
      "Epoch 19/30\n",
      "1407/1407 [==============================] - ETA: 0s - sigma_loss: 0.2178 - transition_loss: 2.3028 - volk_loss: 0.0032 - ricci_loss: 0.0000e+00 - Sigma measure val:      0.2667\n",
      " - Transition measure val: 402.4124\n",
      " - Ricci measure val:      5.8254\n",
      " - Volk val:               16.9937\n",
      "1407/1407 [==============================] - 82s 58ms/step - sigma_loss: 0.2178 - transition_loss: 2.3028 - volk_loss: 0.0032 - ricci_loss: 0.0000e+00 - sigma_val: 0.2667 - transition_val: 402.4124 - ricci_val: 5.8254 - volk_val: 16.9937\n",
      "Epoch 20/30\n",
      "1407/1407 [==============================] - ETA: 0s - sigma_loss: 0.2150 - transition_loss: 3.0824 - volk_loss: 0.0035 - ricci_loss: 0.0000e+00 - Sigma measure val:      0.2642\n",
      " - Transition measure val: 1005.8147\n",
      " - Ricci measure val:      5.6451\n",
      " - Volk val:               16.7658\n",
      "1407/1407 [==============================] - 84s 59ms/step - sigma_loss: 0.2150 - transition_loss: 3.0824 - volk_loss: 0.0035 - ricci_loss: 0.0000e+00 - sigma_val: 0.2642 - transition_val: 1005.8147 - ricci_val: 5.6451 - volk_val: 16.7658\n",
      "Epoch 21/30\n",
      "1406/1407 [============================>.] - ETA: 0s - sigma_loss: 0.2127 - transition_loss: 1.9831 - volk_loss: 0.0034 - ricci_loss: 0.0000e+00 - Sigma measure val:      0.2633\n",
      " - Transition measure val: 619.1287\n",
      " - Ricci measure val:      5.3288\n",
      " - Volk val:               17.1364\n",
      "1407/1407 [==============================] - 80s 57ms/step - sigma_loss: 0.2128 - transition_loss: 1.9817 - volk_loss: 0.0034 - ricci_loss: 0.0000e+00 - sigma_val: 0.2633 - transition_val: 619.1287 - ricci_val: 5.3288 - volk_val: 17.1364\n",
      "Epoch 22/30\n",
      "1407/1407 [==============================] - ETA: 0s - sigma_loss: 0.2113 - transition_loss: 2.8556 - volk_loss: 0.0033 - ricci_loss: 0.0000e+00 - Sigma measure val:      0.2596\n",
      " - Transition measure val: 615.4789\n",
      " - Ricci measure val:      5.8002\n",
      " - Volk val:               17.2376\n",
      "1407/1407 [==============================] - 83s 59ms/step - sigma_loss: 0.2113 - transition_loss: 2.8556 - volk_loss: 0.0033 - ricci_loss: 0.0000e+00 - sigma_val: 0.2596 - transition_val: 615.4789 - ricci_val: 5.8002 - volk_val: 17.2376\n",
      "Epoch 23/30\n",
      "1407/1407 [==============================] - ETA: 0s - sigma_loss: 0.2087 - transition_loss: 2.8581 - volk_loss: 0.0032 - ricci_loss: 0.0000e+00 - Sigma measure val:      0.2586\n",
      " - Transition measure val: 805.8674\n",
      " - Ricci measure val:      5.6387\n",
      " - Volk val:               16.6954\n",
      "1407/1407 [==============================] - 83s 59ms/step - sigma_loss: 0.2087 - transition_loss: 2.8581 - volk_loss: 0.0032 - ricci_loss: 0.0000e+00 - sigma_val: 0.2586 - transition_val: 805.8674 - ricci_val: 5.6387 - volk_val: 16.6954\n",
      "Epoch 24/30\n",
      "1407/1407 [==============================] - ETA: 0s - sigma_loss: 0.2069 - transition_loss: 3.3338 - volk_loss: 0.0032 - ricci_loss: 0.0000e+00 - Sigma measure val:      0.2582\n",
      " - Transition measure val: 677.1536\n",
      " - Ricci measure val:      5.5339\n",
      " - Volk val:               16.9641\n",
      "1407/1407 [==============================] - 81s 57ms/step - sigma_loss: 0.2069 - transition_loss: 3.3338 - volk_loss: 0.0032 - ricci_loss: 0.0000e+00 - sigma_val: 0.2582 - transition_val: 677.1536 - ricci_val: 5.5339 - volk_val: 16.9641\n",
      "Epoch 25/30\n",
      "1406/1407 [============================>.] - ETA: 0s - sigma_loss: 0.2060 - transition_loss: 2.8602 - volk_loss: 0.0033 - ricci_loss: 0.0000e+00 - Sigma measure val:      0.2547\n",
      " - Transition measure val: 791.4707\n",
      " - Ricci measure val:      5.8225\n",
      " - Volk val:               16.5483\n",
      "1407/1407 [==============================] - 84s 60ms/step - sigma_loss: 0.2060 - transition_loss: 2.8582 - volk_loss: 0.0033 - ricci_loss: 0.0000e+00 - sigma_val: 0.2547 - transition_val: 791.4707 - ricci_val: 5.8225 - volk_val: 16.5483\n",
      "Epoch 26/30\n",
      "1406/1407 [============================>.] - ETA: 0s - sigma_loss: 0.2041 - transition_loss: 2.6462 - volk_loss: 0.0034 - ricci_loss: 0.0000e+00 - Sigma measure val:      0.2543\n",
      " - Transition measure val: 1089.5402\n",
      " - Ricci measure val:      5.5545\n",
      " - Volk val:               16.6534\n",
      "1407/1407 [==============================] - 84s 60ms/step - sigma_loss: 0.2042 - transition_loss: 2.6444 - volk_loss: 0.0034 - ricci_loss: 0.0000e+00 - sigma_val: 0.2543 - transition_val: 1089.5402 - ricci_val: 5.5545 - volk_val: 16.6534\n",
      "Epoch 27/30\n",
      "1406/1407 [============================>.] - ETA: 0s - sigma_loss: 0.2034 - transition_loss: 3.1318 - volk_loss: 0.0034 - ricci_loss: 0.0000e+00 - Sigma measure val:      0.2509\n",
      " - Transition measure val: 730.0768\n",
      " - Ricci measure val:      6.5446\n",
      " - Volk val:               16.9975\n",
      "1407/1407 [==============================] - 85s 60ms/step - sigma_loss: 0.2034 - transition_loss: 3.1296 - volk_loss: 0.0034 - ricci_loss: 0.0000e+00 - sigma_val: 0.2509 - transition_val: 730.0768 - ricci_val: 6.5446 - volk_val: 16.9975\n",
      "Epoch 28/30\n",
      "1406/1407 [============================>.] - ETA: 0s - sigma_loss: 0.2022 - transition_loss: 2.8765 - volk_loss: 0.0034 - ricci_loss: 0.0000e+00 - Sigma measure val:      0.2505\n",
      " - Transition measure val: 456.4838\n",
      " - Ricci measure val:      6.4811\n",
      " - Volk val:               17.0103\n",
      "1407/1407 [==============================] - 84s 60ms/step - sigma_loss: 0.2022 - transition_loss: 2.8744 - volk_loss: 0.0034 - ricci_loss: 0.0000e+00 - sigma_val: 0.2505 - transition_val: 456.4838 - ricci_val: 6.4811 - volk_val: 17.0103\n",
      "Epoch 29/30\n",
      "1407/1407 [==============================] - ETA: 0s - sigma_loss: 0.1997 - transition_loss: 2.4643 - volk_loss: 0.0033 - ricci_loss: 0.0000e+00 - Sigma measure val:      0.2553\n",
      " - Transition measure val: 504.5879\n",
      " - Ricci measure val:      5.7183\n",
      " - Volk val:               16.7358\n",
      "1407/1407 [==============================] - 87s 62ms/step - sigma_loss: 0.1997 - transition_loss: 2.4643 - volk_loss: 0.0033 - ricci_loss: 0.0000e+00 - sigma_val: 0.2553 - transition_val: 504.5879 - ricci_val: 5.7183 - volk_val: 16.7358\n",
      "Epoch 30/30\n",
      "1407/1407 [==============================] - ETA: 0s - sigma_loss: 0.1984 - transition_loss: 2.5210 - volk_loss: 0.0035 - ricci_loss: 0.0000e+00 - Sigma measure val:      0.2492\n",
      " - Transition measure val: 855.3795\n",
      " - Ricci measure val:      2.3946\n",
      " - Volk val:               16.9276\n",
      "1407/1407 [==============================] - 86s 61ms/step - sigma_loss: 0.1984 - transition_loss: 2.5210 - volk_loss: 0.0035 - ricci_loss: 0.0000e+00 - sigma_val: 0.2492 - transition_val: 855.3795 - ricci_val: 2.3946 - volk_val: 16.9276\n"
     ]
    }
   ],
   "source": [
    "os.environ['TF_CPP_MIN_LOG_LEVEL'] = '0'  # mostly silences TF logger\n",
    "history = fs_model.fit(data['X_train'], data['y_train'], epochs=n_epochs, batch_size=batch_size, verbose=1, callbacks=cb_list)"
   ]
  },
  {
   "cell_type": "markdown",
   "metadata": {},
   "source": [
    "## Plot the results"
   ]
  },
  {
   "cell_type": "code",
   "execution_count": 13,
   "metadata": {},
   "outputs": [],
   "source": [
    "import matplotlib.pyplot as plt\n",
    "import seaborn as sns\n",
    "import pandas as pd\n",
    "sns.set_style(\"darkgrid\")"
   ]
  },
  {
   "cell_type": "markdown",
   "metadata": {},
   "source": [
    "Note that vol_k val should be constant (and equal to 20.0). So in this case, it is off by 15%)"
   ]
  },
  {
   "cell_type": "code",
   "execution_count": 14,
   "metadata": {
    "scrolled": false
   },
   "outputs": [
    {
     "data": {
      "image/png": "[encoded data removed]",
      "text/plain": [
       "<Figure size 720x720 with 4 Axes>"
      ]
     },
     "metadata": {},
     "output_type": "display_data"
    }
   ],
   "source": [
    "hist = history.history\n",
    "hist['epochs'] = list(range(n_epochs))\n",
    "hist_data = pd.DataFrame(hist)\n",
    "fig, [[ax1, ax2], [ax3, ax4]] = plt.subplots(2, 2, figsize=(10,10));\n",
    "ax1.set_title(\"Monge-Ampere loss\")\n",
    "sns.scatterplot(x='epochs', y='sigma_loss', data=hist_data, alpha=0.75, ax=ax1, label=\"train\")\n",
    "sns.scatterplot(x='epochs', y='sigma_val', data=hist_data, alpha=0.75, ax=ax1, label=\"val\")\n",
    "\n",
    "ax2.set_title(\"Vol_K loss\")\n",
    "sns.scatterplot(x='epochs', y='volk_loss', data=hist_data, alpha=0.75, ax=ax2, label=\"train\")\n",
    "sns.scatterplot(x='epochs', y='volk_val', data=hist_data, alpha=0.75, ax=ax2, label=\"val\")\n",
    "\n",
    "ax3.set_title(\"Transition loss\")\n",
    "sns.scatterplot(x='epochs', y='transition_val', data=hist_data, alpha=0.75, ax=ax3, label=\"val\")\n",
    "\n",
    "ax4.set_title(\"Ricci measure\")\n",
    "sns.scatterplot(x='sigma_val', y='ricci_val', data=hist_data, alpha=0.75, ax=ax4, label=\"test\");"
   ]
  },
  {
   "cell_type": "code",
   "execution_count": null,
   "metadata": {},
   "outputs": [],
   "source": []
  }
 ],
 "metadata": {
  "kernelspec": {
   "display_name": "SageMath 9.4",
   "language": "sage",
   "name": "sagemath-9.4"
  },
  "language": "python",
  "language_info": {
   "codemirror_mode": {
    "name": "ipython",
    "version": 3
   },
   "file_extension": ".py",
   "mimetype": "text/x-python",
   "name": "python",
   "nbconvert_exporter": "python",
   "pygments_lexer": "ipython3",
   "version": "3.9.5"
  }
 },
 "nbformat": 4,
 "nbformat_minor": 2
}
