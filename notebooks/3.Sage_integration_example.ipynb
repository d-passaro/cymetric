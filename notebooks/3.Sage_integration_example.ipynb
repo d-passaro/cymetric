{
 "cells": [
  {
   "cell_type": "markdown",
   "metadata": {},
   "source": [
    "# Example: Random KS model (we just take any with Picard Rank 2)"
   ]
  },
  {
   "cell_type": "code",
   "execution_count": 1,
   "metadata": {},
   "outputs": [],
   "source": [
    "# some general packages\n",
    "import numpy as np\n",
    "import os\n",
    "import pickle\n",
    "\n",
    "# ML packages\n",
    "import tensorflow as tf\n",
    "\n",
    "# data generation\n",
    "from cymetric.pointgen.pointgen_mathematica import ToricPointGeneratorMathematica\n",
    "from cymetric.pointgen.nphelper import prepare_dataset, prepare_basis_pickle\n",
    "from cymetric.models.tfhelper import prepare_tf_basis\n",
    "\n",
    "# training\n",
    "from cymetric.models.tfmodels import PhiFSModelToric\n",
    "from cymetric.models.callbacks import SigmaCallback, TransitionCallback, RicciCallback, VolkCallback\n",
    "from cymetric.models.metrics import SigmaLoss, TransitionLoss, RicciLoss, VolkLoss\n",
    "from cymetric.models.measures import sigma_measure, transition_measure_loss, ricci_measure"
   ]
  },
  {
   "cell_type": "markdown",
   "metadata": {},
   "source": [
    "## Compute toric information"
   ]
  },
  {
   "cell_type": "code",
   "execution_count": 2,
   "metadata": {},
   "outputs": [
    {
     "data": {
      "text/plain": [
       "['dim_cy',\n",
       " 'vol_j_norm',\n",
       " 'coeff_aK',\n",
       " 'exp_aK',\n",
       " 'exps_sections',\n",
       " 'patch_masks',\n",
       " 'glsm_charges',\n",
       " 'non_ci_coeffs',\n",
       " 'non_ci_exps',\n",
       " 'triple']"
      ]
     },
     "execution_count": 2,
     "metadata": {},
     "output_type": "execute_result"
    }
   ],
   "source": [
    "# sage integration\n",
    "from cymetric.sage.sagelib import prepare_toric_cy_data\n",
    "\n",
    "work_dir = \"./ToricModel\"\n",
    "vertices = [[1, 0, 0, 0], [0, 1, 0, 0], [0, 0, 1, 0], [0, 0, 0, 1], [-1, -1, -1, 0], [2, 0, 0, -1]]  # P2 fibered over P2\n",
    "polytope = LatticePolytope(vertices)\n",
    "pConfig = PointConfiguration(polytope.points(), star=[0 for _ in range(len(vertices[0]))])\n",
    "triangs = pConfig.restrict_to_connected_triangulations().restrict_to_fine_triangulations().restrict_to_regular_triangulations().restrict_to_star_triangulations([0 for _ in range(len(vertices[0]))]).triangulations_list()\n",
    "triang = triangs[0]\n",
    "tv_fan = triang.fan()\n",
    "tv = ToricVariety(tv_fan)\n",
    "\n",
    "toric_data = prepare_toric_cy_data(tv, os.path.join(work_dir, \"toric_data.pickle\"))\n",
    "list(toric_data.keys())"
   ]
  },
  {
   "cell_type": "markdown",
   "metadata": {},
   "source": [
    "## Generate points"
   ]
  },
  {
   "cell_type": "code",
   "execution_count": 3,
   "metadata": {},
   "outputs": [],
   "source": [
    "work_dir = \"./ToricModel\"\n",
    "with open(os.path.join(work_dir, 'toric_data.pickle'), 'rb') as f:\n",
    "    toric_data = pickle.load(f)\n",
    "num_pts       = int(100000)\n",
    "precision     = int(10)\n",
    "verbose       = int(1)\n",
    "kmoduli       = np.ones(len(toric_data['exps_sections']))"
   ]
  },
  {
   "cell_type": "code",
   "execution_count": 4,
   "metadata": {},
   "outputs": [],
   "source": [
    "mathematica_pointgen = ToricPointGeneratorMathematica(toric_data, \n",
    "                                                      kmoduli, \n",
    "                                                      precision=precision, \n",
    "                                                      verbose=verbose)"
   ]
  },
  {
   "cell_type": "code",
   "execution_count": 5,
   "metadata": {},
   "outputs": [
    {
     "name": "stderr",
     "output_type": "stream",
     "text": [
      "WolframKernel-<tcp://127.0.0.1:55054>:INFO:Connected to logging socket: tcp://127.0.0.1:55054\n",
      "WolframKernel-<tcp://127.0.0.1:55054>:DEBUG:Evaluating a new expression.\n",
      "pointgenMathematica:DEBUG:Running with 10 Mathematica kernels.\n",
      "pointgenMathematica:DEBUG:Initializing generation of 100000 points...\n",
      "WolframKernel-<tcp://127.0.0.1:55054>:INFO:Number of points on CY from one ambient space intersection: 4\n",
      "WolframKernel-<tcp://127.0.0.1:55054>:INFO:Now generating 100000 points...\n",
      "WolframKernel-<tcp://127.0.0.1:55054>:INFO:Generated 0% of points\n",
      "WolframKernel-<tcp://127.0.0.1:55054>:INFO:Generated 5% of points\n",
      "WolframKernel-<tcp://127.0.0.1:55054>:INFO:Generated 10% of points\n",
      "WolframKernel-<tcp://127.0.0.1:55054>:INFO:Generated 15% of points\n",
      "WolframKernel-<tcp://127.0.0.1:55054>:INFO:Generated 20% of points\n",
      "WolframKernel-<tcp://127.0.0.1:55054>:INFO:Generated 25% of points\n",
      "WolframKernel-<tcp://127.0.0.1:55054>:INFO:Generated 30% of points\n",
      "WolframKernel-<tcp://127.0.0.1:55054>:INFO:Generated 35% of points\n",
      "WolframKernel-<tcp://127.0.0.1:55054>:INFO:Generated 40% of points\n",
      "WolframKernel-<tcp://127.0.0.1:55054>:INFO:Generated 45% of points\n",
      "WolframKernel-<tcp://127.0.0.1:55054>:INFO:Generated 50% of points\n",
      "WolframKernel-<tcp://127.0.0.1:55054>:INFO:Generated 55% of points\n",
      "WolframKernel-<tcp://127.0.0.1:55054>:INFO:Generated 60% of points\n",
      "WolframKernel-<tcp://127.0.0.1:55054>:INFO:Generated 65% of points\n",
      "WolframKernel-<tcp://127.0.0.1:55054>:INFO:Generated 70% of points\n",
      "WolframKernel-<tcp://127.0.0.1:55054>:INFO:Generated 75% of points\n",
      "WolframKernel-<tcp://127.0.0.1:55054>:INFO:Generated 80% of points\n",
      "WolframKernel-<tcp://127.0.0.1:55054>:INFO:Generated 85% of points\n",
      "WolframKernel-<tcp://127.0.0.1:55054>:INFO:Generated 90% of points\n",
      "WolframKernel-<tcp://127.0.0.1:55054>:INFO:Generated 95% of points\n",
      "WolframKernel-<tcp://127.0.0.1:55054>:INFO:done.\n",
      "/Users/ruehle/venv-ml/lib/python3.8/site-packages/numpy/linalg/linalg.py:2146: RuntimeWarning: divide by zero encountered in det\n",
      "  r = _umath_linalg.det(a, signature=signature)\n",
      "/Users/ruehle/venv-ml/lib/python3.8/site-packages/numpy/linalg/linalg.py:2146: RuntimeWarning: invalid value encountered in det\n",
      "  r = _umath_linalg.det(a, signature=signature)\n"
     ]
    },
    {
     "data": {
      "text/plain": [
       "0"
      ]
     },
     "execution_count": 5,
     "metadata": {},
     "output_type": "execute_result"
    }
   ],
   "source": [
    "kappa = mathematica_pointgen.prepare_dataset(num_pts, work_dir)\n",
    "prepare_basis_pickle(mathematica_pointgen, work_dir, kappa)"
   ]
  },
  {
   "cell_type": "markdown",
   "metadata": {},
   "source": [
    "## set up NN"
   ]
  },
  {
   "cell_type": "markdown",
   "metadata": {},
   "source": [
    "load in data"
   ]
  },
  {
   "cell_type": "code",
   "execution_count": 6,
   "metadata": {},
   "outputs": [],
   "source": [
    "tf.get_logger().setLevel('ERROR')\n",
    "data = np.load(os.path.join(work_dir, 'dataset.npz'))\n",
    "toric_data = np.load(os.path.join(work_dir, 'toric_data.pickle'), allow_pickle=True)\n",
    "BASIS = prepare_tf_basis(np.load(os.path.join(work_dir, 'basis.pickle'), allow_pickle=True))"
   ]
  },
  {
   "cell_type": "markdown",
   "metadata": {},
   "source": [
    "set up NN callbacks (info on training process)"
   ]
  },
  {
   "cell_type": "code",
   "execution_count": 7,
   "metadata": {},
   "outputs": [],
   "source": [
    "scb = SigmaCallback((data['X_val'], data['y_val']))\n",
    "tcb = TransitionCallback((data['X_val'], data['y_val']))\n",
    "rcb = RicciCallback((data['X_val'], data['y_val']), data['val_pullbacks'])\n",
    "volkck = VolkCallback((data['X_val'], data['y_val']))\n",
    "cb_list = [scb, tcb, rcb, volkck]\n",
    "\n",
    "cmetrics = [SigmaLoss(), TransitionLoss(), VolkLoss(), RicciLoss()]"
   ]
  },
  {
   "cell_type": "markdown",
   "metadata": {},
   "source": [
    "define the NN hyperparameters (wrapping everything in int() and float() is necessary in sage)"
   ]
  },
  {
   "cell_type": "code",
   "execution_count": 8,
   "metadata": {},
   "outputs": [],
   "source": [
    "nfold      = int(BASIS['NFOLD'].numpy().real)\n",
    "amb        = [int(6)]\n",
    "n_in       = int(12)\n",
    "n_out      = int(1)\n",
    "n_hiddens  = [int(64), int(64), int(64)]\n",
    "acts       = ['gelu', 'gelu', 'gelu']\n",
    "n_epochs   = int(30)\n",
    "batch_size = int(64)\n",
    "alpha      = [float(1.), float(1.), float(1.), float(1.), float(1.)]"
   ]
  },
  {
   "cell_type": "markdown",
   "metadata": {},
   "source": [
    "initialize the NN and the Toric Phi Model"
   ]
  },
  {
   "cell_type": "code",
   "execution_count": 9,
   "metadata": {},
   "outputs": [],
   "source": [
    "model = tf.keras.Sequential()\n",
    "model.add(tf.keras.Input(shape=(int(n_in))))\n",
    "for n_hidden, act in zip(n_hiddens, acts):\n",
    "    model.add(tf.keras.layers.Dense(n_hidden, activation=act))\n",
    "model.add(tf.keras.layers.Dense(n_out, use_bias=False))\n",
    "\n",
    "fs_model = PhiFSModelToric(model, BASIS, alpha=alpha, toric_data=toric_data)\n",
    "fs_model.compile(custom_metrics=cmetrics, optimizer=tf.keras.optimizers.Adam(), loss=None)  # uses custom loss function in training step, so the argument we pass here is ignored"
   ]
  },
  {
   "cell_type": "markdown",
   "metadata": {},
   "source": [
    "Check the volume normailzation of our data"
   ]
  },
  {
   "cell_type": "code",
   "execution_count": 10,
   "metadata": {},
   "outputs": [
    {
     "name": "stderr",
     "output_type": "stream",
     "text": [
      "2022-02-04 14:28:15.653888: W tensorflow/core/platform/profile_utils/cpu_utils.cc:128] Failed to get CPU frequency: 0 Hz\n"
     ]
    },
    {
     "name": "stdout",
     "output_type": "stream",
     "text": [
      "Vol_K from triple intersection numbers at t1=t2=1:                 20\n",
      "Vol_K from MC integration over FS metric in Kahler class t1=t2=1:  20.0\n"
     ]
    }
   ],
   "source": [
    "dets = np.real(tf.linalg.det(fs_model.fubini_study_pb(tf.cast(data['X_train'], tf.float32))).numpy())\n",
    "weights, omegas = data['y_train'][:,-2], data['y_train'][:,-1]\n",
    "vol_k = np.mean(weights * dets / omegas)\n",
    "print(\"Vol_K from triple intersection numbers at t1=t2=1:                \", toric_data['vol_j_norm'])\n",
    "print(\"Vol_K from MC integration over FS metric in Kahler class t1=t2=1: \", np.round(vol_k, 2))"
   ]
  },
  {
   "cell_type": "markdown",
   "metadata": {},
   "source": [
    "## train NN"
   ]
  },
  {
   "cell_type": "code",
   "execution_count": 11,
   "metadata": {
    "scrolled": true
   },
   "outputs": [
    {
     "name": "stdout",
     "output_type": "stream",
     "text": [
      " - Sigma measure val:      0.4505\n",
      " - Transition measure val: 0.7575\n",
      " - Ricci measure val:      6.2720\n",
      " - Volk val:               20.6474\n",
      "Epoch 1/30\n"
     ]
    },
    {
     "name": "stderr",
     "output_type": "stream",
     "text": [
      "/Users/ruehle/venv-ml/lib/python3.8/site-packages/tensorflow/python/framework/indexed_slices.py:448: UserWarning: Converting sparse IndexedSlices(IndexedSlices(indices=Tensor(\"gradients/PartitionedCall_4_grad/PartitionedCall:1\", shape=(None,), dtype=int64), values=Tensor(\"gradients/PartitionedCall_4_grad/PartitionedCall:0\", shape=(None, 6), dtype=complex64), dense_shape=Tensor(\"gradients/PartitionedCall_4_grad/PartitionedCall:2\", shape=(2,), dtype=int32))) to a dense Tensor of unknown shape. This may consume a large amount of memory.\n",
      "  warnings.warn(\n"
     ]
    },
    {
     "name": "stdout",
     "output_type": "stream",
     "text": [
      "1407/1407 [==============================] - ETA: 0s - sigma_loss: 0.3628 - transition_loss: 39.6835 - volk_loss: 0.0061 - ricci_loss: 0.0000e+00 - Sigma measure val:      0.3527\n",
      " - Transition measure val: 1.6530\n",
      " - Ricci measure val:      9.3050\n",
      " - Volk val:               15.2590\n",
      "1407/1407 [==============================] - 90s 56ms/step - sigma_loss: 0.3628 - transition_loss: 39.6835 - volk_loss: 0.0061 - ricci_loss: 0.0000e+00 - sigma_val: 0.3527 - transition_val: 1.6530 - ricci_val: 9.3050 - volk_val: 15.2590\n",
      "Epoch 2/30\n",
      "1406/1407 [============================>.] - ETA: 0s - sigma_loss: 0.3138 - transition_loss: 85.9926 - volk_loss: 0.0047 - ricci_loss: 0.0000e+00 - Sigma measure val:      0.3402\n",
      " - Transition measure val: 2.1376\n",
      " - Ricci measure val:      -2.8538e+01\n",
      " - Volk val:               14.3035\n",
      "1407/1407 [==============================] - 78s 56ms/step - sigma_loss: 0.3137 - transition_loss: 85.9316 - volk_loss: 0.0047 - ricci_loss: 0.0000e+00 - sigma_val: 0.3402 - transition_val: 2.1376 - ricci_val: -28.5375 - volk_val: 14.3035\n",
      "Epoch 3/30\n",
      "1406/1407 [============================>.] - ETA: 0s - sigma_loss: 0.3005 - transition_loss: 92.2187 - volk_loss: 0.0040 - ricci_loss: 0.0000e+00 - Sigma measure val:      0.3369\n",
      " - Transition measure val: 2.1282\n",
      " - Ricci measure val:      4.9018\n",
      " - Volk val:               15.2164\n",
      "1407/1407 [==============================] - 79s 56ms/step - sigma_loss: 0.3005 - transition_loss: 92.1531 - volk_loss: 0.0040 - ricci_loss: 0.0000e+00 - sigma_val: 0.3369 - transition_val: 2.1282 - ricci_val: 4.9018 - volk_val: 15.2164\n",
      "Epoch 4/30\n",
      "1406/1407 [============================>.] - ETA: 0s - sigma_loss: 0.2920 - transition_loss: 83.8431 - volk_loss: 0.0040 - ricci_loss: 0.0000e+00 - Sigma measure val:      0.3302\n",
      " - Transition measure val: 2.0505\n",
      " - Ricci measure val:      5.0598\n",
      " - Volk val:               16.0426\n",
      "1407/1407 [==============================] - 77s 55ms/step - sigma_loss: 0.2920 - transition_loss: 83.7835 - volk_loss: 0.0040 - ricci_loss: 0.0000e+00 - sigma_val: 0.3302 - transition_val: 2.0505 - ricci_val: 5.0598 - volk_val: 16.0426\n",
      "Epoch 5/30\n",
      "1406/1407 [============================>.] - ETA: 0s - sigma_loss: 0.2836 - transition_loss: 93.1080 - volk_loss: 0.0036 - ricci_loss: 0.0000e+00 - Sigma measure val:      0.3283\n",
      " - Transition measure val: 2.1451\n",
      " - Ricci measure val:      5.2531\n",
      " - Volk val:               15.9847\n",
      "1407/1407 [==============================] - 78s 56ms/step - sigma_loss: 0.2836 - transition_loss: 93.0418 - volk_loss: 0.0036 - ricci_loss: 0.0000e+00 - sigma_val: 0.3283 - transition_val: 2.1451 - ricci_val: 5.2531 - volk_val: 15.9847\n",
      "Epoch 6/30\n",
      "1406/1407 [============================>.] - ETA: 0s - sigma_loss: 0.2777 - transition_loss: 77.1725 - volk_loss: 0.0037 - ricci_loss: 0.0000e+00 - Sigma measure val:      0.3202\n",
      " - Transition measure val: 2.2634\n",
      " - Ricci measure val:      5.0414\n",
      " - Volk val:               15.8110\n",
      "1407/1407 [==============================] - 80s 57ms/step - sigma_loss: 0.2777 - transition_loss: 77.1176 - volk_loss: 0.0037 - ricci_loss: 0.0000e+00 - sigma_val: 0.3202 - transition_val: 2.2634 - ricci_val: 5.0414 - volk_val: 15.8110\n",
      "Epoch 7/30\n",
      "1406/1407 [============================>.] - ETA: 0s - sigma_loss: 0.2698 - transition_loss: 102.9072 - volk_loss: 0.0032 - ricci_loss: 0.0000e+00 - Sigma measure val:      0.3163\n",
      " - Transition measure val: 1.8747\n",
      " - Ricci measure val:      5.4809\n",
      " - Volk val:               15.8805\n",
      "1407/1407 [==============================] - 76s 54ms/step - sigma_loss: 0.2698 - transition_loss: 102.8710 - volk_loss: 0.0032 - ricci_loss: 0.0000e+00 - sigma_val: 0.3163 - transition_val: 1.8747 - ricci_val: 5.4809 - volk_val: 15.8805\n",
      "Epoch 8/30\n",
      "1407/1407 [==============================] - ETA: 0s - sigma_loss: 0.2636 - transition_loss: 86.3867 - volk_loss: 0.0036 - ricci_loss: 0.0000e+00 - Sigma measure val:      0.3081\n",
      " - Transition measure val: 2.0437\n",
      " - Ricci measure val:      7.5091\n",
      " - Volk val:               16.4453\n",
      "1407/1407 [==============================] - 79s 56ms/step - sigma_loss: 0.2636 - transition_loss: 86.3867 - volk_loss: 0.0036 - ricci_loss: 0.0000e+00 - sigma_val: 0.3081 - transition_val: 2.0437 - ricci_val: 7.5091 - volk_val: 16.4453\n",
      "Epoch 9/30\n",
      "1406/1407 [============================>.] - ETA: 0s - sigma_loss: 0.2585 - transition_loss: 98.4923 - volk_loss: 0.0033 - ricci_loss: 0.0000e+00 - Sigma measure val:      0.3064\n",
      " - Transition measure val: 1.9458\n",
      " - Ricci measure val:      5.7977\n",
      " - Volk val:               16.6505\n",
      "1407/1407 [==============================] - 78s 56ms/step - sigma_loss: 0.2585 - transition_loss: 98.4224 - volk_loss: 0.0033 - ricci_loss: 0.0000e+00 - sigma_val: 0.3064 - transition_val: 1.9458 - ricci_val: 5.7977 - volk_val: 16.6505\n",
      "Epoch 10/30\n",
      "1407/1407 [==============================] - ETA: 0s - sigma_loss: 0.2539 - transition_loss: 77.8704 - volk_loss: 0.0035 - ricci_loss: 0.0000e+00 - Sigma measure val:      0.3049\n",
      " - Transition measure val: 2.0375\n",
      " - Ricci measure val:      5.6378\n",
      " - Volk val:               16.3350\n",
      "1407/1407 [==============================] - 80s 57ms/step - sigma_loss: 0.2539 - transition_loss: 77.8704 - volk_loss: 0.0035 - ricci_loss: 0.0000e+00 - sigma_val: 0.3049 - transition_val: 2.0375 - ricci_val: 5.6378 - volk_val: 16.3350\n",
      "Epoch 11/30\n",
      "1407/1407 [==============================] - ETA: 0s - sigma_loss: 0.2501 - transition_loss: 54.4474 - volk_loss: 0.0035 - ricci_loss: 0.0000e+00 - Sigma measure val:      0.2961\n",
      " - Transition measure val: 2.3648\n",
      " - Ricci measure val:      12.1233\n",
      " - Volk val:               15.1502\n",
      "1407/1407 [==============================] - 80s 57ms/step - sigma_loss: 0.2501 - transition_loss: 54.4474 - volk_loss: 0.0035 - ricci_loss: 0.0000e+00 - sigma_val: 0.2961 - transition_val: 2.3648 - ricci_val: 12.1233 - volk_val: 15.1502\n",
      "Epoch 12/30\n",
      "1407/1407 [==============================] - ETA: 0s - sigma_loss: 0.2455 - transition_loss: 94.6740 - volk_loss: 0.0033 - ricci_loss: 0.0000e+00 - Sigma measure val:      0.2951\n",
      " - Transition measure val: 2.0088\n",
      " - Ricci measure val:      3.9426\n",
      " - Volk val:               15.6828\n",
      "1407/1407 [==============================] - 78s 55ms/step - sigma_loss: 0.2455 - transition_loss: 94.6740 - volk_loss: 0.0033 - ricci_loss: 0.0000e+00 - sigma_val: 0.2951 - transition_val: 2.0088 - ricci_val: 3.9426 - volk_val: 15.6828\n",
      "Epoch 13/30\n",
      "1406/1407 [============================>.] - ETA: 0s - sigma_loss: 0.2428 - transition_loss: 76.0542 - volk_loss: 0.0033 - ricci_loss: 0.0000e+00 - Sigma measure val:      0.2944\n",
      " - Transition measure val: 1.9399\n",
      " - Ricci measure val:      5.3729\n",
      " - Volk val:               16.0236\n",
      "1407/1407 [==============================] - 74s 53ms/step - sigma_loss: 0.2428 - transition_loss: 76.0001 - volk_loss: 0.0033 - ricci_loss: 0.0000e+00 - sigma_val: 0.2944 - transition_val: 1.9399 - ricci_val: 5.3729 - volk_val: 16.0236\n",
      "Epoch 14/30\n",
      "1406/1407 [============================>.] - ETA: 0s - sigma_loss: 0.2393 - transition_loss: 72.3967 - volk_loss: 0.0032 - ricci_loss: 0.0000e+00 - Sigma measure val:      0.2915\n",
      " - Transition measure val: 1.9796\n",
      " - Ricci measure val:      10.6373\n",
      " - Volk val:               16.6908\n",
      "1407/1407 [==============================] - 81s 57ms/step - sigma_loss: 0.2393 - transition_loss: 72.3452 - volk_loss: 0.0032 - ricci_loss: 0.0000e+00 - sigma_val: 0.2915 - transition_val: 1.9796 - ricci_val: 10.6373 - volk_val: 16.6908\n",
      "Epoch 15/30\n",
      "1407/1407 [==============================] - ETA: 0s - sigma_loss: 0.2373 - transition_loss: 84.6116 - volk_loss: 0.0033 - ricci_loss: 0.0000e+00 - Sigma measure val:      0.2890\n",
      " - Transition measure val: 2.3436\n",
      " - Ricci measure val:      5.4854\n",
      " - Volk val:               16.5224\n",
      "1407/1407 [==============================] - 77s 55ms/step - sigma_loss: 0.2373 - transition_loss: 84.6116 - volk_loss: 0.0033 - ricci_loss: 0.0000e+00 - sigma_val: 0.2890 - transition_val: 2.3436 - ricci_val: 5.4854 - volk_val: 16.5224\n",
      "Epoch 16/30\n",
      "1406/1407 [============================>.] - ETA: 0s - sigma_loss: 0.2346 - transition_loss: 70.7623 - volk_loss: 0.0031 - ricci_loss: 0.0000e+00 - Sigma measure val:      0.2864\n",
      " - Transition measure val: 2.0210\n",
      " - Ricci measure val:      20.0900\n"
     ]
    },
    {
     "name": "stdout",
     "output_type": "stream",
     "text": [
      " - Volk val:               16.4075\n",
      "1407/1407 [==============================] - 79s 56ms/step - sigma_loss: 0.2347 - transition_loss: 70.7120 - volk_loss: 0.0031 - ricci_loss: 0.0000e+00 - sigma_val: 0.2864 - transition_val: 2.0210 - ricci_val: 20.0900 - volk_val: 16.4075\n",
      "Epoch 17/30\n",
      "1407/1407 [==============================] - ETA: 0s - sigma_loss: 0.2319 - transition_loss: 96.4791 - volk_loss: 0.0033 - ricci_loss: 0.0000e+00 - Sigma measure val:      0.2839\n",
      " - Transition measure val: 2.3129\n",
      " - Ricci measure val:      9.2456\n",
      " - Volk val:               16.1882\n",
      "1407/1407 [==============================] - 79s 56ms/step - sigma_loss: 0.2319 - transition_loss: 96.4791 - volk_loss: 0.0033 - ricci_loss: 0.0000e+00 - sigma_val: 0.2839 - transition_val: 2.3129 - ricci_val: 9.2456 - volk_val: 16.1882\n",
      "Epoch 18/30\n",
      "1407/1407 [==============================] - ETA: 0s - sigma_loss: 0.2290 - transition_loss: 83.3324 - volk_loss: 0.0032 - ricci_loss: 0.0000e+00 - Sigma measure val:      0.2845\n",
      " - Transition measure val: 1.7178\n",
      " - Ricci measure val:      6.2779\n",
      " - Volk val:               16.6770\n",
      "1407/1407 [==============================] - 80s 57ms/step - sigma_loss: 0.2290 - transition_loss: 83.3324 - volk_loss: 0.0032 - ricci_loss: 0.0000e+00 - sigma_val: 0.2845 - transition_val: 1.7178 - ricci_val: 6.2779 - volk_val: 16.6770\n",
      "Epoch 19/30\n",
      "1406/1407 [============================>.] - ETA: 0s - sigma_loss: 0.2268 - transition_loss: 75.5379 - volk_loss: 0.0033 - ricci_loss: 0.0000e+00 - Sigma measure val:      0.2823\n",
      " - Transition measure val: 2.0662\n",
      " - Ricci measure val:      7.4766\n",
      " - Volk val:               16.7883\n",
      "1407/1407 [==============================] - 79s 56ms/step - sigma_loss: 0.2267 - transition_loss: 75.4842 - volk_loss: 0.0033 - ricci_loss: 0.0000e+00 - sigma_val: 0.2823 - transition_val: 2.0662 - ricci_val: 7.4766 - volk_val: 16.7883\n",
      "Epoch 20/30\n",
      "1406/1407 [============================>.] - ETA: 0s - sigma_loss: 0.2256 - transition_loss: 81.9351 - volk_loss: 0.0033 - ricci_loss: 0.0000e+00 - Sigma measure val:      0.2798\n",
      " - Transition measure val: 1.9290\n",
      " - Ricci measure val:      5.4032\n",
      " - Volk val:               16.2435\n",
      "1407/1407 [==============================] - 83s 59ms/step - sigma_loss: 0.2257 - transition_loss: 81.8769 - volk_loss: 0.0033 - ricci_loss: 0.0000e+00 - sigma_val: 0.2798 - transition_val: 1.9290 - ricci_val: 5.4032 - volk_val: 16.2435\n",
      "Epoch 21/30\n",
      "1407/1407 [==============================] - ETA: 0s - sigma_loss: 0.2229 - transition_loss: 95.4983 - volk_loss: 0.0033 - ricci_loss: 0.0000e+00 - Sigma measure val:      0.2790\n",
      " - Transition measure val: 1.8286\n",
      " - Ricci measure val:      5.4592\n",
      " - Volk val:               16.4958\n",
      "1407/1407 [==============================] - 78s 55ms/step - sigma_loss: 0.2229 - transition_loss: 95.4983 - volk_loss: 0.0033 - ricci_loss: 0.0000e+00 - sigma_val: 0.2790 - transition_val: 1.8286 - ricci_val: 5.4592 - volk_val: 16.4958\n",
      "Epoch 22/30\n",
      "1407/1407 [==============================] - ETA: 0s - sigma_loss: 0.2214 - transition_loss: 100.3632 - volk_loss: 0.0032 - ricci_loss: 0.0000e+00 - Sigma measure val:      0.2761\n",
      " - Transition measure val: 1.7695\n",
      " - Ricci measure val:      -1.9627e+02\n",
      " - Volk val:               16.6131\n",
      "1407/1407 [==============================] - 79s 56ms/step - sigma_loss: 0.2214 - transition_loss: 100.3632 - volk_loss: 0.0032 - ricci_loss: 0.0000e+00 - sigma_val: 0.2761 - transition_val: 1.7695 - ricci_val: -196.2650 - volk_val: 16.6131\n",
      "Epoch 23/30\n",
      "1406/1407 [============================>.] - ETA: 0s - sigma_loss: 0.2184 - transition_loss: 96.4574 - volk_loss: 0.0032 - ricci_loss: 0.0000e+00 - Sigma measure val:      0.2784\n",
      " - Transition measure val: 1.7076\n",
      " - Ricci measure val:      -8.6440e+00\n",
      " - Volk val:               16.9557\n",
      "1407/1407 [==============================] - 78s 55ms/step - sigma_loss: 0.2184 - transition_loss: 96.3888 - volk_loss: 0.0032 - ricci_loss: 0.0000e+00 - sigma_val: 0.2784 - transition_val: 1.7076 - ricci_val: -8.6440 - volk_val: 16.9557\n",
      "Epoch 24/30\n",
      "1407/1407 [==============================] - ETA: 0s - sigma_loss: 0.2176 - transition_loss: 103.0717 - volk_loss: 0.0032 - ricci_loss: 0.0000e+00 - Sigma measure val:      0.2735\n",
      " - Transition measure val: 1.7354\n",
      " - Ricci measure val:      5.4046\n",
      " - Volk val:               17.0767\n",
      "1407/1407 [==============================] - 79s 56ms/step - sigma_loss: 0.2176 - transition_loss: 103.0717 - volk_loss: 0.0032 - ricci_loss: 0.0000e+00 - sigma_val: 0.2735 - transition_val: 1.7354 - ricci_val: 5.4046 - volk_val: 17.0767\n",
      "Epoch 25/30\n",
      "1406/1407 [============================>.] - ETA: 0s - sigma_loss: 0.2149 - transition_loss: 100.4607 - volk_loss: 0.0032 - ricci_loss: 0.0000e+00 - Sigma measure val:      0.2683\n",
      " - Transition measure val: 1.8523\n",
      " - Ricci measure val:      5.0047\n",
      " - Volk val:               16.5422\n",
      "1407/1407 [==============================] - 84s 60ms/step - sigma_loss: 0.2149 - transition_loss: 100.3893 - volk_loss: 0.0032 - ricci_loss: 0.0000e+00 - sigma_val: 0.2683 - transition_val: 1.8523 - ricci_val: 5.0047 - volk_val: 16.5422\n",
      "Epoch 26/30\n",
      "1406/1407 [============================>.] - ETA: 0s - sigma_loss: 0.2136 - transition_loss: 99.5937 - volk_loss: 0.0033 - ricci_loss: 0.0000e+00 - Sigma measure val:      0.2655\n",
      " - Transition measure val: 1.6038\n",
      " - Ricci measure val:      35.0090\n",
      " - Volk val:               16.6834\n",
      "1407/1407 [==============================] - 80s 57ms/step - sigma_loss: 0.2136 - transition_loss: 99.5230 - volk_loss: 0.0033 - ricci_loss: 0.0000e+00 - sigma_val: 0.2655 - transition_val: 1.6038 - ricci_val: 35.0090 - volk_val: 16.6834\n",
      "Epoch 27/30\n",
      "1407/1407 [==============================] - ETA: 0s - sigma_loss: 0.2113 - transition_loss: 86.9850 - volk_loss: 0.0032 - ricci_loss: 0.0000e+00 - Sigma measure val:      0.2638\n",
      " - Transition measure val: 1.6236\n",
      " - Ricci measure val:      26.1763\n",
      " - Volk val:               17.0229\n",
      "1407/1407 [==============================] - 84s 59ms/step - sigma_loss: 0.2113 - transition_loss: 86.9850 - volk_loss: 0.0032 - ricci_loss: 0.0000e+00 - sigma_val: 0.2638 - transition_val: 1.6236 - ricci_val: 26.1763 - volk_val: 17.0229\n",
      "Epoch 28/30\n",
      "1407/1407 [==============================] - ETA: 0s - sigma_loss: 0.2093 - transition_loss: 109.7214 - volk_loss: 0.0031 - ricci_loss: 0.0000e+00 - Sigma measure val:      0.2661\n",
      " - Transition measure val: 1.9477\n",
      " - Ricci measure val:      15.5583\n",
      " - Volk val:               16.6228\n",
      "1407/1407 [==============================] - 80s 57ms/step - sigma_loss: 0.2093 - transition_loss: 109.7214 - volk_loss: 0.0031 - ricci_loss: 0.0000e+00 - sigma_val: 0.2661 - transition_val: 1.9477 - ricci_val: 15.5583 - volk_val: 16.6228\n",
      "Epoch 29/30\n",
      "1407/1407 [==============================] - ETA: 0s - sigma_loss: 0.2084 - transition_loss: 75.3392 - volk_loss: 0.0032 - ricci_loss: 0.0000e+00 - Sigma measure val:      0.2631\n",
      " - Transition measure val: 1.8388\n",
      " - Ricci measure val:      5.4788\n",
      " - Volk val:               16.8563\n",
      "1407/1407 [==============================] - 81s 57ms/step - sigma_loss: 0.2084 - transition_loss: 75.3392 - volk_loss: 0.0032 - ricci_loss: 0.0000e+00 - sigma_val: 0.2631 - transition_val: 1.8388 - ricci_val: 5.4788 - volk_val: 16.8563\n",
      "Epoch 30/30\n",
      "1407/1407 [==============================] - ETA: 0s - sigma_loss: 0.2070 - transition_loss: 109.8418 - volk_loss: 0.0033 - ricci_loss: 0.0000e+00 - Sigma measure val:      0.2614\n",
      " - Transition measure val: 2.1180\n",
      " - Ricci measure val:      6.5325\n",
      " - Volk val:               16.7395\n",
      "1407/1407 [==============================] - 79s 56ms/step - sigma_loss: 0.2070 - transition_loss: 109.8418 - volk_loss: 0.0033 - ricci_loss: 0.0000e+00 - sigma_val: 0.2614 - transition_val: 2.1180 - ricci_val: 6.5325 - volk_val: 16.7395\n"
     ]
    }
   ],
   "source": [
    "os.environ['TF_CPP_MIN_LOG_LEVEL'] = '0'  # mostly silences TF logger\n",
    "history = fs_model.fit(data['X_train'], data['y_train'], epochs=n_epochs, batch_size=batch_size, verbose=1, callbacks=cb_list)"
   ]
  },
  {
   "cell_type": "markdown",
   "metadata": {},
   "source": [
    "## Plot the results"
   ]
  },
  {
   "cell_type": "code",
   "execution_count": 12,
   "metadata": {},
   "outputs": [],
   "source": [
    "import matplotlib.pyplot as plt\n",
    "import seaborn as sns\n",
    "import pandas as pd\n",
    "sns.set_style(\"darkgrid\")"
   ]
  },
  {
   "cell_type": "markdown",
   "metadata": {},
   "source": [
    "Note that vol_k val should be constant (and equal to 20.0). So in this case, it is off by 0.2)"
   ]
  },
  {
   "cell_type": "code",
   "execution_count": 13,
   "metadata": {
    "scrolled": false
   },
   "outputs": [
    {
     "data": {
      "image/png": "[encoded data removed]",
      "text/plain": [
       "<Figure size 720x720 with 4 Axes>"
      ]
     },
     "metadata": {},
     "output_type": "display_data"
    }
   ],
   "source": [
    "hist = history.history\n",
    "hist['epochs'] = list(range(n_epochs))\n",
    "hist_data = pd.DataFrame(hist)\n",
    "fig, [[ax1, ax2], [ax3, ax4]] = plt.subplots(2, 2, figsize=(10,10));\n",
    "ax1.set_title(\"Monge-Ampere loss\")\n",
    "sns.scatterplot(x='epochs', y='sigma_loss', data=hist_data, alpha=0.75, ax=ax1, label=\"train\")\n",
    "sns.scatterplot(x='epochs', y='sigma_val', data=hist_data, alpha=0.75, ax=ax1, label=\"val\")\n",
    "\n",
    "ax2.set_title(\"Vol_K loss\")\n",
    "sns.scatterplot(x='epochs', y='volk_loss', data=hist_data, alpha=0.75, ax=ax2, label=\"train\")\n",
    "sns.scatterplot(x='epochs', y='volk_val', data=hist_data, alpha=0.75, ax=ax2, label=\"val\")\n",
    "\n",
    "ax3.set_title(\"Transition loss\")\n",
    "sns.scatterplot(x='epochs', y='transition_val', data=hist_data, alpha=0.75, ax=ax3, label=\"val\")\n",
    "\n",
    "ax4.set_title(\"Ricci measure\")\n",
    "sns.scatterplot(x='sigma_val', y='ricci_val', data=hist_data, alpha=0.75, ax=ax4, label=\"test\");"
   ]
  }
 ],
 "metadata": {
  "kernelspec": {
   "display_name": "venv-ml",
   "language": "python",
   "name": "venv-ml"
  },
  "language": "python",
  "language_info": {
   "codemirror_mode": {
    "name": "ipython",
    "version": 3
   },
   "file_extension": ".py",
   "mimetype": "text/x-python",
   "name": "python",
   "nbconvert_exporter": "python",
   "pygments_lexer": "ipython3",
   "version": "3.8.9"
  }
 },
 "nbformat": 4,
 "nbformat_minor": 2
}
