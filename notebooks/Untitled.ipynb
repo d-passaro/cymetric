{
 "cells": [
  {
   "cell_type": "code",
   "execution_count": 1,
   "id": "cf7b3dba",
   "metadata": {},
   "outputs": [],
   "source": [
    "from cymetric.sage.sagelib import prepare_toric_cy_data\n",
    "import os as os\n",
    "# Quintic vertices\n",
    "vertices = [\n",
    "   [1, 0, 0, 0], [0, 1, 0, 0], [0, 0, 1, 0], [0, 0, 0, 1], [-1, -1, -1, -1]\n",
    "]\n",
    "origin = [0 for _ in range(len(vertices[0]))]\n",
    "polytope = LatticePolytope(vertices)\n",
    "pConfig = PointConfiguration(polytope.points(), star=origin)\n",
    "#set to topcom for more efficient triangulations\n",
    "pConfig.set_engine(\"TOPCOM\")\n",
    "# restrict to fine star regular.\n",
    "triangulations = pConfig.restrict_to_connected_triangulations()\n",
    "triangulations = triangulations.restrict_to_fine_triangulations()\n",
    "triangulations = triangulations.restrict_to_regular_triangulations()\n",
    "triangulations = triangulations.restrict_to_star_triangulations(origin)\n",
    "#take first triangulation; build fan and TV\n",
    "triang = triangulations.triangulate()\n",
    "tv_fan = triang.fan()\n",
    "TV = ToricVariety(tv_fan)\n",
    "fname = os.path.join('fermat_pgtoricmath', 'toric_data.pickle')\n",
    "toric_data = prepare_toric_cy_data(TV, fname)"
   ]
  },
  {
   "cell_type": "code",
   "execution_count": null,
   "id": "20ce750d",
   "metadata": {},
   "outputs": [],
   "source": []
  }
 ],
 "metadata": {
  "kernelspec": {
   "display_name": "SageMath 9.4",
   "language": "sage",
   "name": "sagemath-9.4"
  },
  "language_info": {
   "codemirror_mode": {
    "name": "ipython",
    "version": 3
   },
   "file_extension": ".py",
   "mimetype": "text/x-python",
   "name": "python",
   "nbconvert_exporter": "python",
   "pygments_lexer": "ipython3",
   "version": "3.9.5"
  }
 },
 "nbformat": 4,
 "nbformat_minor": 5
}
