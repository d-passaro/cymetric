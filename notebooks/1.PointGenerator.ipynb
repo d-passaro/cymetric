{
 "cells": [
  {
   "cell_type": "markdown",
   "metadata": {},
   "source": [
    "# Exploring the Point Generators\n",
    "\n",
    "In this notebook we explore the three different point generator classes.\n",
    "\n",
    "1. The *PointGenerator* class is the base class the other two inherit from. It can be used for Complete Intersection Calabi-Yau (CICY) manifolds with a single hypersurface, e.g. the quintic, bicubic, p1p3, the tetraquadric, or a torus, some K3s ...\n",
    "2. There is the *CICYPointGenerator* which works for any CICY.\n",
    "3. There is the *PointGeneratorMathematica* which works for any CICY (also for just a single hypersurface. It requires a Mathematica installation which will be used as a backend for the computations.\n",
    "4. There is the *ToricPointGenerator* which can generate points on any CY coming from the Kreuzer-Skarke list. NOTE: as of v0.0.1 there are still some issues with finding the correct integration weights from generalizing a theorem by Shiffman and Zelditch. For the correct implementation use *ToricPointGeneratorMathematica*.\n",
    "\n",
    "The Fermat quintic manifold can be implemented in each of the three PointGenerator classes and will be used as an example.\n",
    "\n",
    "Recall that the Fermat quintic is given by the following polynomial:\n",
    "\n",
    "$$\n",
    "Q = \\sum_i^5 z_i^5\n",
    "$$\n",
    "\n",
    "in a $\\mathbb{P}^4$ ambient space."
   ]
  },
  {
   "cell_type": "code",
   "execution_count": 1,
   "metadata": {
    "scrolled": true
   },
   "outputs": [],
   "source": [
    "import numpy as np\n",
    "import os as os\n",
    "import pickle as pickle"
   ]
  },
  {
   "cell_type": "markdown",
   "metadata": {},
   "source": [
    "## PointGenerator\n",
    "\n",
    "First we load the PointGenerator from the cymetric package."
   ]
  },
  {
   "cell_type": "code",
   "execution_count": 2,
   "metadata": {},
   "outputs": [],
   "source": [
    "from cymetric.pointgen.pointgen import PointGenerator"
   ]
  },
  {
   "cell_type": "markdown",
   "metadata": {},
   "source": [
    "In general all routines and classes of the cymetric package will have a brief description of their functionality and their arguments. You can access it with the help function."
   ]
  },
  {
   "cell_type": "code",
   "execution_count": 3,
   "metadata": {
    "scrolled": true
   },
   "outputs": [
    {
     "name": "stdout",
     "output_type": "stream",
     "text": [
      "Help on class PointGenerator in module cymetric.pointgen.pointgen:\n",
      "\n",
      "class PointGenerator(builtins.object)\n",
      " |  PointGenerator(monomials, coefficients, kmoduli, ambient, vol_j_norm=1, verbose=2, backend='multiprocessing')\n",
      " |  \n",
      " |  The PointGenerator class.\n",
      " |  \n",
      " |  The numerics are entirely done in numpy; sympy is used for taking \n",
      " |  (implicit) derivatives.\n",
      " |  \n",
      " |  Use this one if you want to generate points and data on a CY given by\n",
      " |  one hypersurface.\n",
      " |  \n",
      " |  All other PointGenerators inherit from this class.\n",
      " |  \n",
      " |  Example:\n",
      " |      We consider the Fermat quintic given by\n",
      " |  \n",
      " |      .. math::\n",
      " |  \n",
      " |          Q(z) = z_1^5 + z_2^5 + z_3^5 + z_4^5 + z_5^5\n",
      " |  \n",
      " |      and set it up with:\n",
      " |  \n",
      " |      >>> import numpy as np\n",
      " |      >>> from cymetric.pointgen.pointgen import PointGenerator\n",
      " |      >>> monomials = 5*np.eye(5, dtype=np.int)\n",
      " |      >>> coefficients = np.ones(5)\n",
      " |      >>> kmoduli = np.ones(1)\n",
      " |      >>> ambient = np.array([4])\n",
      " |      >>> pg = PointGenerator(monomials, coefficients, kmoduli, ambient)\n",
      " |  \n",
      " |      Once the PointGenerator is initialized you can generate a training\n",
      " |      dataset with \n",
      " |  \n",
      " |      >>> pg.prepare_dataset(number_of_points, dir_name) \n",
      " |  \n",
      " |      and prepare the required tensorflow model data with \n",
      " |      \n",
      " |      >>> pg.prepare_basis(dir_name)\n",
      " |  \n",
      " |  Methods defined here:\n",
      " |  \n",
      " |  __call__(self, points, vol_js=None)\n",
      " |      Computes the FS metric at each point.\n",
      " |      \n",
      " |      Args:\n",
      " |          points (ndarray[(n_p, ncoords), np.complex128]): Points.\n",
      " |          vol_js (ndarray[(h^{(1,1)}), np.complex128]): vol_j factors. \n",
      " |              Defaults to None.\n",
      " |      \n",
      " |      Returns:\n",
      " |          ndarray[(n_p, ncoords, ncoords), np.complex128]: g^FS\n",
      " |  \n",
      " |  __init__(self, monomials, coefficients, kmoduli, ambient, vol_j_norm=1, verbose=2, backend='multiprocessing')\n",
      " |      The PointGenerator uses the *joblib* module to parallelize \n",
      " |      computations. \n",
      " |      \n",
      " |      Args:\n",
      " |          monomials (ndarray[(nMonomials, ncoords), np.int]): monomials\n",
      " |          coefficients (ndarray[(nMonomials)]): coefficients in front of each\n",
      " |              monomial.\n",
      " |          kmoduli (ndarray[(nProj)]): the kaehler moduli.\n",
      " |          ambient (ndarray[(nProj), np.int]): the direct product of projective\n",
      " |              spaces making up the ambient space.\n",
      " |          vol_j_norm (float, optional): Normalization of the volume of the\n",
      " |              Calabi-Yau X as computed from\n",
      " |      \n",
      " |              .. math:: \\int_X J^n \\; \\text{ at } \\; t_1=t_2=...=t_n = 1.\n",
      " |      \n",
      " |              Defaults to 1.\n",
      " |          verbose (int, optional): Controls logging. 1-Debug, 2-Info,\n",
      " |              else Warning. Defaults to 2.\n",
      " |          backend (str, optional): Backend for Parallel. Defaults to\n",
      " |              'multiprocessing'. 'loky' makes issues with pickle5.\n",
      " |  \n",
      " |  compute_kappa(self, points, weights, omegas)\n",
      " |      We compute kappa from the Monge-Ampère equation\n",
      " |      \n",
      " |      .. math:: J^3 = \\kappa |\\Omega|^2\n",
      " |      \n",
      " |      such that after integrating we find\n",
      " |      \n",
      " |      .. math::\n",
      " |      \n",
      " |          \\kappa = \\frac{J^3}{|\\Omega|^2} =\n",
      " |              \\frac{\\text{Vol}_K}{\\text{Vol}_{\\text{CY}}}\n",
      " |      \n",
      " |      Args:\n",
      " |          points (ndarray[(n_p, ncoords), np.complex128]): Points.\n",
      " |          weights (ndarray[n_p, np.float64]): weights of the points.\n",
      " |          omegas (ndarray[n_p, np.complex128]): Omega \\wedge Omega* of the points.\n",
      " |      \n",
      " |      Returns:\n",
      " |          np.float: kappa\n",
      " |  \n",
      " |  cy_condition(self, points)\n",
      " |      Computes the CY condition at each point.\n",
      " |      \n",
      " |      Args:\n",
      " |          points (ndarray([n_p, ncoords], np.complex128)): Points (on the CY).\n",
      " |      \n",
      " |      Returns:\n",
      " |          ndarray(n_p, np.complex128): CY condition\n",
      " |  \n",
      " |  fubini_study_metrics(self, points, vol_js=None)\n",
      " |      Computes the FS metric at each point.\n",
      " |      \n",
      " |      Args:\n",
      " |          points (ndarray[(n_p, ncoords), np.complex128]): Points.\n",
      " |          vol_js (ndarray[(h^{(1,1)}), np.complex128]): vol_j factor.\n",
      " |              Defaults to None.\n",
      " |      \n",
      " |      Returns:\n",
      " |          ndarray[(n_p, ncoords, ncoords), np.complex128]: g^FS\n",
      " |  \n",
      " |  generate_point_weights(self, n_pw, omega=False, normalize_to_vol_j=False)\n",
      " |      Generates a numpy dictionary of point weights.\n",
      " |      \n",
      " |      Args:\n",
      " |          n_pw (int): # of point weights.\n",
      " |          omega (bool, optional): If True adds Omega to dict. Defaults to False.\n",
      " |          normalize_to_vol_j (bool, optional): Whether the weights should be normalized by the factor self.vol_j_norm.\n",
      " |                                               Defaults to False\n",
      " |      \n",
      " |      Returns:\n",
      " |          np.dict: point weights\n",
      " |  \n",
      " |  generate_points(self, n_p, nproc=-1, batch_size=5000)\n",
      " |      Generates complex points on the CY.\n",
      " |      \n",
      " |      The points are automatically scaled, such that the largest \n",
      " |      coordinate in each projective space is 1+0.j.\n",
      " |      \n",
      " |      Args:\n",
      " |          n_p (int): # of points.\n",
      " |          nproc (int, optional): # of jobs used. Defaults to -1. Then\n",
      " |              uses all available resources.\n",
      " |          batch_size (int, optional): batch_size of Parallel. \n",
      " |              Defaults to 5000.\n",
      " |      \n",
      " |      Returns:\n",
      " |          ndarray[(n_p, ncoords), np.complex128]: rescaled points\n",
      " |  \n",
      " |  holomorphic_volume_form(self, points, j_elim=None)\n",
      " |      We compute the holomorphic volume form\n",
      " |      at all points by solving the residue theorem:\n",
      " |      \n",
      " |      .. math::\n",
      " |      \n",
      " |          \\Omega &= \\int_\\rho \\frac{1}{Q} \\wedge^n dz_i \\\\\n",
      " |                 &= \\frac{1}{\\frac{\\partial Q}{\\partial z_j}}\\wedge^{n-1} dz_a\n",
      " |      \n",
      " |      where the index a runs over the local n-fold good coordinates.\n",
      " |      \n",
      " |      Args:\n",
      " |          points (ndarray[(n_p, ncoords), np.complex128]): Points.\n",
      " |          j_elim (ndarray([n_p], np.int64)): index to be eliminated. \n",
      " |              Defaults not None. If None eliminates max(dQdz).\n",
      " |      \n",
      " |      Returns:\n",
      " |          ndarray[(n_p), np.complex128]: Omega evaluated at each point.\n",
      " |  \n",
      " |  point_weight(self, points, normalize_to_vol_j=False, j_elim=None)\n",
      " |      We compute the weight/mass of each point:\n",
      " |      \n",
      " |      .. math::\n",
      " |      \n",
      " |          w &= \\frac{d\\text{Vol}_\\text{cy}}{dA}|_p \\\\\n",
      " |            &\\sim \\frac{|\\Omega|^2}{\\det(g^\\text{FS}_{ab})}|_p\n",
      " |      \n",
      " |      the weight depends on the distribution of free parameters during \n",
      " |      point sampling. We employ a theorem due to Shiffman and Zelditch. \n",
      " |      See also: [9803052].\n",
      " |      \n",
      " |      Args:\n",
      " |          points (ndarray([n_p, ncoords], np.complex128)): Points.\n",
      " |          normalize_to_vol_j (bool, optional): Normalize such that\n",
      " |      \n",
      " |              .. math::\n",
      " |      \n",
      " |                  \\int_X \\det(g) &= \\sum_i \\sqrt{\\det(g)} \\cdot w|_{x_i}\\\\\n",
      " |                              &= d^{ijk} t_i t_j t_k.\n",
      " |      \n",
      " |              Defaults to False.\n",
      " |          j_elim (ndarray([n_p, nhyper], np.int64)): Index to be eliminated. \n",
      " |              Defaults to None. If None eliminates max(dQdz).\n",
      " |      \n",
      " |      Returns:\n",
      " |          ndarray([n_p], np.float64): weight at each point.\n",
      " |  \n",
      " |  prepare_basis(self, dirname, kappa=1.0)\n",
      " |      Prepares pickled monomial basis for the tensorflow models.\n",
      " |      \n",
      " |      Args:\n",
      " |          dirname (str): dir name to save\n",
      " |      \n",
      " |      Returns:\n",
      " |          int: 0\n",
      " |  \n",
      " |  prepare_dataset(self, n_p, dirname, val_split=0.1, ltails=0, rtails=0)\n",
      " |      Prepares training and validation data.\n",
      " |      \n",
      " |      Args:\n",
      " |          n_p (int): Number of points to generate.\n",
      " |          dirname (str): Directory name to save dataset in.\n",
      " |          val_split (float, optional): train-val split. Defaults to 0.1.\n",
      " |          ltails (float, optional): Percentage discarded on the left tail\n",
      " |              of weight distribution. Defaults to 0.\n",
      " |          rtails (float, optional): Percentage discarded on the right tail\n",
      " |              of weight distribution. Defaults to 0.\n",
      " |      \n",
      " |      Returns:\n",
      " |          np.float: kappa = vol_k / vol_cy\n",
      " |  \n",
      " |  pullbacks(self, points, j_elim=None)\n",
      " |      Computes the pullback from ambient space to local CY coordinates\n",
      " |      at each point. \n",
      " |      \n",
      " |      Denote the ambient space coordinates with z_i and the CY\n",
      " |      coordinates with x_a then\n",
      " |      \n",
      " |      .. math::\n",
      " |      \n",
      " |          J^i_a = \\frac{dz_i}{dx_a}\n",
      " |      \n",
      " |      Args:\n",
      " |          points (ndarray([n_p, ncoords], np.complex128)): Points.\n",
      " |          j_elim (ndarray([n_p, nhyper], np.int64)): Index to be eliminated. \n",
      " |              Defaults to None. If None eliminates max(dQdz).\n",
      " |      \n",
      " |      Returns:\n",
      " |          ndarray([n_p, nfold, ncoords], np.complex128): Pullback tensor \n",
      " |              at each point.\n",
      " |  \n",
      " |  ----------------------------------------------------------------------\n",
      " |  Static methods defined here:\n",
      " |  \n",
      " |  generate_pn_points(n_p, n)\n",
      " |      Generates points on the sphere :math:`S^{2n+1}`.\n",
      " |      \n",
      " |      Args:\n",
      " |          n_p (int): number of points.\n",
      " |          n (int): degree of projective space.\n",
      " |      \n",
      " |      Returns:\n",
      " |          ndarray[(np, n+1), np.complex128]: complex points\n",
      " |  \n",
      " |  ----------------------------------------------------------------------\n",
      " |  Data descriptors defined here:\n",
      " |  \n",
      " |  __dict__\n",
      " |      dictionary for instance variables (if defined)\n",
      " |  \n",
      " |  __weakref__\n",
      " |      list of weak references to the object (if defined)\n",
      "\n"
     ]
    }
   ],
   "source": [
    "help(PointGenerator)"
   ]
  },
  {
   "cell_type": "markdown",
   "metadata": {},
   "source": [
    "In the next step we define the five defining monomials, the coefficients in front of each monomial, the single Kähler moduli, and the ambient space projective factor(s):"
   ]
  },
  {
   "cell_type": "code",
   "execution_count": 4,
   "metadata": {},
   "outputs": [],
   "source": [
    "monomials = 5*np.eye(5, dtype=np.int64)\n",
    "coefficients = np.ones(5)\n",
    "kmoduli = np.ones(1)\n",
    "ambient = np.array([4])"
   ]
  },
  {
   "cell_type": "markdown",
   "metadata": {},
   "source": [
    "We can now initiate the PointGenerator"
   ]
  },
  {
   "cell_type": "code",
   "execution_count": 5,
   "metadata": {},
   "outputs": [],
   "source": [
    "pg = PointGenerator(monomials, coefficients, kmoduli, ambient)"
   ]
  },
  {
   "cell_type": "markdown",
   "metadata": {},
   "source": [
    "and generate some (100) points:"
   ]
  },
  {
   "cell_type": "code",
   "execution_count": 6,
   "metadata": {},
   "outputs": [
    {
     "data": {
      "text/plain": [
       "array([[-0.26571881-9.17297455e-01j, -0.36345359+2.42049070e-01j,\n",
       "         1.        +0.00000000e+00j, -0.59842131-1.43934436e-01j,\n",
       "        -0.35605605-6.91997143e-01j],\n",
       "       [ 1.        -5.55111512e-17j, -0.31804611-5.70832600e-01j,\n",
       "         0.78152219+6.00384439e-01j,  0.15162194-1.69715014e-02j,\n",
       "         0.31991803-3.70442042e-01j],\n",
       "       [ 1.        +2.77555756e-17j, -0.23516908-2.60266458e-01j,\n",
       "        -0.77837294+1.05176966e-01j,  0.81948808-4.76754593e-01j,\n",
       "         0.66788379+2.93563540e-01j],\n",
       "       [ 0.8244501 +5.64605799e-01j, -0.16831985-6.66244130e-01j,\n",
       "         1.        +0.00000000e+00j,  0.28974831+6.27956749e-01j,\n",
       "        -0.05495057-4.40566702e-02j],\n",
       "       [-0.18569486+7.50333720e-01j,  0.24012511-3.46593059e-01j,\n",
       "         1.        +0.00000000e+00j, -0.31459026+8.85538129e-01j,\n",
       "        -0.45377699-5.09986505e-02j],\n",
       "       [-0.62309363+5.81626089e-02j, -0.4679331 +6.79700462e-02j,\n",
       "        -0.54795213-2.22345813e-02j,  1.        +0.00000000e+00j,\n",
       "        -0.96779248-1.11035419e-02j],\n",
       "       [ 0.6151586 +5.02496461e-01j,  0.20277662+2.12125075e-01j,\n",
       "         0.69096857-5.43960610e-01j, -0.21092906-6.76952419e-01j,\n",
       "         1.        +5.55111512e-17j],\n",
       "       [-0.06687156+8.13012725e-01j, -0.12636794+2.35216799e-01j,\n",
       "         1.        +0.00000000e+00j,  0.62081991-4.62641390e-01j,\n",
       "         0.68449549+6.20708350e-01j],\n",
       "       [-0.22088826+5.13983953e-02j, -0.43545847-2.14476486e-02j,\n",
       "        -0.21796997-9.32611797e-01j,  1.        -5.55111512e-17j,\n",
       "        -0.40243005-7.36729788e-01j],\n",
       "       [-0.20427673+4.96789283e-01j, -0.33566951+1.24990126e-02j,\n",
       "         0.79798426-5.87712316e-01j,  1.        -2.77555756e-17j,\n",
       "         0.41420206-1.26898577e-01j],\n",
       "       [ 1.        +5.55111512e-17j,  0.43919275-5.64977454e-01j,\n",
       "        -0.13761318+1.77038138e-01j, -0.99660668-3.84586551e-02j,\n",
       "         0.21556092-2.65341934e-01j],\n",
       "       [-0.23705855-7.92316729e-01j, -0.90831188+1.40218676e-02j,\n",
       "         0.290781  -6.89568624e-02j,  1.        +0.00000000e+00j,\n",
       "        -0.12351025+1.51050214e-01j],\n",
       "       [-0.30869249+9.48795352e-01j,  0.23620423+1.95065591e-01j,\n",
       "        -0.0107252 -4.35292583e-02j,  1.        +0.00000000e+00j,\n",
       "        -0.09747567+3.77996862e-01j],\n",
       "       [ 1.        +2.77555756e-17j, -0.17642877-8.86536198e-01j,\n",
       "         0.15222953+2.33899432e-01j,  0.78858911+4.40597322e-01j,\n",
       "        -0.04064984+1.42153042e-01j],\n",
       "       [ 1.        +0.00000000e+00j, -0.266115  -5.15690274e-01j,\n",
       "         0.14406385+7.18492726e-02j,  0.80697206-5.74602819e-01j,\n",
       "         0.21057851+2.24633474e-01j],\n",
       "       [-0.97642657-1.18281211e-01j, -0.54971234-2.36384054e-01j,\n",
       "         0.39796663-1.14007590e-01j,  1.        +0.00000000e+00j,\n",
       "        -0.47513912-7.89259380e-01j],\n",
       "       [ 0.53683464+1.27315554e-01j,  0.68373074+4.07316659e-01j,\n",
       "        -0.48526102+2.81983742e-01j, -0.95757917-5.13178620e-02j,\n",
       "         1.        +0.00000000e+00j],\n",
       "       [-0.32889758-9.37128594e-01j, -0.26507604-1.99401707e-01j,\n",
       "         0.02728669+5.63371790e-02j,  0.42404338+5.00365959e-01j,\n",
       "         1.        +0.00000000e+00j],\n",
       "       [-0.4493651 -5.90970295e-01j, -0.95829549-1.99839687e-01j,\n",
       "         0.26353682-4.79926875e-01j,  1.        +0.00000000e+00j,\n",
       "        -0.16298402+9.36587889e-01j],\n",
       "       [-0.99569717-2.78396736e-02j, -0.55065913+6.80971196e-01j,\n",
       "        -0.25849655-3.04414900e-01j,  0.5760562 -7.12758228e-01j,\n",
       "         1.        +0.00000000e+00j],\n",
       "       [ 0.73673442+5.67735415e-01j, -0.097059  +4.07681716e-01j,\n",
       "        -0.02244561-6.51295915e-01j,  0.58873651-5.56037973e-01j,\n",
       "         1.        +0.00000000e+00j],\n",
       "       [-0.78144599-7.98111059e-02j, -0.18875545-6.32192267e-01j,\n",
       "         1.        -5.55111512e-17j,  0.26845755+3.50870535e-01j,\n",
       "        -0.23301686+8.83778430e-01j],\n",
       "       [ 1.        +0.00000000e+00j,  0.68826221+5.12054052e-01j,\n",
       "        -0.26577308+8.42339749e-01j,  0.27872329+3.66972257e-02j,\n",
       "        -0.16581781-2.47134511e-01j],\n",
       "       [ 0.81742186+5.48932524e-01j,  0.34054565+3.40266796e-01j,\n",
       "         0.54425475+2.94974955e-01j,  1.        +5.55111512e-17j,\n",
       "         0.42912064+5.90618763e-01j],\n",
       "       [ 0.64392447-4.49542253e-01j,  0.53675892-3.34578736e-01j,\n",
       "         1.        +0.00000000e+00j,  0.70007631-5.46623220e-01j,\n",
       "         0.44192776+3.89092924e-01j],\n",
       "       [ 0.7325586 -2.72729312e-01j,  1.        +5.55111512e-17j,\n",
       "        -0.36234071-9.27753282e-01j,  0.09745251-8.14818702e-02j,\n",
       "         0.19448162-2.72829791e-01j],\n",
       "       [ 1.        +0.00000000e+00j,  0.56357791+3.57562922e-01j,\n",
       "         0.75480354-6.35762189e-01j,  0.11799942-2.08311537e-01j,\n",
       "         0.77985807-2.52406213e-01j],\n",
       "       [ 0.54854996-4.93480576e-01j, -0.24528616-1.74349626e-01j,\n",
       "         1.        +0.00000000e+00j, -0.08081971-3.48946233e-01j,\n",
       "         0.79098432-5.43620181e-01j],\n",
       "       [ 0.44305971+5.59495435e-01j,  1.        +5.55111512e-17j,\n",
       "        -0.96557101-4.75265030e-03j,  0.36120762+1.51131017e-01j,\n",
       "        -0.08191766+7.38934131e-01j],\n",
       "       [ 1.        -5.55111512e-17j,  0.80882039-5.20561874e-01j,\n",
       "        -0.29086376+3.35328690e-01j,  0.34175268-2.28749161e-01j,\n",
       "         0.71654674+3.48421590e-01j],\n",
       "       [ 0.81441382+5.00137940e-01j,  1.        +0.00000000e+00j,\n",
       "         0.08576143-5.52528228e-02j, -0.11826938-8.25239069e-01j,\n",
       "         0.02155068+3.21766897e-01j],\n",
       "       [ 0.10082677+1.61157597e-01j,  1.        +0.00000000e+00j,\n",
       "        -0.22721213+5.74180733e-02j,  0.80341571-5.90657096e-01j,\n",
       "        -0.48905059-1.09496936e-01j],\n",
       "       [ 1.        +5.55111512e-17j,  0.26210338-1.56495179e-01j,\n",
       "         0.22285026-2.40620965e-01j, -0.99592849-2.88988378e-02j,\n",
       "         0.63617917+2.30807448e-01j],\n",
       "       [-0.20866856-7.76979226e-01j,  0.83405242-5.37402690e-01j,\n",
       "        -0.5273322 +2.90670530e-02j,  1.        +5.55111512e-17j,\n",
       "        -0.59212281-6.11591141e-01j],\n",
       "       [ 1.        +0.00000000e+00j,  0.80363786+5.65086733e-01j,\n",
       "         0.02885652-4.39383449e-01j, -0.17032154+4.34334375e-01j,\n",
       "         0.53534273-2.98977309e-01j],\n",
       "       [ 0.06655603-4.10864264e-01j,  0.81462189-5.54841368e-01j,\n",
       "        -0.32576318-3.78562410e-01j,  0.48063488-4.97282730e-01j,\n",
       "         1.        +0.00000000e+00j],\n",
       "       [ 0.54402125-3.36163798e-01j,  0.509707  +1.70289306e-01j,\n",
       "        -0.37352695-3.35454839e-01j,  1.        +5.55111512e-17j,\n",
       "         0.79407776+5.82572026e-01j],\n",
       "       [-0.39584024+9.78493266e-02j,  0.8133262 +5.80123414e-01j,\n",
       "         1.        +0.00000000e+00j, -0.5606316 -8.98574670e-02j,\n",
       "        -0.40860911+3.35160029e-01j],\n",
       "       [-0.61390548+2.92339452e-01j,  0.54530134+1.96442151e-01j,\n",
       "         1.        +5.55111512e-17j, -0.99728298-3.71636492e-02j,\n",
       "        -0.63721335+3.76844870e-03j],\n",
       "       [ 0.58945529-3.78602700e-01j, -0.28216589+9.33241502e-01j,\n",
       "        -0.33976698+3.81781947e-01j,  1.        +0.00000000e+00j,\n",
       "         0.19222157+4.36419267e-01j],\n",
       "       [ 0.68253489-4.17999522e-01j, -0.27560337-8.68128276e-01j,\n",
       "        -0.09399871+6.74395643e-01j,  0.06243079+5.25914431e-01j,\n",
       "         1.        +0.00000000e+00j],\n",
       "       [-0.12607175-5.57540213e-01j, -0.98849377+7.30342561e-03j,\n",
       "         0.19004767+4.40129481e-01j,  0.3944553 +2.69554258e-01j,\n",
       "         1.        +5.55111512e-17j],\n",
       "       [ 0.81420701+4.11780095e-01j,  0.80820483-4.66157023e-01j,\n",
       "        -0.41481674+4.76422488e-01j, -0.29563858+2.88733049e-01j,\n",
       "         1.        +0.00000000e+00j],\n",
       "       [ 0.56737995+5.44340661e-01j,  1.        +0.00000000e+00j,\n",
       "        -0.18695499+2.93223833e-01j, -0.22211769+3.36949248e-02j,\n",
       "         0.74277723-5.98164229e-01j],\n",
       "       [ 0.3461668 +3.94296897e-01j,  1.        +2.77555756e-17j,\n",
       "         0.07862996-6.37442182e-02j, -0.1948906 -1.78249246e-01j,\n",
       "        -0.31474638-9.45784652e-01j],\n",
       "       [-0.26434892+5.78383359e-01j,  1.        -5.55111512e-17j,\n",
       "        -0.28501691+2.88151530e-01j, -0.27750431+9.43077498e-01j,\n",
       "         0.54357353-1.97337441e-01j],\n",
       "       [-0.75245645+1.41905198e-01j,  0.15457149-3.92623919e-01j,\n",
       "        -0.2333431 -6.38052895e-02j, -0.34655063+9.11571134e-01j,\n",
       "         1.        +0.00000000e+00j],\n",
       "       [-0.65648946-7.87129140e-02j, -0.21962574-9.39194558e-01j,\n",
       "        -0.04359659-1.34551154e-01j, -0.05303008+8.44683666e-01j,\n",
       "         1.        +0.00000000e+00j],\n",
       "       [ 1.        +5.55111512e-17j,  0.45650943-1.70956388e-02j,\n",
       "         0.3039302 +2.87080567e-01j,  0.44435444-5.65137382e-01j,\n",
       "        -0.99715609-3.59427212e-02j],\n",
       "       [ 1.        +0.00000000e+00j,  0.74821867-5.68382129e-01j,\n",
       "         0.36694402+3.70925784e-01j,  0.48780056-1.72042450e-01j,\n",
       "        -0.75221143-8.21652745e-03j],\n",
       "       [ 1.        +0.00000000e+00j,  0.43694957-5.64073839e-02j,\n",
       "         0.63850055+1.07667756e-01j, -0.86514187-2.35896501e-02j,\n",
       "         0.73105852+5.34265569e-01j],\n",
       "       [ 0.30641799+4.60279808e-01j,  1.        +0.00000000e+00j,\n",
       "         0.6384994 +6.09147040e-01j, -0.90826524+5.45483105e-02j,\n",
       "         0.68903444+2.19620620e-01j],\n",
       "       [ 1.        +2.77555756e-17j, -0.20658239-8.54927776e-01j,\n",
       "         0.67745973-5.68027780e-01j, -0.02607672+4.29294765e-01j,\n",
       "         0.05310867-7.48730321e-02j],\n",
       "       [ 1.        -2.77555756e-17j, -0.85608911+1.57589416e-01j,\n",
       "        -0.08880724-3.60479156e-01j,  0.16625976-6.72439192e-01j,\n",
       "        -0.37290583+9.05618326e-01j],\n",
       "       [-0.34474259-6.69648104e-01j,  0.68377994+6.36010707e-01j,\n",
       "        -0.1241454 +3.66427836e-01j, -0.79244592+1.22040016e-01j,\n",
       "         1.        +5.55111512e-17j],\n",
       "       [ 0.19519246+5.05966128e-01j, -0.98886799+8.82286637e-02j,\n",
       "         0.55371005+6.42618549e-01j,  1.        +0.00000000e+00j,\n",
       "         0.29728202-1.52318828e-02j],\n",
       "       [-0.12633806-5.79454023e-01j,  1.        -5.55111512e-17j,\n",
       "         0.66841858-3.59025643e-01j, -0.33844853-8.84834165e-01j,\n",
       "        -0.2687263 -2.17045264e-02j],\n",
       "       [ 0.08673238+4.68601115e-01j, -0.93949125-4.89212131e-02j,\n",
       "         1.        +0.00000000e+00j,  0.60519482-5.42769385e-01j,\n",
       "         0.28312861+1.71482420e-03j],\n",
       "       [-0.07789429-5.77928614e-01j,  1.        +0.00000000e+00j,\n",
       "         0.77448535+6.23803580e-01j,  0.46592009-6.28169847e-01j,\n",
       "        -0.25139619-1.59977350e-03j],\n",
       "       [-0.06956969-5.23702382e-01j,  1.        +0.00000000e+00j,\n",
       "        -0.29731273+9.45169574e-01j,  0.34670058+3.20070884e-01j,\n",
       "        -0.27018447+2.18453507e-02j],\n",
       "       [ 0.14022875-1.53889720e-01j,  1.        -2.77555756e-17j,\n",
       "        -0.63960124-1.83927234e-01j,  0.82176234+5.64873147e-01j,\n",
       "        -0.00100808+4.48891299e-02j],\n",
       "       [ 0.73519654-2.94282841e-01j,  1.        +0.00000000e+00j,\n",
       "        -0.36459331-9.19751855e-01j, -0.024635  +1.37691473e-01j,\n",
       "         0.10624399+2.91585091e-01j],\n",
       "       [-0.59194984+7.18882030e-02j, -0.00405718-4.40849279e-01j,\n",
       "        -0.31028457+9.37017046e-01j,  1.        +0.00000000e+00j,\n",
       "        -0.0787162 -2.16071229e-01j],\n",
       "       [ 0.61908372+3.80667517e-01j,  1.        +5.55111512e-17j,\n",
       "         0.27345063-3.13614257e-01j,  0.78686891-5.47631933e-01j,\n",
       "        -0.19511651+2.93999200e-01j],\n",
       "       [-0.25872568+8.91023073e-01j,  0.12251371+6.44149524e-01j,\n",
       "         0.64767728+5.51468145e-01j,  1.        -5.55111512e-17j,\n",
       "        -0.41323484-9.35744707e-02j],\n",
       "       [ 0.61334252+6.47838272e-01j, -0.29318881+9.13450363e-01j,\n",
       "         0.42532618-4.10695174e-01j, -0.77801199+3.40723904e-01j,\n",
       "         1.        +0.00000000e+00j],\n",
       "       [-0.22277193+6.92620407e-01j, -0.57389657-3.89176577e-01j,\n",
       "         1.        +4.33680869e-19j,  0.13763017-3.25411607e-01j,\n",
       "         0.8048578 +5.79512694e-01j],\n",
       "       [-0.34448015+4.07163507e-01j, -0.32739471-8.58371745e-01j,\n",
       "         1.        +0.00000000e+00j,  0.6879651 -3.45708895e-01j,\n",
       "         0.62134743+3.85964168e-01j],\n",
       "       [ 0.59566689+3.26605346e-01j,  0.46520483+6.34561016e-01j,\n",
       "         0.54802368-7.72816573e-02j, -0.25546544+9.56247293e-01j,\n",
       "         1.        -1.38777878e-17j],\n",
       "       [ 0.17433892+4.35246744e-03j,  0.13985303-7.15318019e-01j,\n",
       "         0.73936226-5.62896564e-01j,  1.        -1.11022302e-16j,\n",
       "         0.6908017 -5.19468331e-01j],\n",
       "       [-0.61721823-3.46658625e-01j, -0.40636187+8.75080007e-01j,\n",
       "         1.        -1.11022302e-16j, -0.13985413+9.32357319e-01j,\n",
       "         0.11797315+5.38732492e-01j],\n",
       "       [ 0.78098506+3.53495752e-01j,  0.58431997-4.21600359e-01j,\n",
       "        -0.8633745 +1.88982632e-01j,  1.        +5.55111512e-17j,\n",
       "        -0.06691161-9.80785383e-01j],\n",
       "       [-0.27747988+8.29358167e-01j,  0.27839791+3.01109590e-01j,\n",
       "        -0.44218004-8.24856252e-01j, -0.50883574+7.17581659e-01j,\n",
       "         1.        +0.00000000e+00j],\n",
       "       [-0.57051808-1.03065301e-02j,  0.50824523+6.07427201e-01j,\n",
       "         0.74885039-6.26662460e-01j,  1.        +0.00000000e+00j,\n",
       "         0.04195458+2.64889192e-01j],\n",
       "       [-0.00157557-7.05907128e-01j, -0.07429307+2.91892308e-01j,\n",
       "         0.80190261+5.32209615e-01j,  1.        +0.00000000e+00j,\n",
       "        -0.71614959+5.98417650e-04j],\n",
       "       [-0.43261431+3.75512694e-01j,  1.        +0.00000000e+00j,\n",
       "         0.78743369-5.92356778e-01j,  0.5573261 -3.45233365e-01j,\n",
       "         0.34261289+2.95317445e-01j],\n",
       "       [-0.59848084+1.03483910e-01j,  1.        -6.93889390e-18j,\n",
       "         0.7063179 +3.64658461e-01j,  0.83241279-4.80108782e-01j,\n",
       "        -0.00691522+6.65599871e-01j],\n",
       "       [-0.22448851-1.38408726e-01j, -0.30071699+9.33722862e-01j,\n",
       "         1.        +0.00000000e+00j, -0.20728964+5.87093873e-01j,\n",
       "         0.20635541+7.78104566e-02j],\n",
       "       [-0.21720947+4.35351608e-01j, -0.01734459-7.11410110e-01j,\n",
       "         1.        +0.00000000e+00j, -0.3403699 -8.73286498e-01j,\n",
       "         0.61803783+4.52953522e-01j],\n",
       "       [ 0.02399014+1.29090021e-01j, -0.86968251+3.67899565e-02j,\n",
       "         1.        +5.55111512e-17j, -0.89376488-4.48410590e-02j,\n",
       "         0.56073946+7.89182115e-02j],\n",
       "       [ 0.18842053-4.23440852e-01j, -0.63130514-1.33362532e-01j,\n",
       "        -0.3131777 +4.06725639e-01j, -0.2837503 +9.53525899e-01j,\n",
       "         1.        +0.00000000e+00j],\n",
       "       [ 1.        +0.00000000e+00j, -0.04329063-3.31161741e-01j,\n",
       "        -0.23027751-2.61186238e-01j, -0.9005209 -6.87449706e-02j,\n",
       "         0.74723731+4.43029401e-01j],\n",
       "       [ 1.        -5.55111512e-17j,  0.02178831+3.78650330e-01j,\n",
       "         0.33307876-1.79672638e-01j, -0.04956683-1.80067027e-01j,\n",
       "         0.8086689 -5.86871174e-01j],\n",
       "       [ 0.04571404+7.33067425e-01j, -0.34149962+7.54117288e-01j,\n",
       "         0.69467048+4.20478371e-01j,  1.        -2.77555756e-17j,\n",
       "         0.71704117-4.51387539e-01j],\n",
       "       [-0.20640941+9.13583108e-01j, -0.38364844+6.26404932e-01j,\n",
       "         0.62092723+4.94557047e-01j,  1.        +0.00000000e+00j,\n",
       "         0.56586073-1.12576608e-01j],\n",
       "       [ 1.        +5.55111512e-17j, -0.58681877-4.17016411e-03j,\n",
       "         0.56180498+5.55571184e-01j,  0.72940478-5.98518436e-01j,\n",
       "         0.14355332+3.65859118e-01j],\n",
       "       [ 1.        +0.00000000e+00j, -0.30474095+6.02073653e-01j,\n",
       "         0.69366019-5.67013786e-01j,  0.17746506-7.73807221e-01j,\n",
       "        -0.26266707+8.74457493e-01j],\n",
       "       [-0.13469794-6.77156151e-01j,  0.56381149-2.44839316e-01j,\n",
       "        -0.97125866+3.71560268e-02j, -0.37925713+2.74291238e-01j,\n",
       "         1.        +0.00000000e+00j],\n",
       "       [-0.27418113-9.54232400e-01j, -0.37096732+4.08100941e-01j,\n",
       "         1.        +2.77555756e-17j, -0.36423818-7.78962859e-01j,\n",
       "         0.21437132-7.63749516e-01j],\n",
       "       [ 0.57621858-5.30294203e-01j, -0.13349741-4.18114720e-01j,\n",
       "        -0.32409807+8.84717055e-01j,  0.4453352 -1.73852228e-01j,\n",
       "         1.        +0.00000000e+00j],\n",
       "       [-0.97519745+8.04257319e-02j,  0.15962251-1.28096660e-01j,\n",
       "        -0.05463867-8.65771461e-02j,  0.76499411-3.28862699e-01j,\n",
       "         1.        +0.00000000e+00j],\n",
       "       [ 1.        -5.55111512e-17j, -0.34098809-3.23852764e-02j,\n",
       "        -0.12658168-5.20000276e-01j, -0.30166351+9.41901331e-01j,\n",
       "        -0.38953945-1.40558802e-02j],\n",
       "       [-0.30532865+9.27210099e-02j, -0.1409432 -2.11661491e-01j,\n",
       "        -0.21935928-6.84870030e-01j,  0.77504396+5.63191783e-01j,\n",
       "         1.        +2.77555756e-17j],\n",
       "       [ 1.        -1.11022302e-16j, -0.50965549+2.17332943e-01j,\n",
       "        -0.91003086-1.77513144e-01j,  0.50031539+1.49928968e-01j,\n",
       "        -0.40928064-8.62942157e-01j],\n",
       "       [ 0.48638346-4.07258055e-01j, -0.3485984 +3.15484783e-01j,\n",
       "        -0.97184777+2.29311872e-03j,  1.        +5.55111512e-17j,\n",
       "        -0.11934217-5.66753119e-01j],\n",
       "       [ 1.        +0.00000000e+00j, -0.30253683-7.39294340e-01j,\n",
       "        -0.17599412-8.19805645e-01j, -0.1177556 +5.40683241e-01j,\n",
       "        -0.21138387+7.55212030e-01j],\n",
       "       [ 1.        -5.55111512e-17j, -0.92167033-1.61683027e-01j,\n",
       "        -0.656829  -7.38993079e-02j, -0.16036555+3.07520008e-01j,\n",
       "        -0.11370127+9.37459186e-01j],\n",
       "       [ 1.        +5.55111512e-17j,  0.49448442-3.02524452e-01j,\n",
       "         0.74604521-5.80614342e-01j, -0.34108166+6.62548939e-01j,\n",
       "        -0.05848172+5.94339355e-01j],\n",
       "       [-0.37636035-7.21211848e-01j,  1.        -2.77555756e-17j,\n",
       "         0.78978079-4.33395645e-01j,  0.33687573+2.90923118e-01j,\n",
       "         0.59569476-4.97861886e-01j],\n",
       "       [ 0.71721062-4.61118745e-01j,  0.7151568 +4.29693255e-01j,\n",
       "         1.        -5.55111512e-17j, -0.22078193+6.18186121e-01j,\n",
       "         0.46984574+3.89835989e-01j],\n",
       "       [-0.03372816-5.59038000e-01j,  0.80521866+3.90441652e-01j,\n",
       "        -0.11181516+6.52280427e-01j,  0.66636042+6.53319584e-01j,\n",
       "         1.        +0.00000000e+00j],\n",
       "       [-0.08289301-1.55431278e-01j,  0.63443026-6.57204899e-01j,\n",
       "         1.        +0.00000000e+00j,  0.41876439-5.94064222e-01j,\n",
       "         0.88166204-4.34942862e-01j],\n",
       "       [-0.735618  -8.75400656e-02j,  0.47645065-2.31799409e-01j,\n",
       "        -0.07483768+6.80848472e-01j,  1.        +5.55111512e-17j,\n",
       "        -0.29555981-8.85864417e-01j],\n",
       "       [ 0.39764006+7.92989007e-02j,  0.41352198-2.63080469e-01j,\n",
       "         1.        +3.46944695e-18j, -0.02607787-5.58394377e-01j,\n",
       "         0.81005814+5.75197027e-01j],\n",
       "       [ 0.36997344+5.86457114e-01j, -0.01293579-3.10604835e-01j,\n",
       "         1.        +0.00000000e+00j, -0.22175948-9.34351624e-01j,\n",
       "        -0.10008269+8.86051518e-01j]])"
      ]
     },
     "execution_count": 6,
     "metadata": {},
     "output_type": "execute_result"
    }
   ],
   "source": [
    "points = pg.generate_points(100)\n",
    "points"
   ]
  },
  {
   "cell_type": "markdown",
   "metadata": {},
   "source": [
    "We see that the largest coordinate of each point is 1+0.j. The reason for that is two-fold:\n",
    "\n",
    "1. The numerics are more stable when we work with points, which have affine coordinates in the range of $|x_i| < 1$.\n",
    "2. The coordinate with 1+0.j already specifies the ambient space patch we are working in.\n",
    "\n",
    "We can also check if these points are all really satisfying the hypersurface equation of the Calabi-Yau."
   ]
  },
  {
   "cell_type": "code",
   "execution_count": 7,
   "metadata": {},
   "outputs": [
    {
     "data": {
      "text/plain": [
       "array([ 1.72084569e-15+1.11022302e-15j, -1.96370697e-15+7.50094431e-15j,\n",
       "       -1.92901251e-15-6.13398221e-15j, -4.45792318e-15-5.78768899e-15j,\n",
       "       -3.04270498e-15-2.25514052e-16j,  8.88178420e-16+3.74006381e-15j,\n",
       "       -1.55431223e-15-4.71844785e-16j, -9.99200722e-16+5.55111512e-17j,\n",
       "        2.16493490e-15+1.94289029e-15j, -7.38124839e-16+2.63677968e-16j,\n",
       "        3.02904403e-15-1.26027661e-15j, -2.03682286e-15-3.62199420e-15j,\n",
       "        1.15879528e-15-3.94649591e-16j,  4.14016152e-16-9.76097051e-16j,\n",
       "       -2.56088553e-16-3.58220398e-16j, -5.55111512e-17-2.22044605e-16j,\n",
       "       -2.88657986e-15+4.44089210e-16j,  9.99200722e-16+1.31838984e-15j,\n",
       "       -6.55031585e-15+2.77555756e-15j,  1.11022302e-15+2.22044605e-16j,\n",
       "        2.77555756e-15-3.19189120e-16j, -3.77475828e-15-2.27595720e-15j,\n",
       "       -3.31408078e-15+2.33320308e-15j,  1.52655666e-15+1.55431223e-15j,\n",
       "       -4.30211422e-16-4.85722573e-16j, -2.30284541e-16-1.68268177e-16j,\n",
       "        2.67841305e-15-6.93889390e-15j,  2.77555756e-15-2.81719092e-15j,\n",
       "       -6.66133815e-16-3.88578059e-16j,  7.21644966e-16+5.55111512e-17j,\n",
       "       -6.77192677e-16-6.59194921e-17j,  8.18789481e-16-1.48839274e-15j,\n",
       "        1.07205911e-15+3.91353616e-15j, -6.10622664e-16+1.77635684e-15j,\n",
       "       -1.38777878e-15-5.27355937e-16j,  2.33146835e-15+8.32667268e-16j,\n",
       "        1.33226763e-15-2.05044315e-15j,  1.73472348e-16+1.90125693e-15j,\n",
       "        1.09634524e-15-6.24500451e-16j, -4.85722573e-17-2.08166817e-16j,\n",
       "        2.22044605e-15+2.77555756e-17j,  2.22044605e-15-1.56125113e-16j,\n",
       "        6.32827124e-15-4.05231404e-15j,  4.88498131e-15+9.99200722e-16j,\n",
       "       -9.99200722e-16-5.82867088e-16j, -1.28022593e-15-2.49800181e-16j,\n",
       "        1.11022302e-16+1.94289029e-16j, -2.22044605e-16-4.99600361e-16j,\n",
       "       -5.55111512e-16+1.08246745e-15j,  8.32667268e-17+4.30211422e-16j,\n",
       "        1.11022302e-15-4.19803081e-16j, -2.63677968e-16-8.88178420e-16j,\n",
       "        1.23342397e-15-9.19826959e-17j,  1.55431223e-15-1.77635684e-15j,\n",
       "       -8.88178420e-16+1.11022302e-15j,  3.43215040e-15+3.30345560e-15j,\n",
       "        2.81458884e-16+5.25859738e-15j, -7.80625564e-17-1.62935258e-16j,\n",
       "       -2.23323963e-15+2.02070890e-15j,  4.87890978e-17-5.22585447e-17j,\n",
       "        8.71344844e-17-7.89244707e-16j,  1.82579646e-16+3.64075090e-15j,\n",
       "       -9.01622527e-16-2.47494896e-15j,  3.77302356e-16-1.38083989e-15j,\n",
       "       -8.39606162e-16+1.44849410e-15j,  2.33146835e-15-2.22044605e-16j,\n",
       "        4.77395901e-15+1.87350135e-16j,  5.66213743e-15-3.89965837e-15j,\n",
       "        1.04360964e-14-4.53803661e-15j,  7.21644966e-16+1.02140518e-14j,\n",
       "       -8.11850587e-16-4.48599491e-15j, -3.33066907e-16-6.10622664e-15j,\n",
       "       -2.88657986e-15-1.11022302e-16j, -2.43945489e-16-9.18969761e-16j,\n",
       "        4.71844785e-16+9.72529349e-17j, -8.08381140e-16+2.29850861e-16j,\n",
       "       -1.86309301e-15-5.55111512e-16j,  2.01046319e-15-2.33558832e-15j,\n",
       "       -7.21644966e-16+5.55111512e-17j, -8.60422844e-16+2.08166817e-16j,\n",
       "        1.11022302e-16+4.70457007e-15j,  1.06581410e-14+2.63677968e-15j,\n",
       "        4.88498131e-15+3.39572120e-15j, -9.43689571e-16+3.60822483e-16j,\n",
       "       -5.20417043e-16-1.94289029e-16j,  4.00894595e-15-4.33680869e-16j,\n",
       "       -6.55031585e-15-5.99520433e-15j, -8.88178420e-16-9.71445147e-16j,\n",
       "       -6.10622664e-16+3.96904731e-15j, -8.88178420e-16-5.27355937e-16j,\n",
       "        4.44089210e-16-1.66533454e-16j, -1.71737624e-15+4.11671565e-15j,\n",
       "       -8.88178420e-16+1.63757896e-15j,  1.18793864e-14-1.77635684e-15j,\n",
       "       -1.51961776e-15+1.83880688e-15j,  4.99600361e-16-4.16333634e-16j,\n",
       "        1.16573418e-15-5.55111512e-16j,  2.10248485e-15-1.91513472e-15j,\n",
       "       -1.66533454e-16-8.32667268e-17j,  4.02455846e-16-1.85962357e-15j,\n",
       "        8.88178420e-16-5.55111512e-17j,  5.10702591e-15-5.77315973e-15j,\n",
       "       -3.99680289e-15-7.04991621e-15j, -5.55111512e-15+6.12704332e-15j,\n",
       "        2.83106871e-15-6.27276009e-15j])"
      ]
     },
     "execution_count": 7,
     "metadata": {},
     "output_type": "execute_result"
    }
   ],
   "source": [
    "pg.cy_condition(points)"
   ]
  },
  {
   "cell_type": "markdown",
   "metadata": {},
   "source": [
    "what we are really interested in from the *PointGenerator* is a training set for our neural networks. Such a training set can be generated as follows:"
   ]
  },
  {
   "cell_type": "code",
   "execution_count": 8,
   "metadata": {},
   "outputs": [
    {
     "name": "stdout",
     "output_type": "stream",
     "text": [
      "Help on method prepare_dataset in module cymetric.pointgen.pointgen:\n",
      "\n",
      "prepare_dataset(n_p, dirname, val_split=0.1, ltails=0, rtails=0) method of cymetric.pointgen.pointgen.PointGenerator instance\n",
      "    Prepares training and validation data.\n",
      "    \n",
      "    Args:\n",
      "        n_p (int): Number of points to generate.\n",
      "        dirname (str): Directory name to save dataset in.\n",
      "        val_split (float, optional): train-val split. Defaults to 0.1.\n",
      "        ltails (float, optional): Percentage discarded on the left tail\n",
      "            of weight distribution. Defaults to 0.\n",
      "        rtails (float, optional): Percentage discarded on the right tail\n",
      "            of weight distribution. Defaults to 0.\n",
      "    \n",
      "    Returns:\n",
      "        np.float: kappa = vol_k / vol_cy\n",
      "\n"
     ]
    }
   ],
   "source": [
    "help(pg.prepare_dataset)"
   ]
  },
  {
   "cell_type": "markdown",
   "metadata": {},
   "source": [
    "We specify the number of points and the directory name to save the file in. Note the file will always have the name *dataset.npz*."
   ]
  },
  {
   "cell_type": "code",
   "execution_count": 9,
   "metadata": {},
   "outputs": [],
   "source": [
    "dirname = 'fermat_pg'\n",
    "n_p = 100000"
   ]
  },
  {
   "cell_type": "markdown",
   "metadata": {},
   "source": [
    "and generate the dataset. This will also compute and return $\\kappa=\\text{vol}_\\text{K}/\\text{vol}_\\text{CY}$"
   ]
  },
  {
   "cell_type": "code",
   "execution_count": 10,
   "metadata": {},
   "outputs": [
    {
     "name": "stderr",
     "output_type": "stream",
     "text": [
      "/Users/ruehle/venv-ml/lib/python3.8/site-packages/numpy/linalg/linalg.py:2146: RuntimeWarning: divide by zero encountered in det\n",
      "  r = _umath_linalg.det(a, signature=signature)\n",
      "/Users/ruehle/venv-ml/lib/python3.8/site-packages/numpy/linalg/linalg.py:2146: RuntimeWarning: invalid value encountered in det\n",
      "  r = _umath_linalg.det(a, signature=signature)\n",
      "pointgen:INFO:Vol_k: 0.1666666666666666, Vol_cy: 9.475203681442574.\n"
     ]
    },
    {
     "data": {
      "text/plain": [
       "0.01758977139384217"
      ]
     },
     "execution_count": 10,
     "metadata": {},
     "output_type": "execute_result"
    }
   ],
   "source": [
    "kappa = pg.prepare_dataset(n_p, dirname);\n",
    "kappa"
   ]
  },
  {
   "cell_type": "markdown",
   "metadata": {},
   "source": [
    "We load the dataset with"
   ]
  },
  {
   "cell_type": "code",
   "execution_count": 11,
   "metadata": {},
   "outputs": [],
   "source": [
    "data = np.load(os.path.join(dirname, 'dataset.npz'))"
   ]
  },
  {
   "cell_type": "markdown",
   "metadata": {},
   "source": [
    "and study its content"
   ]
  },
  {
   "cell_type": "code",
   "execution_count": 12,
   "metadata": {},
   "outputs": [
    {
     "name": "stdout",
     "output_type": "stream",
     "text": [
      "X_train <class 'numpy.ndarray'>\n",
      "y_train <class 'numpy.ndarray'>\n",
      "X_val <class 'numpy.ndarray'>\n",
      "y_val <class 'numpy.ndarray'>\n",
      "val_pullbacks <class 'numpy.ndarray'>\n"
     ]
    }
   ],
   "source": [
    "for key in data:\n",
    "    print(key, type(data[key]))"
   ]
  },
  {
   "cell_type": "markdown",
   "metadata": {},
   "source": [
    "It contains training and validation data and the validation pullbacks. You might ask, what is written in the y_true values for validation and training data, given that we don't know the exact Ricci-flat metric. The 'y_train/val' arrays contain the integration weights and $\\Omega \\wedge \\bar\\Omega$ for each point. In principle, they can be used for any relevant pointwise information that could be needed during the training process."
   ]
  },
  {
   "cell_type": "code",
   "execution_count": 13,
   "metadata": {},
   "outputs": [],
   "source": [
    "weights = data['y_val'][:, 0]\n",
    "omega = data['y_val'][:, 1]"
   ]
  },
  {
   "cell_type": "markdown",
   "metadata": {},
   "source": [
    "we can also compute these values directly with the *PointGenerator*. Note, that the points in 'X_train/val' are floats, because our neural network will work with real values. We can recover the complex points as follows:"
   ]
  },
  {
   "cell_type": "code",
   "execution_count": 14,
   "metadata": {},
   "outputs": [],
   "source": [
    "points = data['X_val'][:, 0:pg.ncoords] + 1.j*data['X_val'][:, pg.ncoords:]"
   ]
  },
  {
   "cell_type": "markdown",
   "metadata": {},
   "source": [
    "and then compute the weights"
   ]
  },
  {
   "cell_type": "code",
   "execution_count": 15,
   "metadata": {},
   "outputs": [
    {
     "data": {
      "text/plain": [
       "True"
      ]
     },
     "execution_count": 15,
     "metadata": {},
     "output_type": "execute_result"
    }
   ],
   "source": [
    "weights2 = pg.point_weight(points)\n",
    "np.allclose(weights, weights2)"
   ]
  },
  {
   "cell_type": "markdown",
   "metadata": {},
   "source": [
    "and the holomorphic volume form"
   ]
  },
  {
   "cell_type": "code",
   "execution_count": 16,
   "metadata": {},
   "outputs": [
    {
     "data": {
      "text/plain": [
       "True"
      ]
     },
     "execution_count": 16,
     "metadata": {},
     "output_type": "execute_result"
    }
   ],
   "source": [
    "omega2 = pg.holomorphic_volume_form(points)\n",
    "omega2 = omega2 * np.conj(omega2)\n",
    "np.allclose(omega, omega2)"
   ]
  },
  {
   "cell_type": "markdown",
   "metadata": {},
   "source": [
    "We will have to give information of the monomials and their derivatives to the tensorflow model. For this purpose we will create pickled dictionary denoted by *BASIS*."
   ]
  },
  {
   "cell_type": "code",
   "execution_count": 17,
   "metadata": {},
   "outputs": [
    {
     "data": {
      "text/plain": [
       "0"
      ]
     },
     "execution_count": 17,
     "metadata": {},
     "output_type": "execute_result"
    }
   ],
   "source": [
    "pg.prepare_basis(dirname, kappa=kappa)"
   ]
  },
  {
   "cell_type": "markdown",
   "metadata": {},
   "source": [
    "Let us look at the information stored in *basis.pickle*"
   ]
  },
  {
   "cell_type": "code",
   "execution_count": 18,
   "metadata": {},
   "outputs": [
    {
     "name": "stdout",
     "output_type": "stream",
     "text": [
      "DQDZB0\n",
      "DQDZF0\n",
      "QB0\n",
      "QF0\n",
      "NFOLD\n",
      "AMBIENT\n",
      "KMODULI\n",
      "NHYPER\n",
      "KAPPA\n"
     ]
    }
   ],
   "source": [
    "with open(os.path.join(dirname, 'basis.pickle'), 'rb') as f:\n",
    "    basis = pickle.load(f)\n",
    "for key in basis:\n",
    "    print(key)"
   ]
  },
  {
   "cell_type": "markdown",
   "metadata": {},
   "source": [
    "So in case you want to use your own PointGenerator with our TensorFlow models you will have to create a similar basis dictionary. Here we briefly describe what each of these keys stands for. In general *Q* denotes the defining hypersurface(s) with the final integer digit denoting the hypersurface index. *D* refers to derivatives, *Z* to the ambient space coordinates, *B* to a monomials basis and *F* for factors/coefficients for each monomial.\n",
    "\n",
    "1. \"DQDZB0\": $\\frac{\\partial Q_0}{\\partial z_i}$ monomials basis of derivatives of the first (and only for quintic) hypersurface w.r.t. ambient coordinates. \n",
    "2. \"DQDZF0\": $\\frac{\\partial Q_0}{\\partial z_i}$ coefficients of the monomial basis.\n",
    "3. \"QB0\": monomials basis for first hypersurface\n",
    "4. \"QF0\": coefficients for monomial basis.\n",
    "5. \"NFOLD\": CY dimension.\n",
    "6. \"AMBIENT\": degrees of projective spaces making up the ambient space.\n",
    "6. \"KMODULI\": kähler moduli corresponding to each projective factors. Note the CY needs to be favourable, otherwise you will have some superposition.\n",
    "7. \"NHYPER\": number of hypersurfaces.\n",
    "8. \"KAPPA\": The ratio between the volume measures (Kahler volume over holomorphic volume)\n",
    "\n",
    "That pretty much sums up our introduction to the *PointGenerator* class, next we will implement the Fermat quintic in the *CICYPointGenerator*."
   ]
  },
  {
   "cell_type": "markdown",
   "metadata": {},
   "source": [
    "## CICYPointGenerator\n",
    "\n",
    "The other point generators come with the same functionality and routines as the *PointGenerator*. \n",
    "\n",
    "First we load from the cymetric package."
   ]
  },
  {
   "cell_type": "code",
   "execution_count": 19,
   "metadata": {},
   "outputs": [],
   "source": [
    "from cymetric.pointgen.pointgen_cicy import CICYPointGenerator"
   ]
  },
  {
   "cell_type": "markdown",
   "metadata": {},
   "source": [
    "In contrast to the *PointGenerator* the *CICYPointGenerator* expects a list of monomials and coefficients. We reuse our previous monomials (and coefficients) with"
   ]
  },
  {
   "cell_type": "code",
   "execution_count": 20,
   "metadata": {},
   "outputs": [],
   "source": [
    "pgcicy = CICYPointGenerator([monomials], [coefficients], kmoduli, ambient)"
   ]
  },
  {
   "cell_type": "markdown",
   "metadata": {},
   "source": [
    "we again create a dataset"
   ]
  },
  {
   "cell_type": "code",
   "execution_count": 21,
   "metadata": {},
   "outputs": [],
   "source": [
    "dirname = 'fermat_pgcicy'"
   ]
  },
  {
   "cell_type": "code",
   "execution_count": 22,
   "metadata": {
    "collapsed": true
   },
   "outputs": [
    {
     "name": "stderr",
     "output_type": "stream",
     "text": [
      "/Users/ruehle/venv-ml/lib/python3.8/site-packages/scipy/optimize/minpack.py:175: RuntimeWarning: The iteration is not making good progress, as measured by the \n",
      "  improvement from the last ten iterations.\n",
      "  warnings.warn(msg, RuntimeWarning)\n",
      "/Users/ruehle/venv-ml/lib/python3.8/site-packages/scipy/optimize/minpack.py:175: RuntimeWarning: The iteration is not making good progress, as measured by the \n",
      "  improvement from the last ten iterations.\n",
      "  warnings.warn(msg, RuntimeWarning)\n",
      "/Users/ruehle/venv-ml/lib/python3.8/site-packages/scipy/optimize/minpack.py:175: RuntimeWarning: The iteration is not making good progress, as measured by the \n",
      "  improvement from the last five Jacobian evaluations.\n",
      "  warnings.warn(msg, RuntimeWarning)\n",
      "/Users/ruehle/venv-ml/lib/python3.8/site-packages/scipy/optimize/minpack.py:175: RuntimeWarning: The iteration is not making good progress, as measured by the \n",
      "  improvement from the last ten iterations.\n",
      "  warnings.warn(msg, RuntimeWarning)\n",
      "/Users/ruehle/venv-ml/lib/python3.8/site-packages/scipy/optimize/minpack.py:175: RuntimeWarning: The iteration is not making good progress, as measured by the \n",
      "  improvement from the last ten iterations.\n",
      "  warnings.warn(msg, RuntimeWarning)\n",
      "/Users/ruehle/venv-ml/lib/python3.8/site-packages/scipy/optimize/minpack.py:175: RuntimeWarning: The iteration is not making good progress, as measured by the \n",
      "  improvement from the last five Jacobian evaluations.\n",
      "  warnings.warn(msg, RuntimeWarning)\n",
      "/Users/ruehle/venv-ml/lib/python3.8/site-packages/scipy/optimize/minpack.py:175: RuntimeWarning: The iteration is not making good progress, as measured by the \n",
      "  improvement from the last ten iterations.\n",
      "  warnings.warn(msg, RuntimeWarning)\n",
      "/Users/ruehle/venv-ml/lib/python3.8/site-packages/scipy/optimize/minpack.py:175: RuntimeWarning: The iteration is not making good progress, as measured by the \n",
      "  improvement from the last five Jacobian evaluations.\n",
      "  warnings.warn(msg, RuntimeWarning)\n",
      "/Users/ruehle/venv-ml/lib/python3.8/site-packages/scipy/optimize/minpack.py:175: RuntimeWarning: The iteration is not making good progress, as measured by the \n",
      "  improvement from the last ten iterations.\n",
      "  warnings.warn(msg, RuntimeWarning)\n",
      "/Users/ruehle/venv-ml/lib/python3.8/site-packages/scipy/optimize/minpack.py:175: RuntimeWarning: The iteration is not making good progress, as measured by the \n",
      "  improvement from the last five Jacobian evaluations.\n",
      "  warnings.warn(msg, RuntimeWarning)\n",
      "/Users/ruehle/venv-ml/lib/python3.8/site-packages/scipy/optimize/minpack.py:175: RuntimeWarning: The iteration is not making good progress, as measured by the \n",
      "  improvement from the last ten iterations.\n",
      "  warnings.warn(msg, RuntimeWarning)\n",
      "/Users/ruehle/venv-ml/lib/python3.8/site-packages/scipy/optimize/minpack.py:175: RuntimeWarning: The iteration is not making good progress, as measured by the \n",
      "  improvement from the last five Jacobian evaluations.\n",
      "  warnings.warn(msg, RuntimeWarning)\n",
      "/Users/ruehle/venv-ml/lib/python3.8/site-packages/scipy/optimize/minpack.py:175: RuntimeWarning: The iteration is not making good progress, as measured by the \n",
      "  improvement from the last ten iterations.\n",
      "  warnings.warn(msg, RuntimeWarning)\n",
      "/Users/ruehle/venv-ml/lib/python3.8/site-packages/scipy/optimize/minpack.py:175: RuntimeWarning: The iteration is not making good progress, as measured by the \n",
      "  improvement from the last ten iterations.\n",
      "  warnings.warn(msg, RuntimeWarning)\n",
      "/Users/ruehle/venv-ml/lib/python3.8/site-packages/scipy/optimize/minpack.py:175: RuntimeWarning: The iteration is not making good progress, as measured by the \n",
      "  improvement from the last ten iterations.\n",
      "  warnings.warn(msg, RuntimeWarning)\n",
      "/Users/ruehle/venv-ml/lib/python3.8/site-packages/scipy/optimize/minpack.py:175: RuntimeWarning: The iteration is not making good progress, as measured by the \n",
      "  improvement from the last five Jacobian evaluations.\n",
      "  warnings.warn(msg, RuntimeWarning)\n",
      "/Users/ruehle/venv-ml/lib/python3.8/site-packages/numpy/linalg/linalg.py:2146: RuntimeWarning: divide by zero encountered in det\n",
      "  r = _umath_linalg.det(a, signature=signature)\n",
      "/Users/ruehle/venv-ml/lib/python3.8/site-packages/numpy/linalg/linalg.py:2146: RuntimeWarning: invalid value encountered in det\n",
      "  r = _umath_linalg.det(a, signature=signature)\n",
      "pointgen:INFO:Vol_k: 0.1666666666666666, Vol_cy: 9.907403170308614.\n"
     ]
    }
   ],
   "source": [
    "kappa = pgcicy.prepare_dataset(n_p, dirname)"
   ]
  },
  {
   "cell_type": "markdown",
   "metadata": {},
   "source": [
    "as you might have realised, this took significantly longer than before. The reason for that is also related to all the warnings. The *CICYPointGenerator* utilises *scipy.optimize.fsolve* to find solutions on CICYs. *fsolve* only provides a single root of the defining hypersurfaces and requires more involved numerics, thus leading to worse performance (also in accuracy).\n",
    "\n",
    "We again create a basis for the tensorflow models"
   ]
  },
  {
   "cell_type": "code",
   "execution_count": 24,
   "metadata": {},
   "outputs": [
    {
     "name": "stdout",
     "output_type": "stream",
     "text": [
      "DQDZB0\n",
      "DQDZF0\n",
      "QB0\n",
      "QF0\n",
      "NFOLD\n",
      "AMBIENT\n",
      "KMODULI\n",
      "NHYPER\n",
      "KAPPA\n"
     ]
    }
   ],
   "source": [
    "pgcicy.prepare_basis(dirname, kappa)\n",
    "with open(os.path.join(dirname, 'basis.pickle'), 'rb') as f:\n",
    "    basis = pickle.load(f)\n",
    "for key in basis:\n",
    "    print(key)"
   ]
  },
  {
   "cell_type": "markdown",
   "metadata": {},
   "source": [
    "and see that the keys are identical to before."
   ]
  },
  {
   "cell_type": "markdown",
   "metadata": {},
   "source": [
    "## PointGeneratorMathematica\n",
    "\n",
    "As the name suggests, *PointGeneratorMathematica* uses Mathematica as a backend and hence needs mathematica installed on the system. It uses [wolframclient](https://reference.wolfram.com/language/WolframClientForPython/) for interop."
   ]
  },
  {
   "cell_type": "code",
   "execution_count": 25,
   "metadata": {},
   "outputs": [],
   "source": [
    "from cymetric.pointgen.pointgen_mathematica import PointGeneratorMathematica"
   ]
  },
  {
   "cell_type": "markdown",
   "metadata": {},
   "source": [
    "Just like the CICYPointGenerator, *PointGeneratorMathematica* expects a list of monomials and coefficients. We reuse our previous monomials (and coefficients) with"
   ]
  },
  {
   "cell_type": "code",
   "execution_count": 26,
   "metadata": {},
   "outputs": [],
   "source": [
    "pgmath = PointGeneratorMathematica([monomials], [coefficients], kmoduli, ambient)"
   ]
  },
  {
   "cell_type": "markdown",
   "metadata": {},
   "source": [
    "we again create a dataset"
   ]
  },
  {
   "cell_type": "code",
   "execution_count": 27,
   "metadata": {},
   "outputs": [],
   "source": [
    "dirname = 'fermat_pgmath'"
   ]
  },
  {
   "cell_type": "code",
   "execution_count": 28,
   "metadata": {},
   "outputs": [
    {
     "name": "stderr",
     "output_type": "stream",
     "text": [
      "WolframKernel-<tcp://127.0.0.1:52399>:INFO:Connected to logging socket: tcp://127.0.0.1:52399\n",
      "WolframKernel-<tcp://127.0.0.1:52399>:DEBUG:Evaluating a new expression.\n",
      "pointgenMathematica:DEBUG:Running with 10 Mathematica kernels.\n",
      "WolframKernel-<tcp://127.0.0.1:52399>:INFO:Configuration matrix: {{5}}\n",
      "WolframKernel-<tcp://127.0.0.1:52399>:INFO:Number of Parameters per P^n: {1}\n",
      "WolframKernel-<tcp://127.0.0.1:52399>:INFO:Number of points on CY from one ambient space intersection: 5\n",
      "WolframKernel-<tcp://127.0.0.1:52399>:INFO:Now generating 105263 points...\n",
      "WolframKernel-<tcp://127.0.0.1:52399>:INFO:Generated 0% of points\n",
      "WolframKernel-<tcp://127.0.0.1:52399>:INFO:Generated 5% of points\n",
      "WolframKernel-<tcp://127.0.0.1:52399>:INFO:Generated 10% of points\n",
      "WolframKernel-<tcp://127.0.0.1:52399>:INFO:Generated 15% of points\n",
      "WolframKernel-<tcp://127.0.0.1:52399>:INFO:Generated 20% of points\n",
      "WolframKernel-<tcp://127.0.0.1:52399>:INFO:Generated 25% of points\n",
      "WolframKernel-<tcp://127.0.0.1:52399>:INFO:Generated 30% of points\n",
      "WolframKernel-<tcp://127.0.0.1:52399>:INFO:Generated 35% of points\n",
      "WolframKernel-<tcp://127.0.0.1:52399>:INFO:Generated 40% of points\n",
      "WolframKernel-<tcp://127.0.0.1:52399>:INFO:Generated 45% of points\n",
      "WolframKernel-<tcp://127.0.0.1:52399>:INFO:Generated 50% of points\n",
      "WolframKernel-<tcp://127.0.0.1:52399>:INFO:Generated 55% of points\n",
      "WolframKernel-<tcp://127.0.0.1:52399>:INFO:Generated 60% of points\n",
      "WolframKernel-<tcp://127.0.0.1:52399>:INFO:Generated 65% of points\n",
      "WolframKernel-<tcp://127.0.0.1:52399>:INFO:Generated 70% of points\n",
      "WolframKernel-<tcp://127.0.0.1:52399>:INFO:Generated 75% of points\n",
      "WolframKernel-<tcp://127.0.0.1:52399>:INFO:Generated 80% of points\n",
      "WolframKernel-<tcp://127.0.0.1:52399>:INFO:Generated 85% of points\n",
      "WolframKernel-<tcp://127.0.0.1:52399>:INFO:Generated 90% of points\n",
      "WolframKernel-<tcp://127.0.0.1:52399>:INFO:Generated 95% of points\n",
      "WolframKernel-<tcp://127.0.0.1:52399>:INFO:done.\n",
      "pointgen:INFO:Vol_k: 0.16666666666666669, Vol_cy: 9.858139774117648.\n"
     ]
    }
   ],
   "source": [
    "kappa = pgmath.prepare_dataset(n_p, dirname)"
   ]
  },
  {
   "cell_type": "markdown",
   "metadata": {},
   "source": [
    "We again create a basis for the tensorflow models"
   ]
  },
  {
   "cell_type": "code",
   "execution_count": 29,
   "metadata": {},
   "outputs": [
    {
     "name": "stdout",
     "output_type": "stream",
     "text": [
      "DQDZB0\n",
      "DQDZF0\n",
      "QB0\n",
      "QF0\n",
      "NFOLD\n",
      "AMBIENT\n",
      "KMODULI\n",
      "NHYPER\n",
      "KAPPA\n"
     ]
    }
   ],
   "source": [
    "pgmath.prepare_basis(dirname, kappa)\n",
    "with open(os.path.join(dirname, 'basis.pickle'), 'rb') as f:\n",
    "    basis = pickle.load(f)\n",
    "for key in basis:\n",
    "    print(key)"
   ]
  },
  {
   "cell_type": "markdown",
   "metadata": {},
   "source": [
    "## ToricPointGenerator\n",
    "\n",
    "The *ToricPointGenerator* is somewhat special and requires additional input data generated from [SageMath](https://www.sagemath.org/). This *toric_data* can be straightforwardly generated in any sage kernel that has access to the *cymetric* package. In praxis only a single module is needed which can be found [here](../cymetric/sage/sagelib.py). \n",
    "\n",
    "The next cell won't work in your regular python notebook because it requires some sage routines for toric geometry. See [here](https://doc.sagemath.org/html/en/reference/schemes/sage/schemes/toric/variety.html) for more information about toric varieties and their implementation inn sage and [here](https://doc.sagemath.org/html/en/reference/discrete_geometry/sage/geometry/triangulation/point_configuration.html) for information about triangulations of PointCollections.\n",
    "\n",
    "We begin by setting up the quintic vertices, which define the fan of the toric ambient variety. After initialising said variety we load the *prepare_toric_cy_data()* routine and generate the neccessary data for the *ToricPointGenerator* and the toric TensorFlow models."
   ]
  },
  {
   "cell_type": "code",
   "execution_count": 30,
   "metadata": {},
   "outputs": [],
   "source": [
    "#from cymetric.sage.sagelib import prepare_toric_cy_data\n",
    "#import os as os\n",
    "## Quintic vertices\n",
    "#vertices = [\n",
    "#    [1, 0, 0, 0], [0, 1, 0, 0], [0, 0, 1, 0], [0, 0, 0, 1], [-1, -1, -1, -1]\n",
    "#]\n",
    "#origin = [0 for _ in range(len(vertices[0]))]\n",
    "#polytope = LatticePolytope(vertices)\n",
    "#pConfig = PointConfiguration(polytope.points(), star=origin)\n",
    "##set to topcom for more efficient triangulations\n",
    "#pConfig.set_engine(\"TOPCOM\")\n",
    "## restrict to fine star regular.\n",
    "#triangulations = pConfig.restrict_to_connected_triangulations()\n",
    "#triangulations = triangulations.restrict_to_fine_triangulations()\n",
    "#triangulations = triangulations.restrict_to_regular_triangulations()\n",
    "#triangulations = triangulations.restrict_to_star_triangulations(origin)\n",
    "##take first triangulation; build fan and TV\n",
    "#triang = triangulations.triangulate()\n",
    "#tv_fan = triang.fan()\n",
    "#TV = ToricVariety(tv_fan)\n",
    "#fname = os.path.join('fermat_pgtoric', 'toric_data.pickle')\n",
    "#toric_data = prepare_toric_cy_data(TV, fname)"
   ]
  },
  {
   "cell_type": "markdown",
   "metadata": {},
   "source": [
    "We are now in a position to go back to our regular python kernel or simply continue in Sage and load the *ToricPointGenerator*."
   ]
  },
  {
   "cell_type": "code",
   "execution_count": 31,
   "metadata": {},
   "outputs": [],
   "source": [
    "from cymetric.pointgen.pointgen_toric import ToricPointGenerator"
   ]
  },
  {
   "cell_type": "markdown",
   "metadata": {},
   "source": [
    "Let us look at the information that has been written to *toric_data.pickle*."
   ]
  },
  {
   "cell_type": "code",
   "execution_count": 33,
   "metadata": {
    "collapsed": true
   },
   "outputs": [
    {
     "name": "stdout",
     "output_type": "stream",
     "text": [
      "dim_cy\n",
      "3\n",
      "vol_j_norm\n",
      "5\n",
      "coeff_aK\n",
      "[(-0.3598856919030323-0.3957904412673601j), (0.7352082963460443-0.05954997836314934j), (1.6427359414091889+1.1115119126376223j), (0.00698403850687006-0.6043067820730422j), (0.25172007839797944+0.2861868091533119j), (-0.5221623410481752+0.9413092824050207j), (-0.256071423524973+0.6767936318416652j), (0.9859867885729775-1.7865203750587506j), (0.34686181929797305+0.482398058550499j), (-1.0197842461416078-1.2285479829506842j), (-1.38523629413815-0.2098437557697288j), (0.2828200820731093-0.33068490186674715j), (0.5043121164952218-0.4028510207075234j), (-0.5594497571648698-0.9204930147998167j), (-0.669606078775062-0.7242133500402267j), (0.2001506109383647-0.2678401247707099j), (0.5251056018422731+0.6133892995570935j), (1.400026047364793-0.2802529821583673j), (1.8611024919053398-0.006089342829765169j), (-1.3890744080551143-1.0497961482322926j), (1.0227050069892198-1.287430562523006j), (-1.248515282731511+0.4149982161534199j), (1.9652001014194167-0.5441463179630206j), (-1.0822590104562007-0.2702078874597571j), (0.5452895618505981-1.2825072174886143j), (1.8032358173255991-2.616547761153875j), (1.7529032289172797-0.4572158986161226j), (0.2670213778272838-1.2842082918475848j), (0.9879978162109369+1.0977183955200498j), (0.20383080705508286-0.026961436199018477j), (-0.3103316056341204-0.9516890736086003j), (-0.36612382327880744-0.43504259663923j), (-1.658936388954556-0.06310267679370903j), (-0.4833688147082189-1.4784707683827778j), (-1.1251348803027772+0.9873247209259832j), (1.1732580887360355-1.9384294454898678j), (-0.7168110509958284+0.23444576004840956j), (1.0083124122425857+0.8212739420699876j), (3.2222460412474545-0.026955013262084847j), (1.3964634656280146-0.7704960175759163j), (-0.4984308049006521-0.18451504070579933j), (-0.7708233787992044-0.903521824549227j), (-0.5982161553324943-0.6584720613551491j), (-0.1591290813232086+1.3547880167976891j), (0.9475625338610587+0.3005744745248203j), (-0.8134858771571215-0.43258932708340486j), (0.5832368489675804+0.9442064546924623j), (-0.029948513435098027-0.7616490974704887j), (2.9504731121340004-1.0804715204853717j), (-0.4393248380248499+0.15989813749866758j), (-0.35171240823567057-1.8939111715072394j), (-0.34440306422213735+0.39626960667887634j), (-0.4060313547675052+0.8568595866102059j), (1.745083145334181-0.09604158258465836j), (-0.3337284559784548+2.2244808283176543j), (0.2454027281223288+0.3287555705617753j), (1.6856286701593841-0.2438392728547134j), (1.5261933608459597+0.8312690087796692j), (-1.5831905407225066-1.9677551312609884j), (1.0168819913529452+0.544725698588166j), (0.4413677386373791-0.3841358152447539j), (0.434088254067711+0.24104980284886776j), (-1.6951598995772867-1.04994864298752j), (1.0304502778143698+0.8845797967784278j), (0.7442046831047254-0.4939605845428324j), (-0.3570680665837899+0.3530079448348039j), (-0.8826884797867297+0.392719508490729j), (0.04981189751029408+1.0373416853537716j), (-1.2036290254219455+0.8609610727014966j), (-0.40456535344656724+0.0029848848778992274j), (0.34279917268962495+1.2773808821455912j), (-0.30322461746724483-0.12123622582210404j), (-0.6849964283795442-0.9495033245426697j), (1.298949168363027-0.9507633858059569j), (0.5820347684296092-0.03080065260061217j), (0.686993565257266+0.8901080183892012j), (-0.7876123948341879-0.40782088541856104j), (-0.06871652652492138+0.2824715709651184j), (-1.1403880406863416+0.5347916493779485j), (0.9669466178981871-1.8196064251093755j), (0.372569147364426-0.8945890836249744j), (-0.05228953772795462-1.8017113662291573j), (0.5220747368697842-1.1040879246890987j), (0.10576151247287263+0.7276793275863408j), (-0.5651212998402235-0.48058999385816686j), (0.3962752707953422+1.74509778254043j), (-0.1997467420141733-0.38082091074079155j), (0.12731376341197193+0.762788868637346j), (-1.9246090848449422+1.6449434986807279j), (-0.8707584293551123+0.6229166767869555j), (0.1841345092307091-0.2140472948259377j), (-1.1801784027928535-1.3017031118663964j), (-2.064820622978648+0.9035729994945246j), (-0.15465199858357825+0.8137960182165118j), (-0.9747922329542422+1.2153765570003177j), (0.03730731702495565+0.3732051685895008j), (0.7638426684189111+0.9543336324094269j), (0.0601687922904481+0.7624751238755654j), (-0.5121609422331644-1.5442523599172293j), (-0.5498772487610151-2.0631342955261824j), (1.9279773401522318-0.270943434968589j), (-0.11718183644166591+1.4974882641937877j), (-1.3642303855232714+0.2924057130915926j), (1.0891021264994851-0.5999362846631793j), (-0.12816972674632685-0.8441017354206894j), (1.822486773106304+1.4951538456974376j), (0.8932214456654577+1.537778613468379j), (-0.08839450426282848-0.7502275022229913j), (-0.86305775005471+1.1255338464031017j), (1.342805684582578-0.11640359795851433j), (-0.9550028826992994+0.8419080805536949j), (-1.207376695474167-0.6999696130878025j), (0.5710221986561979+0.8455865342513321j), (1.342928768713657+0.26362378446122775j), (0.8374971346291792-0.5880662140331039j), (0.6794706346503815-0.557232094877376j), (0.8504069737422322+0.7753959988173483j), (0.36833235823286997+0.1850232907139446j), (-1.0381476964300118-0.5893996479865358j), (-0.29225379257519996-0.7431278813198622j), (-0.6681223630999603-0.646291069002624j), (0.07050274261568765+0.35516396381923904j), (0.492077844862248+1.367976044705653j), (1.5890139419556901+1.426624560720439j), (1.2598792981778897-0.06183633758271932j), (-0.02063896808302729-0.42628500723700113j)]\n",
      "exp_aK\n",
      "[[0, 0, 0, 0, 5], [0, 0, 0, 1, 4], [0, 0, 0, 2, 3], [0, 0, 0, 3, 2], [0, 0, 0, 4, 1], [0, 0, 0, 5, 0], [0, 0, 1, 0, 4], [0, 0, 1, 1, 3], [0, 0, 1, 2, 2], [0, 0, 1, 3, 1], [0, 0, 1, 4, 0], [0, 0, 2, 0, 3], [0, 0, 2, 1, 2], [0, 0, 2, 2, 1], [0, 0, 2, 3, 0], [0, 0, 3, 0, 2], [0, 0, 3, 1, 1], [0, 0, 3, 2, 0], [0, 0, 4, 0, 1], [0, 0, 4, 1, 0], [0, 0, 5, 0, 0], [0, 1, 0, 0, 4], [0, 1, 0, 1, 3], [0, 1, 0, 2, 2], [0, 1, 0, 3, 1], [0, 1, 0, 4, 0], [0, 1, 1, 0, 3], [0, 1, 1, 1, 2], [0, 1, 1, 2, 1], [0, 1, 1, 3, 0], [0, 1, 2, 0, 2], [0, 1, 2, 1, 1], [0, 1, 2, 2, 0], [0, 1, 3, 0, 1], [0, 1, 3, 1, 0], [0, 1, 4, 0, 0], [0, 2, 0, 0, 3], [0, 2, 0, 1, 2], [0, 2, 0, 2, 1], [0, 2, 0, 3, 0], [0, 2, 1, 0, 2], [0, 2, 1, 1, 1], [0, 2, 1, 2, 0], [0, 2, 2, 0, 1], [0, 2, 2, 1, 0], [0, 2, 3, 0, 0], [0, 3, 0, 0, 2], [0, 3, 0, 1, 1], [0, 3, 0, 2, 0], [0, 3, 1, 0, 1], [0, 3, 1, 1, 0], [0, 3, 2, 0, 0], [0, 4, 0, 0, 1], [0, 4, 0, 1, 0], [0, 4, 1, 0, 0], [0, 5, 0, 0, 0], [1, 0, 0, 0, 4], [1, 0, 0, 1, 3], [1, 0, 0, 2, 2], [1, 0, 0, 3, 1], [1, 0, 0, 4, 0], [1, 0, 1, 0, 3], [1, 0, 1, 1, 2], [1, 0, 1, 2, 1], [1, 0, 1, 3, 0], [1, 0, 2, 0, 2], [1, 0, 2, 1, 1], [1, 0, 2, 2, 0], [1, 0, 3, 0, 1], [1, 0, 3, 1, 0], [1, 0, 4, 0, 0], [1, 1, 0, 0, 3], [1, 1, 0, 1, 2], [1, 1, 0, 2, 1], [1, 1, 0, 3, 0], [1, 1, 1, 0, 2], [1, 1, 1, 1, 1], [1, 1, 1, 2, 0], [1, 1, 2, 0, 1], [1, 1, 2, 1, 0], [1, 1, 3, 0, 0], [1, 2, 0, 0, 2], [1, 2, 0, 1, 1], [1, 2, 0, 2, 0], [1, 2, 1, 0, 1], [1, 2, 1, 1, 0], [1, 2, 2, 0, 0], [1, 3, 0, 0, 1], [1, 3, 0, 1, 0], [1, 3, 1, 0, 0], [1, 4, 0, 0, 0], [2, 0, 0, 0, 3], [2, 0, 0, 1, 2], [2, 0, 0, 2, 1], [2, 0, 0, 3, 0], [2, 0, 1, 0, 2], [2, 0, 1, 1, 1], [2, 0, 1, 2, 0], [2, 0, 2, 0, 1], [2, 0, 2, 1, 0], [2, 0, 3, 0, 0], [2, 1, 0, 0, 2], [2, 1, 0, 1, 1], [2, 1, 0, 2, 0], [2, 1, 1, 0, 1], [2, 1, 1, 1, 0], [2, 1, 2, 0, 0], [2, 2, 0, 0, 1], [2, 2, 0, 1, 0], [2, 2, 1, 0, 0], [2, 3, 0, 0, 0], [3, 0, 0, 0, 2], [3, 0, 0, 1, 1], [3, 0, 0, 2, 0], [3, 0, 1, 0, 1], [3, 0, 1, 1, 0], [3, 0, 2, 0, 0], [3, 1, 0, 0, 1], [3, 1, 0, 1, 0], [3, 1, 1, 0, 0], [3, 2, 0, 0, 0], [4, 0, 0, 0, 1], [4, 0, 0, 1, 0], [4, 0, 1, 0, 0], [4, 1, 0, 0, 0], [5, 0, 0, 0, 0]]\n",
      "exps_sections\n",
      "[[[0, 0, 0, 0, 1], [0, 0, 0, 1, 0], [0, 0, 1, 0, 0], [0, 1, 0, 0, 0], [1, 0, 0, 0, 0]]]\n",
      "patch_masks\n",
      "[[0, 0, 0, 0, 1], [0, 0, 0, 1, 0], [0, 0, 1, 0, 0], [0, 1, 0, 0, 0], [1, 0, 0, 0, 0]]\n",
      "glsm_charges\n",
      "[[1, 1, 1, 1, 1]]\n",
      "non_ci_coeffs\n",
      "[]\n",
      "non_ci_exps\n",
      "[]\n",
      "triple\n",
      "[[[5]]]\n"
     ]
    }
   ],
   "source": [
    "dirname = 'fermat_pgtoric'\n",
    "with open(os.path.join(dirname, 'toric_data.pickle'), 'rb') as f:\n",
    "    toric_data = pickle.load(f)\n",
    "for key in toric_data:\n",
    "    print(key)\n",
    "    print(toric_data[key])"
   ]
  },
  {
   "cell_type": "markdown",
   "metadata": {},
   "source": [
    "We have the following keys:\n",
    "\n",
    "1. \"dim_cy\": contains the dimension of the Calabi-Yau.\n",
    "2. \"vol_j_norm\": information for normalization of weights.\n",
    "2. \"coeff_aK\": are generic complex coefficients in front of each of the defining hypersurface monomials, which you get from the Batyrev construction. Note: Those are by default complex valued as they represent a (redundant) description of the complex moduli.\n",
    "3. \"exp_aK\": is the monomial basis for the defining equation.\n",
    "4. \"exps_sections\": is a monomial basis for the sections of the kähler cone generators. This one will be needed to generate the integration weights and a Kähler metric in the same Kähler class as our Ricci-flat metric.\n",
    "5. \"patch_masks\": are (boolean) coordinate masks for all the patches in the TV.\n",
    "6. \"glsm_charges\": are the GLSM charges of the TV.\n",
    "7. \"non_ci_coeffs\": when sampling points, we use the projecitivized 0th cohomology class of the Kahler cone generators. There can be non-complete-intersection relations among the sections, which are encoded in the non_ci_coeffs and the non_ci_exps.\n",
    "8. \"non_ci_exps\": The exponents of all Kahler cone generator sections\n",
    "9. \"triple\": are the triple intersection numbers of the TV.\n",
    "\n",
    "Having loaded the toric_data we can initialize the ToricPointGenerator"
   ]
  },
  {
   "cell_type": "code",
   "execution_count": 34,
   "metadata": {},
   "outputs": [],
   "source": [
    "pgtoric_gen = ToricPointGenerator(toric_data, kmoduli)"
   ]
  },
  {
   "cell_type": "markdown",
   "metadata": {},
   "source": [
    "We now have a generic quintic with coefficients in front of all 125 monomials.\n",
    "\n",
    "What if we only want the Fermat Quintic? We can override the information in \"coeff_aK\" and \"exp_aK\" with e.g."
   ]
  },
  {
   "cell_type": "code",
   "execution_count": 35,
   "metadata": {},
   "outputs": [],
   "source": [
    "toric_data[\"coeff_aK\"] = coefficients\n",
    "toric_data[\"exp_aK\"] = monomials"
   ]
  },
  {
   "cell_type": "markdown",
   "metadata": {},
   "source": [
    "and"
   ]
  },
  {
   "cell_type": "code",
   "execution_count": 36,
   "metadata": {},
   "outputs": [],
   "source": [
    "pgtoric = ToricPointGenerator(toric_data, kmoduli)"
   ]
  },
  {
   "cell_type": "markdown",
   "metadata": {},
   "source": [
    "we continue just as before with creating a dataset"
   ]
  },
  {
   "cell_type": "code",
   "execution_count": 37,
   "metadata": {},
   "outputs": [
    {
     "name": "stderr",
     "output_type": "stream",
     "text": [
      "/Users/ruehle/venv-ml/lib/python3.8/site-packages/scipy/optimize/minpack.py:175: RuntimeWarning: The iteration is not making good progress, as measured by the \n",
      "  improvement from the last five Jacobian evaluations.\n",
      "  warnings.warn(msg, RuntimeWarning)\n",
      "/Users/ruehle/venv-ml/lib/python3.8/site-packages/scipy/optimize/minpack.py:175: RuntimeWarning: The iteration is not making good progress, as measured by the \n",
      "  improvement from the last ten iterations.\n",
      "  warnings.warn(msg, RuntimeWarning)\n",
      "/Users/ruehle/venv-ml/lib/python3.8/site-packages/scipy/optimize/minpack.py:175: RuntimeWarning: The iteration is not making good progress, as measured by the \n",
      "  improvement from the last ten iterations.\n",
      "  warnings.warn(msg, RuntimeWarning)\n",
      "/Users/ruehle/venv-ml/lib/python3.8/site-packages/scipy/optimize/minpack.py:175: RuntimeWarning: The iteration is not making good progress, as measured by the \n",
      "  improvement from the last five Jacobian evaluations.\n",
      "  warnings.warn(msg, RuntimeWarning)\n",
      "/Users/ruehle/venv-ml/lib/python3.8/site-packages/scipy/optimize/minpack.py:175: RuntimeWarning: The iteration is not making good progress, as measured by the \n",
      "  improvement from the last ten iterations.\n",
      "  warnings.warn(msg, RuntimeWarning)\n",
      "/Users/ruehle/venv-ml/lib/python3.8/site-packages/scipy/optimize/minpack.py:175: RuntimeWarning: The iteration is not making good progress, as measured by the \n",
      "  improvement from the last five Jacobian evaluations.\n",
      "  warnings.warn(msg, RuntimeWarning)\n",
      "/Users/ruehle/venv-ml/lib/python3.8/site-packages/scipy/optimize/minpack.py:175: RuntimeWarning: The iteration is not making good progress, as measured by the \n",
      "  improvement from the last ten iterations.\n",
      "  warnings.warn(msg, RuntimeWarning)\n",
      "/Users/ruehle/venv-ml/lib/python3.8/site-packages/scipy/optimize/minpack.py:175: RuntimeWarning: The iteration is not making good progress, as measured by the \n",
      "  improvement from the last five Jacobian evaluations.\n",
      "  warnings.warn(msg, RuntimeWarning)\n",
      "/Users/ruehle/venv-ml/lib/python3.8/site-packages/scipy/optimize/minpack.py:175: RuntimeWarning: The iteration is not making good progress, as measured by the \n",
      "  improvement from the last ten iterations.\n",
      "  warnings.warn(msg, RuntimeWarning)\n",
      "/Users/ruehle/venv-ml/lib/python3.8/site-packages/scipy/optimize/minpack.py:175: RuntimeWarning: The iteration is not making good progress, as measured by the \n",
      "  improvement from the last five Jacobian evaluations.\n",
      "  warnings.warn(msg, RuntimeWarning)\n",
      "/Users/ruehle/venv-ml/lib/python3.8/site-packages/scipy/optimize/minpack.py:175: RuntimeWarning: The iteration is not making good progress, as measured by the \n",
      "  improvement from the last ten iterations.\n",
      "  warnings.warn(msg, RuntimeWarning)\n",
      "/Users/ruehle/venv-ml/lib/python3.8/site-packages/scipy/optimize/minpack.py:175: RuntimeWarning: The iteration is not making good progress, as measured by the \n",
      "  improvement from the last five Jacobian evaluations.\n",
      "  warnings.warn(msg, RuntimeWarning)\n",
      "/Users/ruehle/venv-ml/lib/python3.8/site-packages/scipy/optimize/minpack.py:175: RuntimeWarning: The iteration is not making good progress, as measured by the \n",
      "  improvement from the last five Jacobian evaluations.\n",
      "  warnings.warn(msg, RuntimeWarning)\n",
      "/Users/ruehle/venv-ml/lib/python3.8/site-packages/scipy/optimize/minpack.py:175: RuntimeWarning: The iteration is not making good progress, as measured by the \n",
      "  improvement from the last ten iterations.\n",
      "  warnings.warn(msg, RuntimeWarning)\n",
      "/Users/ruehle/venv-ml/lib/python3.8/site-packages/scipy/optimize/minpack.py:175: RuntimeWarning: The iteration is not making good progress, as measured by the \n",
      "  improvement from the last ten iterations.\n",
      "  warnings.warn(msg, RuntimeWarning)\n",
      "/Users/ruehle/venv-ml/lib/python3.8/site-packages/scipy/optimize/minpack.py:175: RuntimeWarning: The iteration is not making good progress, as measured by the \n",
      "  improvement from the last five Jacobian evaluations.\n",
      "  warnings.warn(msg, RuntimeWarning)\n",
      "/Users/ruehle/venv-ml/lib/python3.8/site-packages/scipy/optimize/minpack.py:175: RuntimeWarning: The iteration is not making good progress, as measured by the \n",
      "  improvement from the last ten iterations.\n",
      "  warnings.warn(msg, RuntimeWarning)\n",
      "/Users/ruehle/venv-ml/lib/python3.8/site-packages/scipy/optimize/minpack.py:175: RuntimeWarning: The iteration is not making good progress, as measured by the \n",
      "  improvement from the last five Jacobian evaluations.\n",
      "  warnings.warn(msg, RuntimeWarning)\n",
      "/Users/ruehle/venv-ml/lib/python3.8/site-packages/scipy/optimize/minpack.py:175: RuntimeWarning: The iteration is not making good progress, as measured by the \n",
      "  improvement from the last five Jacobian evaluations.\n",
      "  warnings.warn(msg, RuntimeWarning)\n",
      "/Users/ruehle/venv-ml/lib/python3.8/site-packages/scipy/optimize/minpack.py:175: RuntimeWarning: The iteration is not making good progress, as measured by the \n",
      "  improvement from the last ten iterations.\n",
      "  warnings.warn(msg, RuntimeWarning)\n",
      "/Users/ruehle/venv-ml/lib/python3.8/site-packages/scipy/optimize/minpack.py:175: RuntimeWarning: The iteration is not making good progress, as measured by the \n",
      "  improvement from the last ten iterations.\n",
      "  warnings.warn(msg, RuntimeWarning)\n",
      "/Users/ruehle/venv-ml/lib/python3.8/site-packages/scipy/optimize/minpack.py:175: RuntimeWarning: The iteration is not making good progress, as measured by the \n",
      "  improvement from the last five Jacobian evaluations.\n",
      "  warnings.warn(msg, RuntimeWarning)\n",
      "/Users/ruehle/venv-ml/lib/python3.8/site-packages/scipy/optimize/minpack.py:175: RuntimeWarning: The iteration is not making good progress, as measured by the \n",
      "  improvement from the last ten iterations.\n",
      "  warnings.warn(msg, RuntimeWarning)\n",
      "/Users/ruehle/venv-ml/lib/python3.8/site-packages/scipy/optimize/minpack.py:175: RuntimeWarning: The iteration is not making good progress, as measured by the \n",
      "  improvement from the last five Jacobian evaluations.\n",
      "  warnings.warn(msg, RuntimeWarning)\n",
      "/Users/ruehle/venv-ml/lib/python3.8/site-packages/scipy/optimize/minpack.py:175: RuntimeWarning: The iteration is not making good progress, as measured by the \n",
      "  improvement from the last ten iterations.\n",
      "  warnings.warn(msg, RuntimeWarning)\n",
      "/Users/ruehle/venv-ml/lib/python3.8/site-packages/scipy/optimize/minpack.py:175: RuntimeWarning: The iteration is not making good progress, as measured by the \n",
      "  improvement from the last five Jacobian evaluations.\n",
      "  warnings.warn(msg, RuntimeWarning)\n",
      "/Users/ruehle/venv-ml/lib/python3.8/site-packages/scipy/optimize/minpack.py:175: RuntimeWarning: The iteration is not making good progress, as measured by the \n",
      "  improvement from the last ten iterations.\n",
      "  warnings.warn(msg, RuntimeWarning)\n",
      "/Users/ruehle/venv-ml/lib/python3.8/site-packages/scipy/optimize/minpack.py:175: RuntimeWarning: The iteration is not making good progress, as measured by the \n",
      "  improvement from the last five Jacobian evaluations.\n",
      "  warnings.warn(msg, RuntimeWarning)\n",
      "/Users/ruehle/venv-ml/lib/python3.8/site-packages/scipy/optimize/minpack.py:175: RuntimeWarning: The iteration is not making good progress, as measured by the \n",
      "  improvement from the last ten iterations.\n",
      "  warnings.warn(msg, RuntimeWarning)\n",
      "/Users/ruehle/venv-ml/lib/python3.8/site-packages/scipy/optimize/minpack.py:175: RuntimeWarning: The iteration is not making good progress, as measured by the \n",
      "  improvement from the last five Jacobian evaluations.\n",
      "  warnings.warn(msg, RuntimeWarning)\n",
      "/Users/ruehle/venv-ml/lib/python3.8/site-packages/scipy/optimize/minpack.py:175: RuntimeWarning: The iteration is not making good progress, as measured by the \n",
      "  improvement from the last ten iterations.\n",
      "  warnings.warn(msg, RuntimeWarning)\n",
      "/Users/ruehle/venv-ml/lib/python3.8/site-packages/scipy/optimize/minpack.py:175: RuntimeWarning: The iteration is not making good progress, as measured by the \n",
      "  improvement from the last five Jacobian evaluations.\n",
      "  warnings.warn(msg, RuntimeWarning)\n",
      "/Users/ruehle/venv-ml/lib/python3.8/site-packages/scipy/optimize/minpack.py:175: RuntimeWarning: The iteration is not making good progress, as measured by the \n",
      "  improvement from the last ten iterations.\n",
      "  warnings.warn(msg, RuntimeWarning)\n",
      "/Users/ruehle/venv-ml/lib/python3.8/site-packages/scipy/optimize/minpack.py:175: RuntimeWarning: The iteration is not making good progress, as measured by the \n",
      "  improvement from the last five Jacobian evaluations.\n",
      "  warnings.warn(msg, RuntimeWarning)\n",
      "/Users/ruehle/venv-ml/lib/python3.8/site-packages/scipy/optimize/minpack.py:175: RuntimeWarning: The iteration is not making good progress, as measured by the \n",
      "  improvement from the last ten iterations.\n",
      "  warnings.warn(msg, RuntimeWarning)\n",
      "/Users/ruehle/venv-ml/lib/python3.8/site-packages/scipy/optimize/minpack.py:175: RuntimeWarning: The iteration is not making good progress, as measured by the \n",
      "  improvement from the last five Jacobian evaluations.\n",
      "  warnings.warn(msg, RuntimeWarning)\n",
      "/Users/ruehle/venv-ml/lib/python3.8/site-packages/scipy/optimize/minpack.py:175: RuntimeWarning: The iteration is not making good progress, as measured by the \n",
      "  improvement from the last ten iterations.\n",
      "  warnings.warn(msg, RuntimeWarning)\n",
      "/Users/ruehle/venv-ml/lib/python3.8/site-packages/scipy/optimize/minpack.py:175: RuntimeWarning: The iteration is not making good progress, as measured by the \n",
      "  improvement from the last five Jacobian evaluations.\n",
      "  warnings.warn(msg, RuntimeWarning)\n",
      "/Users/ruehle/venv-ml/lib/python3.8/site-packages/scipy/optimize/minpack.py:175: RuntimeWarning: The iteration is not making good progress, as measured by the \n",
      "  improvement from the last ten iterations.\n",
      "  warnings.warn(msg, RuntimeWarning)\n",
      "/Users/ruehle/venv-ml/lib/python3.8/site-packages/scipy/optimize/minpack.py:175: RuntimeWarning: The iteration is not making good progress, as measured by the \n",
      "  improvement from the last five Jacobian evaluations.\n",
      "  warnings.warn(msg, RuntimeWarning)\n"
     ]
    },
    {
     "name": "stderr",
     "output_type": "stream",
     "text": [
      "/Users/ruehle/venv-ml/lib/python3.8/site-packages/scipy/optimize/minpack.py:175: RuntimeWarning: The iteration is not making good progress, as measured by the \n",
      "  improvement from the last ten iterations.\n",
      "  warnings.warn(msg, RuntimeWarning)\n",
      "/Users/ruehle/venv-ml/lib/python3.8/site-packages/scipy/optimize/minpack.py:175: RuntimeWarning: The iteration is not making good progress, as measured by the \n",
      "  improvement from the last ten iterations.\n",
      "  warnings.warn(msg, RuntimeWarning)\n",
      "/Users/ruehle/venv-ml/lib/python3.8/site-packages/scipy/optimize/minpack.py:175: RuntimeWarning: The iteration is not making good progress, as measured by the \n",
      "  improvement from the last five Jacobian evaluations.\n",
      "  warnings.warn(msg, RuntimeWarning)\n",
      "/Users/ruehle/venv-ml/lib/python3.8/site-packages/scipy/optimize/minpack.py:175: RuntimeWarning: The iteration is not making good progress, as measured by the \n",
      "  improvement from the last ten iterations.\n",
      "  warnings.warn(msg, RuntimeWarning)\n",
      "/Users/ruehle/venv-ml/lib/python3.8/site-packages/scipy/optimize/minpack.py:175: RuntimeWarning: The iteration is not making good progress, as measured by the \n",
      "  improvement from the last five Jacobian evaluations.\n",
      "  warnings.warn(msg, RuntimeWarning)\n",
      "/Users/ruehle/venv-ml/lib/python3.8/site-packages/scipy/optimize/minpack.py:175: RuntimeWarning: The iteration is not making good progress, as measured by the \n",
      "  improvement from the last ten iterations.\n",
      "  warnings.warn(msg, RuntimeWarning)\n",
      "/Users/ruehle/venv-ml/lib/python3.8/site-packages/scipy/optimize/minpack.py:175: RuntimeWarning: The iteration is not making good progress, as measured by the \n",
      "  improvement from the last ten iterations.\n",
      "  warnings.warn(msg, RuntimeWarning)\n",
      "/Users/ruehle/venv-ml/lib/python3.8/site-packages/scipy/optimize/minpack.py:175: RuntimeWarning: The iteration is not making good progress, as measured by the \n",
      "  improvement from the last five Jacobian evaluations.\n",
      "  warnings.warn(msg, RuntimeWarning)\n",
      "/Users/ruehle/venv-ml/lib/python3.8/site-packages/scipy/optimize/minpack.py:175: RuntimeWarning: The iteration is not making good progress, as measured by the \n",
      "  improvement from the last ten iterations.\n",
      "  warnings.warn(msg, RuntimeWarning)\n",
      "/Users/ruehle/venv-ml/lib/python3.8/site-packages/scipy/optimize/minpack.py:175: RuntimeWarning: The iteration is not making good progress, as measured by the \n",
      "  improvement from the last ten iterations.\n",
      "  warnings.warn(msg, RuntimeWarning)\n",
      "/Users/ruehle/venv-ml/lib/python3.8/site-packages/scipy/optimize/minpack.py:175: RuntimeWarning: The iteration is not making good progress, as measured by the \n",
      "  improvement from the last ten iterations.\n",
      "  warnings.warn(msg, RuntimeWarning)\n",
      "pointgen:INFO:Vol_k: 0.16666666666666663, Vol_cy: 9.885505524934343.\n"
     ]
    }
   ],
   "source": [
    "kappa = pgtoric.prepare_dataset(n_p, dirname)"
   ]
  },
  {
   "cell_type": "markdown",
   "metadata": {},
   "source": [
    "We note, that the data generation again took quite some time even though there should just be a single hypersurface. We also optimize w.r.t. to the sections coming from the Kähler generators and thus have more than a single hypersurface to consider.\n",
    "\n",
    "We create the *BASIS* containing all information for the TensorFlow models:"
   ]
  },
  {
   "cell_type": "code",
   "execution_count": 38,
   "metadata": {
    "collapsed": true
   },
   "outputs": [
    {
     "name": "stdout",
     "output_type": "stream",
     "text": [
      "DQDZB0\n",
      "DQDZF0\n",
      "QB0\n",
      "QF0\n",
      "NFOLD\n",
      "AMBIENT\n",
      "KMODULI\n",
      "NHYPER\n",
      "KAPPA\n"
     ]
    }
   ],
   "source": [
    "pgtoric.prepare_basis(dirname, kappa)\n",
    "with open(os.path.join(dirname, 'basis.pickle'), 'rb') as f:\n",
    "    basis = pickle.load(f)\n",
    "for key in basis:\n",
    "    print(key)"
   ]
  },
  {
   "cell_type": "markdown",
   "metadata": {},
   "source": [
    "## ToricPointGeneratorMathematica\n",
    "\n",
    "The *ToricPointGeneratorMathematica* requires both [SageMath](https://www.sagemath.org/) and Mathematica. SageMath does the toric computations and Mathematica the rest. The *toric_data* can be straightforwardly generated in any sage kernel that has access to the *cymetric* package. In praxis only a single module is needed which can be found [here](../cymetric/sage/sagelib.py). Alternatively, you can run the generator directly from within SageMath, as illustrated in another notebook.\n",
    "\n",
    "The next cell won't work in your regular python notebook because it requires some sage routines for toric geometry and Mathematica. See [here](https://doc.sagemath.org/html/en/reference/schemes/sage/schemes/toric/variety.html) for more information about toric varieties and their implementation in sage and [here](https://doc.sagemath.org/html/en/reference/discrete_geometry/sage/geometry/triangulation/point_configuration.html) for information about triangulations of PointCollections. For Mathematica interop, it uses the [wolframclient](https://reference.wolfram.com/language/WolframClientForPython/) for interop.\n",
    "\n",
    "We begin by setting up the quintic vertices, which define the fan of the toric ambient variety. After initialising said variety we load the *prepare_toric_cy_data()* routine and generate the neccessary data for the *ToricPointGenerator* and the toric TensorFlow models."
   ]
  },
  {
   "cell_type": "code",
   "execution_count": 39,
   "metadata": {},
   "outputs": [],
   "source": [
    "#from cymetric.sage.sagelib import prepare_toric_cy_data\n",
    "#import os as os\n",
    "## Quintic vertices\n",
    "#vertices = [\n",
    "#    [1, 0, 0, 0], [0, 1, 0, 0], [0, 0, 1, 0], [0, 0, 0, 1], [-1, -1, -1, -1]\n",
    "#]\n",
    "#origin = [0 for _ in range(len(vertices[0]))]\n",
    "#polytope = LatticePolytope(vertices)\n",
    "#pConfig = PointConfiguration(polytope.points(), star=origin)\n",
    "##set to topcom for more efficient triangulations\n",
    "#pConfig.set_engine(\"TOPCOM\")\n",
    "## restrict to fine star regular.\n",
    "#triangulations = pConfig.restrict_to_connected_triangulations()\n",
    "#triangulations = triangulations.restrict_to_fine_triangulations()\n",
    "#triangulations = triangulations.restrict_to_regular_triangulations()\n",
    "#triangulations = triangulations.restrict_to_star_triangulations(origin)\n",
    "##take first triangulation; build fan and TV\n",
    "#triang = triangulations.triangulate()\n",
    "#tv_fan = triang.fan()\n",
    "#TV = ToricVariety(tv_fan)\n",
    "#fname = os.path.join('fermat_pgtoricmath', 'toric_data.pickle')\n",
    "#toric_data = prepare_toric_cy_data(TV, fname)"
   ]
  },
  {
   "cell_type": "markdown",
   "metadata": {},
   "source": [
    "We are now in a position to go back to our regular python kernel or simply continue in Sage and load the *PointGeneratorToricMathematica*."
   ]
  },
  {
   "cell_type": "code",
   "execution_count": 40,
   "metadata": {},
   "outputs": [],
   "source": [
    "from cymetric.pointgen.pointgen_mathematica import ToricPointGeneratorMathematica"
   ]
  },
  {
   "cell_type": "markdown",
   "metadata": {},
   "source": [
    "Let us look at the information that has been written to *toric_data.pickle*."
   ]
  },
  {
   "cell_type": "code",
   "execution_count": 41,
   "metadata": {
    "collapsed": true
   },
   "outputs": [
    {
     "name": "stdout",
     "output_type": "stream",
     "text": [
      "dim_cy\n",
      "3\n",
      "vol_j_norm\n",
      "5\n",
      "coeff_aK\n",
      "[(-1.8851758590149366-1.0023796265056208j), (0.7083339276542457+0.5009872028208451j), (0.182532049835049-0.1575419242000457j), (1.795218301896978+1.0073604313746594j), (0.629522461267164+0.9941457031010853j), (0.5372338156061082-1.8092652590248741j), (0.05039194073155834+1.3656474925420432j), (-0.4041826757286023+0.047911156252192784j), (1.055382932361993-0.1490467504532j), (0.5042956814404236+0.30841249007472843j), (0.06410126743413685-0.3944267413321801j), (-2.022885459561039+0.13476846247981314j), (-1.3229848501829362-1.4438208929958236j), (-0.5803298774395057+3.100192044049449j), (-0.187265990698619-0.054258692637548255j), (1.6249141158277602+0.5329414210540336j), (-1.667573739609128-0.24827539878229274j), (0.018729327473263703+0.8512676413517416j), (0.21623546231508162+0.5352824719072519j), (0.10665237730126913+1.4396425732309994j), (0.8672685331832719+0.16329788481272076j), (0.6866252729141735-0.035837034560163974j), (0.6307241675496931-1.1345313332335756j), (1.5972205137897686-0.175408744769373j), (0.9183101712747238-1.5640477101870325j), (0.3728872517663494-0.43454409037671476j), (1.0231266843746227+0.7965946609945919j), (0.6238481878485259-0.38154472552261937j), (-0.757298043554736+1.0728195295214518j), (-1.1277721909990215+0.3733563752021191j), (-2.876964912431034+1.1586733669013793j), (1.3424370287060463-0.980886245590352j), (0.5597854359861191+0.17159869509965592j), (0.10924578348804573-0.703670078629143j), (-0.17821848356758932-0.5036898219419811j), (0.6119752226541199+1.2908876104258256j), (-0.28471316837635485-1.092712483927088j), (-1.4985705908967089+0.5941862465338339j), (-1.2151503998015214+0.02823333558516624j), (2.0124171974323826-0.5215978828413634j), (1.925644955964863-1.9032068928592347j), (-0.7273635119898031-2.3527482408924247j), (0.1845687455116133+0.5557067679842447j), (0.4155975943574252-1.556705941515025j), (0.004325167431705582-0.5942743636749389j), (0.6786524444857464+1.845521124220069j), (-0.17179444121163975+0.05505206800953446j), (0.26171668382076885+1.0657106495661277j), (-0.8813041490571137+0.44420884368378777j), (1.3648349265600666+2.307144217764334j), (-1.403272856788559+0.34488522641840214j), (0.4660156017155777+0.24791392874862828j), (0.014938829542538789-0.12789623577846856j), (-0.2740400014370845+0.015636084025570495j), (0.004687876829694645-0.13634868641443595j), (0.06746758740797208-0.959381760327615j), (-0.08732179813932579+0.5387607365141567j), (0.1287005848199794-0.30655130875233566j), (1.4045851148447206+0.8925914318569961j), (-0.058649395481124154+1.502995475481117j), (0.5260296012992158+0.2639875413798302j), (1.329103768106966-0.48137791091436116j), (1.6025025966847706+1.562403777060326j), (-0.5924464262330359+0.5644697674202356j), (-0.14939590782012788+0.6258612887781878j), (0.6794233857123249-0.4472093209642588j), (-0.7118134096204565-1.8214268505474478j), (-2.077306808334603-0.37338863300306285j), (0.25679010003372804+0.800961038995934j), (1.5878908990514111-1.4766423570767682j), (-1.7628057344487773+0.5580036808307216j), (1.3761216809937564+1.1971390243058297j), (0.6035609487718182-0.8364269855688168j), (0.04703102273780039-0.23741201648473353j), (0.6916584862832591-0.8773283736215739j), (1.255563304096013+0.29721676577752254j), (-0.44714571589635+0.4263110161222139j), (-0.9069200752548943-0.050403801814908764j), (-0.0654730626410062+0.32305587853914147j), (-1.589538429519027+0.2757462694007566j), (0.986353585227568+0.20820477706282142j), (-0.4015737645547667+0.08216414182256536j), (-2.0470806768809227-0.10455041768858427j), (1.1337129057612785+1.744178877690778j), (-0.5010315044672484+0.14576903159376414j), (0.27994865466937935-0.629754540602776j), (1.518821259966628+0.6229836602805994j), (-0.0820887708811963+0.6028174323960604j), (-0.4343367798089362+0.004369190522943196j), (-0.24522633280509867+2.666415088581078j), (0.8975592012850562-1.719588978415266j), (-0.7375206934607605+0.8571020177913296j), (-1.0168064548684121+0.3169134727817959j), (-0.1267233316394447-0.6540254197285184j), (0.042565563122608084+1.4040946283316909j), (0.9145087153784512-0.21202540094082295j), (-0.5748595133744047-0.10774086992258054j), (0.9761675261516553+0.17346098579281313j), (0.06705328974487174-0.2082716473041224j), (1.04735043450552+1.9427112693267692j), (0.023797349108581365+0.8068413968639363j), (-1.2172504791010041-0.8188701832957478j), (-1.0937904615802236-0.20361519119243593j), (0.6455618120750513-0.5017869851980106j), (0.07179704745573569+0.5336695257109998j), (0.015238868503663756-0.6514393103390621j), (-0.19791392189546483+1.5627308848405406j), (0.8518059728526347-0.5694194520531661j), (-0.6679009177603-0.9466817942646736j), (0.9003310040256037-0.04379173721209945j), (-0.5975020685493346+0.4134873988874006j), (0.08781195665874005+0.442414539738211j), (-0.5900249951833718+0.6461135148593375j), (-0.1273293441551238-0.388858853188491j), (-0.07287579217514721+0.16550138882823495j), (0.15434156003751132+0.7579122826060776j), (0.6127327460963132-0.16543481072730631j), (-1.3808052251693521+1.130694417264292j), (0.6465548644302651+1.8424067850046155j), (0.9401697746060981-0.03585461660589091j), (1.0137528693112785-0.7759993885240128j), (1.862132666679648-1.06279307114608j), (-0.4379565137645926+0.8582725555205294j), (1.5800177284946408-1.1639784213631252j), (0.9928431406039149-0.8511348235394137j), (0.7381157172437544+1.00546328188139j)]\n",
      "exp_aK\n",
      "[[0, 0, 0, 0, 5], [0, 0, 0, 1, 4], [0, 0, 0, 2, 3], [0, 0, 0, 3, 2], [0, 0, 0, 4, 1], [0, 0, 0, 5, 0], [0, 0, 1, 0, 4], [0, 0, 1, 1, 3], [0, 0, 1, 2, 2], [0, 0, 1, 3, 1], [0, 0, 1, 4, 0], [0, 0, 2, 0, 3], [0, 0, 2, 1, 2], [0, 0, 2, 2, 1], [0, 0, 2, 3, 0], [0, 0, 3, 0, 2], [0, 0, 3, 1, 1], [0, 0, 3, 2, 0], [0, 0, 4, 0, 1], [0, 0, 4, 1, 0], [0, 0, 5, 0, 0], [0, 1, 0, 0, 4], [0, 1, 0, 1, 3], [0, 1, 0, 2, 2], [0, 1, 0, 3, 1], [0, 1, 0, 4, 0], [0, 1, 1, 0, 3], [0, 1, 1, 1, 2], [0, 1, 1, 2, 1], [0, 1, 1, 3, 0], [0, 1, 2, 0, 2], [0, 1, 2, 1, 1], [0, 1, 2, 2, 0], [0, 1, 3, 0, 1], [0, 1, 3, 1, 0], [0, 1, 4, 0, 0], [0, 2, 0, 0, 3], [0, 2, 0, 1, 2], [0, 2, 0, 2, 1], [0, 2, 0, 3, 0], [0, 2, 1, 0, 2], [0, 2, 1, 1, 1], [0, 2, 1, 2, 0], [0, 2, 2, 0, 1], [0, 2, 2, 1, 0], [0, 2, 3, 0, 0], [0, 3, 0, 0, 2], [0, 3, 0, 1, 1], [0, 3, 0, 2, 0], [0, 3, 1, 0, 1], [0, 3, 1, 1, 0], [0, 3, 2, 0, 0], [0, 4, 0, 0, 1], [0, 4, 0, 1, 0], [0, 4, 1, 0, 0], [0, 5, 0, 0, 0], [1, 0, 0, 0, 4], [1, 0, 0, 1, 3], [1, 0, 0, 2, 2], [1, 0, 0, 3, 1], [1, 0, 0, 4, 0], [1, 0, 1, 0, 3], [1, 0, 1, 1, 2], [1, 0, 1, 2, 1], [1, 0, 1, 3, 0], [1, 0, 2, 0, 2], [1, 0, 2, 1, 1], [1, 0, 2, 2, 0], [1, 0, 3, 0, 1], [1, 0, 3, 1, 0], [1, 0, 4, 0, 0], [1, 1, 0, 0, 3], [1, 1, 0, 1, 2], [1, 1, 0, 2, 1], [1, 1, 0, 3, 0], [1, 1, 1, 0, 2], [1, 1, 1, 1, 1], [1, 1, 1, 2, 0], [1, 1, 2, 0, 1], [1, 1, 2, 1, 0], [1, 1, 3, 0, 0], [1, 2, 0, 0, 2], [1, 2, 0, 1, 1], [1, 2, 0, 2, 0], [1, 2, 1, 0, 1], [1, 2, 1, 1, 0], [1, 2, 2, 0, 0], [1, 3, 0, 0, 1], [1, 3, 0, 1, 0], [1, 3, 1, 0, 0], [1, 4, 0, 0, 0], [2, 0, 0, 0, 3], [2, 0, 0, 1, 2], [2, 0, 0, 2, 1], [2, 0, 0, 3, 0], [2, 0, 1, 0, 2], [2, 0, 1, 1, 1], [2, 0, 1, 2, 0], [2, 0, 2, 0, 1], [2, 0, 2, 1, 0], [2, 0, 3, 0, 0], [2, 1, 0, 0, 2], [2, 1, 0, 1, 1], [2, 1, 0, 2, 0], [2, 1, 1, 0, 1], [2, 1, 1, 1, 0], [2, 1, 2, 0, 0], [2, 2, 0, 0, 1], [2, 2, 0, 1, 0], [2, 2, 1, 0, 0], [2, 3, 0, 0, 0], [3, 0, 0, 0, 2], [3, 0, 0, 1, 1], [3, 0, 0, 2, 0], [3, 0, 1, 0, 1], [3, 0, 1, 1, 0], [3, 0, 2, 0, 0], [3, 1, 0, 0, 1], [3, 1, 0, 1, 0], [3, 1, 1, 0, 0], [3, 2, 0, 0, 0], [4, 0, 0, 0, 1], [4, 0, 0, 1, 0], [4, 0, 1, 0, 0], [4, 1, 0, 0, 0], [5, 0, 0, 0, 0]]\n",
      "exps_sections\n",
      "[[[0, 0, 0, 0, 1], [0, 0, 0, 1, 0], [0, 0, 1, 0, 0], [0, 1, 0, 0, 0], [1, 0, 0, 0, 0]]]\n",
      "patch_masks\n",
      "[[0, 0, 0, 0, 1], [0, 0, 0, 1, 0], [0, 0, 1, 0, 0], [0, 1, 0, 0, 0], [1, 0, 0, 0, 0]]\n",
      "glsm_charges\n",
      "[[1, 1, 1, 1, 1]]\n",
      "non_ci_coeffs\n",
      "[]\n",
      "non_ci_exps\n",
      "[]\n",
      "triple\n",
      "[[[5]]]\n"
     ]
    }
   ],
   "source": [
    "dirname = 'fermat_pgtoricmath'\n",
    "with open(os.path.join(dirname, 'toric_data.pickle'), 'rb') as f:\n",
    "    toric_data = pickle.load(f)\n",
    "for key in toric_data:\n",
    "    print(key)\n",
    "    print(toric_data[key])"
   ]
  },
  {
   "cell_type": "markdown",
   "metadata": {},
   "source": [
    "We have the following keys:\n",
    "\n",
    "1. \"dim_cy\": contains the dimension of the Calabi-Yau.\n",
    "2. \"vol_j_norm\": information for normalization of weights.\n",
    "2. \"coeff_aK\": are generic complex coefficients in front of each of the defining hypersurface monomials, which you get from the Batyrev construction. Note: Those are by default complex valued as they represent a (redundant) description of the complex moduli.\n",
    "3. \"exp_aK\": is the monomial basis for the defining equation.\n",
    "4. \"exps_sections\": is a monomial basis for the sections of the kähler cone generators. This one will be needed to generate the integration weights and a Kähler metric in the same Kähler class as our Ricci-flat metric.\n",
    "5. \"patch_masks\": are (boolean) coordinate masks for all the patches in the TV.\n",
    "6. \"glsm_charges\": are the GLSM charges of the TV.\n",
    "7. \"non_ci_coeffs\": when sampling points, we use the projecitivized 0th cohomology class of the Kahler cone generators. There can be non-complete-intersection relations among the sections, which are encoded in the non_ci_coeffs and the non_ci_exps.\n",
    "8. \"non_ci_exps\": The exponents of all Kahler cone generator sections\n",
    "9. \"triple\": are the triple intersection numbers of the TV.\n",
    "\n",
    "Having loaded the toric_data we can initialize the ToricPointGenerator"
   ]
  },
  {
   "cell_type": "code",
   "execution_count": 42,
   "metadata": {},
   "outputs": [],
   "source": [
    "pgtoricmath_gen = ToricPointGeneratorMathematica(toric_data, kmoduli)"
   ]
  },
  {
   "cell_type": "markdown",
   "metadata": {},
   "source": [
    "We now have a generic quintic with coefficients in front of all 125 monomials.\n",
    "\n",
    "What if we only want the Fermat Quintic? We can override the information in \"coeff_aK\" and \"exp_aK\" with e.g."
   ]
  },
  {
   "cell_type": "code",
   "execution_count": 43,
   "metadata": {},
   "outputs": [],
   "source": [
    "toric_data[\"coeff_aK\"] = coefficients\n",
    "toric_data[\"exp_aK\"] = monomials"
   ]
  },
  {
   "cell_type": "markdown",
   "metadata": {},
   "source": [
    "and"
   ]
  },
  {
   "cell_type": "code",
   "execution_count": 44,
   "metadata": {},
   "outputs": [],
   "source": [
    "pgtoricmath = ToricPointGeneratorMathematica(toric_data, kmoduli)"
   ]
  },
  {
   "cell_type": "markdown",
   "metadata": {},
   "source": [
    "we continue just as before with creating a dataset"
   ]
  },
  {
   "cell_type": "code",
   "execution_count": 45,
   "metadata": {},
   "outputs": [
    {
     "name": "stderr",
     "output_type": "stream",
     "text": [
      "WolframKernel-<tcp://127.0.0.1:52450>:INFO:Connected to logging socket: tcp://127.0.0.1:52450\n",
      "WolframKernel-<tcp://127.0.0.1:52450>:INFO:Number of points on CY from one ambient space intersection: 5\n",
      "WolframKernel-<tcp://127.0.0.1:52450>:INFO:Now generating 100000 points...\n",
      "WolframKernel-<tcp://127.0.0.1:52450>:INFO:Generated 0% of points\n",
      "WolframKernel-<tcp://127.0.0.1:52450>:INFO:Generated 5% of points\n",
      "WolframKernel-<tcp://127.0.0.1:52450>:INFO:Generated 10% of points\n",
      "WolframKernel-<tcp://127.0.0.1:52450>:INFO:Generated 15% of points\n",
      "WolframKernel-<tcp://127.0.0.1:52450>:INFO:Generated 20% of points\n",
      "WolframKernel-<tcp://127.0.0.1:52450>:INFO:Generated 25% of points\n",
      "WolframKernel-<tcp://127.0.0.1:52450>:INFO:Generated 30% of points\n",
      "WolframKernel-<tcp://127.0.0.1:52450>:INFO:Generated 35% of points\n",
      "WolframKernel-<tcp://127.0.0.1:52450>:INFO:Generated 40% of points\n",
      "WolframKernel-<tcp://127.0.0.1:52450>:INFO:Generated 45% of points\n",
      "WolframKernel-<tcp://127.0.0.1:52450>:INFO:Generated 50% of points\n",
      "WolframKernel-<tcp://127.0.0.1:52450>:INFO:Generated 55% of points\n",
      "WolframKernel-<tcp://127.0.0.1:52450>:INFO:Generated 60% of points\n",
      "WolframKernel-<tcp://127.0.0.1:52450>:INFO:Generated 65% of points\n",
      "WolframKernel-<tcp://127.0.0.1:52450>:INFO:Generated 70% of points\n",
      "WolframKernel-<tcp://127.0.0.1:52450>:INFO:Generated 75% of points\n",
      "WolframKernel-<tcp://127.0.0.1:52450>:INFO:Generated 80% of points\n",
      "WolframKernel-<tcp://127.0.0.1:52450>:INFO:Generated 85% of points\n",
      "WolframKernel-<tcp://127.0.0.1:52450>:INFO:Generated 90% of points\n",
      "WolframKernel-<tcp://127.0.0.1:52450>:INFO:Generated 95% of points\n",
      "WolframKernel-<tcp://127.0.0.1:52450>:INFO:done.\n",
      "pointgen:INFO:Vol_k: 0.8333333333333335, Vol_cy: 47.363846346615574.\n"
     ]
    }
   ],
   "source": [
    "kappa = pgtoricmath.prepare_dataset(n_p, dirname)"
   ]
  },
  {
   "cell_type": "markdown",
   "metadata": {},
   "source": [
    "We note, that the data generation again took quite some time even though there should just be a single hypersurface. We also optimize w.r.t. to the sections coming from the Kähler generators and thus have more than a single hypersurface to consider.\n",
    "\n",
    "We create the *BASIS* containing all information for the TensorFlow models:"
   ]
  },
  {
   "cell_type": "code",
   "execution_count": 47,
   "metadata": {},
   "outputs": [
    {
     "name": "stdout",
     "output_type": "stream",
     "text": [
      "DQDZB0\n",
      "DQDZF0\n",
      "QB0\n",
      "QF0\n",
      "NFOLD\n",
      "AMBIENT\n",
      "KMODULI\n",
      "NHYPER\n",
      "KAPPA\n"
     ]
    }
   ],
   "source": [
    "pgtoricmath.prepare_basis(dirname, kappa)\n",
    "with open(os.path.join(dirname, 'basis.pickle'), 'rb') as f:\n",
    "    basis = pickle.load(f)\n",
    "for key in basis:\n",
    "    print(key)"
   ]
  },
  {
   "cell_type": "markdown",
   "metadata": {},
   "source": [
    "## Final remarks"
   ]
  },
  {
   "cell_type": "markdown",
   "metadata": {},
   "source": [
    "In the next notebook we will load the *basis.pickle* and *toric_data.pickle* for the TensorFlow model. The information in *basis.pickle* will override what is written in *toric_data.pickle* so that the models know we want to work with the Fermat and not some generic quintic.\n",
    "\n",
    "We can also check if the points are all on the fermat:"
   ]
  },
  {
   "cell_type": "code",
   "execution_count": 48,
   "metadata": {},
   "outputs": [],
   "source": [
    "data = np.load(os.path.join(dirname, 'dataset.npz'))\n",
    "points = data['X_val'][:,0:pg.ncoords]+1.j*data['X_val'][:,pg.ncoords:]"
   ]
  },
  {
   "cell_type": "markdown",
   "metadata": {},
   "source": [
    "using the regular *PointGenerator*"
   ]
  },
  {
   "cell_type": "code",
   "execution_count": 49,
   "metadata": {},
   "outputs": [
    {
     "data": {
      "text/plain": [
       "1.0"
      ]
     },
     "execution_count": 49,
     "metadata": {},
     "output_type": "execute_result"
    }
   ],
   "source": [
    "np.sum(np.isclose(np.abs(pg.cy_condition(points)), 0))/len(points)"
   ]
  },
  {
   "cell_type": "markdown",
   "metadata": {},
   "source": [
    "the CICY"
   ]
  },
  {
   "cell_type": "code",
   "execution_count": 50,
   "metadata": {},
   "outputs": [
    {
     "data": {
      "text/plain": [
       "1.0"
      ]
     },
     "execution_count": 50,
     "metadata": {},
     "output_type": "execute_result"
    }
   ],
   "source": [
    "np.sum(np.isclose(np.abs(pgcicy.cy_condition(points)), 0))/len(points)"
   ]
  },
  {
   "cell_type": "markdown",
   "metadata": {},
   "source": [
    "the Mathematica"
   ]
  },
  {
   "cell_type": "code",
   "execution_count": 52,
   "metadata": {},
   "outputs": [
    {
     "data": {
      "text/plain": [
       "1.0"
      ]
     },
     "execution_count": 52,
     "metadata": {},
     "output_type": "execute_result"
    }
   ],
   "source": [
    "np.sum(np.isclose(np.abs(pgmath.cy_condition(points)), 0))/len(points)"
   ]
  },
  {
   "cell_type": "markdown",
   "metadata": {},
   "source": [
    "the toric"
   ]
  },
  {
   "cell_type": "code",
   "execution_count": 53,
   "metadata": {
    "scrolled": true
   },
   "outputs": [
    {
     "data": {
      "text/plain": [
       "1.0"
      ]
     },
     "execution_count": 53,
     "metadata": {},
     "output_type": "execute_result"
    }
   ],
   "source": [
    "np.sum(np.isclose(np.abs(pgtoric.cy_condition(points)), 0))/len(points)"
   ]
  },
  {
   "cell_type": "markdown",
   "metadata": {},
   "source": [
    "and the toric mathematica point generators"
   ]
  },
  {
   "cell_type": "code",
   "execution_count": 54,
   "metadata": {},
   "outputs": [
    {
     "data": {
      "text/plain": [
       "1.0"
      ]
     },
     "execution_count": 54,
     "metadata": {},
     "output_type": "execute_result"
    }
   ],
   "source": [
    "np.sum(np.isclose(np.abs(pgtoricmath.cy_condition(points)), 0))/len(points)"
   ]
  },
  {
   "cell_type": "code",
   "execution_count": null,
   "metadata": {},
   "outputs": [],
   "source": []
  }
 ],
 "metadata": {
  "kernelspec": {
   "display_name": "venv-ml",
   "language": "python",
   "name": "venv-ml"
  },
  "language_info": {
   "codemirror_mode": {
    "name": "ipython",
    "version": 3
   },
   "file_extension": ".py",
   "mimetype": "text/x-python",
   "name": "python",
   "nbconvert_exporter": "python",
   "pygments_lexer": "ipython3",
   "version": "3.8.9"
  }
 },
 "nbformat": 4,
 "nbformat_minor": 4
}
